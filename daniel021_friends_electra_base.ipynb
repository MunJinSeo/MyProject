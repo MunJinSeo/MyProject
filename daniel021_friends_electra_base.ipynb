{
  "nbformat": 4,
  "nbformat_minor": 0,
  "metadata": {
    "colab": {
      "name": "daniel021_friends_electra_base.ipynb",
      "provenance": [],
      "collapsed_sections": [],
      "toc_visible": true,
      "machine_shape": "hm",
      "include_colab_link": true
    },
    "kernelspec": {
      "name": "python3",
      "display_name": "Python 3"
    },
    "accelerator": "GPU",
    "widgets": {
      "application/vnd.jupyter.widget-state+json": {
        "1fa07951b2164ec4abe5d9161c782213": {
          "model_module": "@jupyter-widgets/controls",
          "model_name": "HBoxModel",
          "state": {
            "_view_name": "HBoxView",
            "_dom_classes": [],
            "_model_name": "HBoxModel",
            "_view_module": "@jupyter-widgets/controls",
            "_model_module_version": "1.5.0",
            "_view_count": null,
            "_view_module_version": "1.5.0",
            "box_style": "",
            "layout": "IPY_MODEL_92213dcf596148728ce24334fb792968",
            "_model_module": "@jupyter-widgets/controls",
            "children": [
              "IPY_MODEL_3bb41ab60650408798e17b7633fa3367",
              "IPY_MODEL_6b82e2c5ef60425598d4d41af73de976"
            ]
          }
        },
        "92213dcf596148728ce24334fb792968": {
          "model_module": "@jupyter-widgets/base",
          "model_name": "LayoutModel",
          "state": {
            "_view_name": "LayoutView",
            "grid_template_rows": null,
            "right": null,
            "justify_content": null,
            "_view_module": "@jupyter-widgets/base",
            "overflow": null,
            "_model_module_version": "1.2.0",
            "_view_count": null,
            "flex_flow": null,
            "width": null,
            "min_width": null,
            "border": null,
            "align_items": null,
            "bottom": null,
            "_model_module": "@jupyter-widgets/base",
            "top": null,
            "grid_column": null,
            "overflow_y": null,
            "overflow_x": null,
            "grid_auto_flow": null,
            "grid_area": null,
            "grid_template_columns": null,
            "flex": null,
            "_model_name": "LayoutModel",
            "justify_items": null,
            "grid_row": null,
            "max_height": null,
            "align_content": null,
            "visibility": null,
            "align_self": null,
            "height": null,
            "min_height": null,
            "padding": null,
            "grid_auto_rows": null,
            "grid_gap": null,
            "max_width": null,
            "order": null,
            "_view_module_version": "1.2.0",
            "grid_template_areas": null,
            "object_position": null,
            "object_fit": null,
            "grid_auto_columns": null,
            "margin": null,
            "display": null,
            "left": null
          }
        },
        "3bb41ab60650408798e17b7633fa3367": {
          "model_module": "@jupyter-widgets/controls",
          "model_name": "FloatProgressModel",
          "state": {
            "_view_name": "ProgressView",
            "style": "IPY_MODEL_b7811d6d20e14fd49b013a8f6bbd92c8",
            "_dom_classes": [],
            "description": "Downloading: 100%",
            "_model_name": "FloatProgressModel",
            "bar_style": "success",
            "max": 231508,
            "_view_module": "@jupyter-widgets/controls",
            "_model_module_version": "1.5.0",
            "value": 231508,
            "_view_count": null,
            "_view_module_version": "1.5.0",
            "orientation": "horizontal",
            "min": 0,
            "description_tooltip": null,
            "_model_module": "@jupyter-widgets/controls",
            "layout": "IPY_MODEL_ae893b2a2da645718bdf2d8385cec2df"
          }
        },
        "6b82e2c5ef60425598d4d41af73de976": {
          "model_module": "@jupyter-widgets/controls",
          "model_name": "HTMLModel",
          "state": {
            "_view_name": "HTMLView",
            "style": "IPY_MODEL_46cde6a717b449ed8d918b6fbeb22fde",
            "_dom_classes": [],
            "description": "",
            "_model_name": "HTMLModel",
            "placeholder": "​",
            "_view_module": "@jupyter-widgets/controls",
            "_model_module_version": "1.5.0",
            "value": " 232k/232k [00:00&lt;00:00, 1.64MB/s]",
            "_view_count": null,
            "_view_module_version": "1.5.0",
            "description_tooltip": null,
            "_model_module": "@jupyter-widgets/controls",
            "layout": "IPY_MODEL_36e665877a5c4457a979bef8b7c2b722"
          }
        },
        "b7811d6d20e14fd49b013a8f6bbd92c8": {
          "model_module": "@jupyter-widgets/controls",
          "model_name": "ProgressStyleModel",
          "state": {
            "_view_name": "StyleView",
            "_model_name": "ProgressStyleModel",
            "description_width": "initial",
            "_view_module": "@jupyter-widgets/base",
            "_model_module_version": "1.5.0",
            "_view_count": null,
            "_view_module_version": "1.2.0",
            "bar_color": null,
            "_model_module": "@jupyter-widgets/controls"
          }
        },
        "ae893b2a2da645718bdf2d8385cec2df": {
          "model_module": "@jupyter-widgets/base",
          "model_name": "LayoutModel",
          "state": {
            "_view_name": "LayoutView",
            "grid_template_rows": null,
            "right": null,
            "justify_content": null,
            "_view_module": "@jupyter-widgets/base",
            "overflow": null,
            "_model_module_version": "1.2.0",
            "_view_count": null,
            "flex_flow": null,
            "width": null,
            "min_width": null,
            "border": null,
            "align_items": null,
            "bottom": null,
            "_model_module": "@jupyter-widgets/base",
            "top": null,
            "grid_column": null,
            "overflow_y": null,
            "overflow_x": null,
            "grid_auto_flow": null,
            "grid_area": null,
            "grid_template_columns": null,
            "flex": null,
            "_model_name": "LayoutModel",
            "justify_items": null,
            "grid_row": null,
            "max_height": null,
            "align_content": null,
            "visibility": null,
            "align_self": null,
            "height": null,
            "min_height": null,
            "padding": null,
            "grid_auto_rows": null,
            "grid_gap": null,
            "max_width": null,
            "order": null,
            "_view_module_version": "1.2.0",
            "grid_template_areas": null,
            "object_position": null,
            "object_fit": null,
            "grid_auto_columns": null,
            "margin": null,
            "display": null,
            "left": null
          }
        },
        "46cde6a717b449ed8d918b6fbeb22fde": {
          "model_module": "@jupyter-widgets/controls",
          "model_name": "DescriptionStyleModel",
          "state": {
            "_view_name": "StyleView",
            "_model_name": "DescriptionStyleModel",
            "description_width": "",
            "_view_module": "@jupyter-widgets/base",
            "_model_module_version": "1.5.0",
            "_view_count": null,
            "_view_module_version": "1.2.0",
            "_model_module": "@jupyter-widgets/controls"
          }
        },
        "36e665877a5c4457a979bef8b7c2b722": {
          "model_module": "@jupyter-widgets/base",
          "model_name": "LayoutModel",
          "state": {
            "_view_name": "LayoutView",
            "grid_template_rows": null,
            "right": null,
            "justify_content": null,
            "_view_module": "@jupyter-widgets/base",
            "overflow": null,
            "_model_module_version": "1.2.0",
            "_view_count": null,
            "flex_flow": null,
            "width": null,
            "min_width": null,
            "border": null,
            "align_items": null,
            "bottom": null,
            "_model_module": "@jupyter-widgets/base",
            "top": null,
            "grid_column": null,
            "overflow_y": null,
            "overflow_x": null,
            "grid_auto_flow": null,
            "grid_area": null,
            "grid_template_columns": null,
            "flex": null,
            "_model_name": "LayoutModel",
            "justify_items": null,
            "grid_row": null,
            "max_height": null,
            "align_content": null,
            "visibility": null,
            "align_self": null,
            "height": null,
            "min_height": null,
            "padding": null,
            "grid_auto_rows": null,
            "grid_gap": null,
            "max_width": null,
            "order": null,
            "_view_module_version": "1.2.0",
            "grid_template_areas": null,
            "object_position": null,
            "object_fit": null,
            "grid_auto_columns": null,
            "margin": null,
            "display": null,
            "left": null
          }
        },
        "6972470692194cdeb92f42ad6949a9a3": {
          "model_module": "@jupyter-widgets/controls",
          "model_name": "HBoxModel",
          "state": {
            "_view_name": "HBoxView",
            "_dom_classes": [],
            "_model_name": "HBoxModel",
            "_view_module": "@jupyter-widgets/controls",
            "_model_module_version": "1.5.0",
            "_view_count": null,
            "_view_module_version": "1.5.0",
            "box_style": "",
            "layout": "IPY_MODEL_5d28ffc725b94bb3aafab03b06c9f8c0",
            "_model_module": "@jupyter-widgets/controls",
            "children": [
              "IPY_MODEL_a41c7bad7f9449999089910d8a6c97fa",
              "IPY_MODEL_7c27ef76a5e8454ca933e99084a1c507"
            ]
          }
        },
        "5d28ffc725b94bb3aafab03b06c9f8c0": {
          "model_module": "@jupyter-widgets/base",
          "model_name": "LayoutModel",
          "state": {
            "_view_name": "LayoutView",
            "grid_template_rows": null,
            "right": null,
            "justify_content": null,
            "_view_module": "@jupyter-widgets/base",
            "overflow": null,
            "_model_module_version": "1.2.0",
            "_view_count": null,
            "flex_flow": null,
            "width": null,
            "min_width": null,
            "border": null,
            "align_items": null,
            "bottom": null,
            "_model_module": "@jupyter-widgets/base",
            "top": null,
            "grid_column": null,
            "overflow_y": null,
            "overflow_x": null,
            "grid_auto_flow": null,
            "grid_area": null,
            "grid_template_columns": null,
            "flex": null,
            "_model_name": "LayoutModel",
            "justify_items": null,
            "grid_row": null,
            "max_height": null,
            "align_content": null,
            "visibility": null,
            "align_self": null,
            "height": null,
            "min_height": null,
            "padding": null,
            "grid_auto_rows": null,
            "grid_gap": null,
            "max_width": null,
            "order": null,
            "_view_module_version": "1.2.0",
            "grid_template_areas": null,
            "object_position": null,
            "object_fit": null,
            "grid_auto_columns": null,
            "margin": null,
            "display": null,
            "left": null
          }
        },
        "a41c7bad7f9449999089910d8a6c97fa": {
          "model_module": "@jupyter-widgets/controls",
          "model_name": "FloatProgressModel",
          "state": {
            "_view_name": "ProgressView",
            "style": "IPY_MODEL_2830d766073443a68b8223434da53273",
            "_dom_classes": [],
            "description": "Downloading: 100%",
            "_model_name": "FloatProgressModel",
            "bar_style": "success",
            "max": 467,
            "_view_module": "@jupyter-widgets/controls",
            "_model_module_version": "1.5.0",
            "value": 467,
            "_view_count": null,
            "_view_module_version": "1.5.0",
            "orientation": "horizontal",
            "min": 0,
            "description_tooltip": null,
            "_model_module": "@jupyter-widgets/controls",
            "layout": "IPY_MODEL_1fcab435a92a49dfa26c2335772fdfea"
          }
        },
        "7c27ef76a5e8454ca933e99084a1c507": {
          "model_module": "@jupyter-widgets/controls",
          "model_name": "HTMLModel",
          "state": {
            "_view_name": "HTMLView",
            "style": "IPY_MODEL_639794eb3eba4315a3ff040e21c6605d",
            "_dom_classes": [],
            "description": "",
            "_model_name": "HTMLModel",
            "placeholder": "​",
            "_view_module": "@jupyter-widgets/controls",
            "_model_module_version": "1.5.0",
            "value": " 467/467 [00:00&lt;00:00, 732B/s]",
            "_view_count": null,
            "_view_module_version": "1.5.0",
            "description_tooltip": null,
            "_model_module": "@jupyter-widgets/controls",
            "layout": "IPY_MODEL_b0d3fb9a1ece46fea798fa36519f954c"
          }
        },
        "2830d766073443a68b8223434da53273": {
          "model_module": "@jupyter-widgets/controls",
          "model_name": "ProgressStyleModel",
          "state": {
            "_view_name": "StyleView",
            "_model_name": "ProgressStyleModel",
            "description_width": "initial",
            "_view_module": "@jupyter-widgets/base",
            "_model_module_version": "1.5.0",
            "_view_count": null,
            "_view_module_version": "1.2.0",
            "bar_color": null,
            "_model_module": "@jupyter-widgets/controls"
          }
        },
        "1fcab435a92a49dfa26c2335772fdfea": {
          "model_module": "@jupyter-widgets/base",
          "model_name": "LayoutModel",
          "state": {
            "_view_name": "LayoutView",
            "grid_template_rows": null,
            "right": null,
            "justify_content": null,
            "_view_module": "@jupyter-widgets/base",
            "overflow": null,
            "_model_module_version": "1.2.0",
            "_view_count": null,
            "flex_flow": null,
            "width": null,
            "min_width": null,
            "border": null,
            "align_items": null,
            "bottom": null,
            "_model_module": "@jupyter-widgets/base",
            "top": null,
            "grid_column": null,
            "overflow_y": null,
            "overflow_x": null,
            "grid_auto_flow": null,
            "grid_area": null,
            "grid_template_columns": null,
            "flex": null,
            "_model_name": "LayoutModel",
            "justify_items": null,
            "grid_row": null,
            "max_height": null,
            "align_content": null,
            "visibility": null,
            "align_self": null,
            "height": null,
            "min_height": null,
            "padding": null,
            "grid_auto_rows": null,
            "grid_gap": null,
            "max_width": null,
            "order": null,
            "_view_module_version": "1.2.0",
            "grid_template_areas": null,
            "object_position": null,
            "object_fit": null,
            "grid_auto_columns": null,
            "margin": null,
            "display": null,
            "left": null
          }
        },
        "639794eb3eba4315a3ff040e21c6605d": {
          "model_module": "@jupyter-widgets/controls",
          "model_name": "DescriptionStyleModel",
          "state": {
            "_view_name": "StyleView",
            "_model_name": "DescriptionStyleModel",
            "description_width": "",
            "_view_module": "@jupyter-widgets/base",
            "_model_module_version": "1.5.0",
            "_view_count": null,
            "_view_module_version": "1.2.0",
            "_model_module": "@jupyter-widgets/controls"
          }
        },
        "b0d3fb9a1ece46fea798fa36519f954c": {
          "model_module": "@jupyter-widgets/base",
          "model_name": "LayoutModel",
          "state": {
            "_view_name": "LayoutView",
            "grid_template_rows": null,
            "right": null,
            "justify_content": null,
            "_view_module": "@jupyter-widgets/base",
            "overflow": null,
            "_model_module_version": "1.2.0",
            "_view_count": null,
            "flex_flow": null,
            "width": null,
            "min_width": null,
            "border": null,
            "align_items": null,
            "bottom": null,
            "_model_module": "@jupyter-widgets/base",
            "top": null,
            "grid_column": null,
            "overflow_y": null,
            "overflow_x": null,
            "grid_auto_flow": null,
            "grid_area": null,
            "grid_template_columns": null,
            "flex": null,
            "_model_name": "LayoutModel",
            "justify_items": null,
            "grid_row": null,
            "max_height": null,
            "align_content": null,
            "visibility": null,
            "align_self": null,
            "height": null,
            "min_height": null,
            "padding": null,
            "grid_auto_rows": null,
            "grid_gap": null,
            "max_width": null,
            "order": null,
            "_view_module_version": "1.2.0",
            "grid_template_areas": null,
            "object_position": null,
            "object_fit": null,
            "grid_auto_columns": null,
            "margin": null,
            "display": null,
            "left": null
          }
        },
        "968151373b104d95b71a104f9f7002ab": {
          "model_module": "@jupyter-widgets/controls",
          "model_name": "HBoxModel",
          "state": {
            "_view_name": "HBoxView",
            "_dom_classes": [],
            "_model_name": "HBoxModel",
            "_view_module": "@jupyter-widgets/controls",
            "_model_module_version": "1.5.0",
            "_view_count": null,
            "_view_module_version": "1.5.0",
            "box_style": "",
            "layout": "IPY_MODEL_7e02562c8a1f47e0ba7ec53c0e8fa8e5",
            "_model_module": "@jupyter-widgets/controls",
            "children": [
              "IPY_MODEL_cd3bd2f63de647daa0bc26ee7e65a224",
              "IPY_MODEL_b484600543a14e12866321761b2e7246"
            ]
          }
        },
        "7e02562c8a1f47e0ba7ec53c0e8fa8e5": {
          "model_module": "@jupyter-widgets/base",
          "model_name": "LayoutModel",
          "state": {
            "_view_name": "LayoutView",
            "grid_template_rows": null,
            "right": null,
            "justify_content": null,
            "_view_module": "@jupyter-widgets/base",
            "overflow": null,
            "_model_module_version": "1.2.0",
            "_view_count": null,
            "flex_flow": null,
            "width": null,
            "min_width": null,
            "border": null,
            "align_items": null,
            "bottom": null,
            "_model_module": "@jupyter-widgets/base",
            "top": null,
            "grid_column": null,
            "overflow_y": null,
            "overflow_x": null,
            "grid_auto_flow": null,
            "grid_area": null,
            "grid_template_columns": null,
            "flex": null,
            "_model_name": "LayoutModel",
            "justify_items": null,
            "grid_row": null,
            "max_height": null,
            "align_content": null,
            "visibility": null,
            "align_self": null,
            "height": null,
            "min_height": null,
            "padding": null,
            "grid_auto_rows": null,
            "grid_gap": null,
            "max_width": null,
            "order": null,
            "_view_module_version": "1.2.0",
            "grid_template_areas": null,
            "object_position": null,
            "object_fit": null,
            "grid_auto_columns": null,
            "margin": null,
            "display": null,
            "left": null
          }
        },
        "cd3bd2f63de647daa0bc26ee7e65a224": {
          "model_module": "@jupyter-widgets/controls",
          "model_name": "FloatProgressModel",
          "state": {
            "_view_name": "ProgressView",
            "style": "IPY_MODEL_e6c22f2830bb494597ea24e9bf7f9f5a",
            "_dom_classes": [],
            "description": "Downloading: 100%",
            "_model_name": "FloatProgressModel",
            "bar_style": "success",
            "max": 440343552,
            "_view_module": "@jupyter-widgets/controls",
            "_model_module_version": "1.5.0",
            "value": 440343552,
            "_view_count": null,
            "_view_module_version": "1.5.0",
            "orientation": "horizontal",
            "min": 0,
            "description_tooltip": null,
            "_model_module": "@jupyter-widgets/controls",
            "layout": "IPY_MODEL_2bc7cab2b1ff41aba3e913f3c5d8c411"
          }
        },
        "b484600543a14e12866321761b2e7246": {
          "model_module": "@jupyter-widgets/controls",
          "model_name": "HTMLModel",
          "state": {
            "_view_name": "HTMLView",
            "style": "IPY_MODEL_9658d0b5027a46a9be01d28e5e0f5c33",
            "_dom_classes": [],
            "description": "",
            "_model_name": "HTMLModel",
            "placeholder": "​",
            "_view_module": "@jupyter-widgets/controls",
            "_model_module_version": "1.5.0",
            "value": " 440M/440M [00:11&lt;00:00, 39.6MB/s]",
            "_view_count": null,
            "_view_module_version": "1.5.0",
            "description_tooltip": null,
            "_model_module": "@jupyter-widgets/controls",
            "layout": "IPY_MODEL_84543d3008e84d41921efd8edda59b3e"
          }
        },
        "e6c22f2830bb494597ea24e9bf7f9f5a": {
          "model_module": "@jupyter-widgets/controls",
          "model_name": "ProgressStyleModel",
          "state": {
            "_view_name": "StyleView",
            "_model_name": "ProgressStyleModel",
            "description_width": "initial",
            "_view_module": "@jupyter-widgets/base",
            "_model_module_version": "1.5.0",
            "_view_count": null,
            "_view_module_version": "1.2.0",
            "bar_color": null,
            "_model_module": "@jupyter-widgets/controls"
          }
        },
        "2bc7cab2b1ff41aba3e913f3c5d8c411": {
          "model_module": "@jupyter-widgets/base",
          "model_name": "LayoutModel",
          "state": {
            "_view_name": "LayoutView",
            "grid_template_rows": null,
            "right": null,
            "justify_content": null,
            "_view_module": "@jupyter-widgets/base",
            "overflow": null,
            "_model_module_version": "1.2.0",
            "_view_count": null,
            "flex_flow": null,
            "width": null,
            "min_width": null,
            "border": null,
            "align_items": null,
            "bottom": null,
            "_model_module": "@jupyter-widgets/base",
            "top": null,
            "grid_column": null,
            "overflow_y": null,
            "overflow_x": null,
            "grid_auto_flow": null,
            "grid_area": null,
            "grid_template_columns": null,
            "flex": null,
            "_model_name": "LayoutModel",
            "justify_items": null,
            "grid_row": null,
            "max_height": null,
            "align_content": null,
            "visibility": null,
            "align_self": null,
            "height": null,
            "min_height": null,
            "padding": null,
            "grid_auto_rows": null,
            "grid_gap": null,
            "max_width": null,
            "order": null,
            "_view_module_version": "1.2.0",
            "grid_template_areas": null,
            "object_position": null,
            "object_fit": null,
            "grid_auto_columns": null,
            "margin": null,
            "display": null,
            "left": null
          }
        },
        "9658d0b5027a46a9be01d28e5e0f5c33": {
          "model_module": "@jupyter-widgets/controls",
          "model_name": "DescriptionStyleModel",
          "state": {
            "_view_name": "StyleView",
            "_model_name": "DescriptionStyleModel",
            "description_width": "",
            "_view_module": "@jupyter-widgets/base",
            "_model_module_version": "1.5.0",
            "_view_count": null,
            "_view_module_version": "1.2.0",
            "_model_module": "@jupyter-widgets/controls"
          }
        },
        "84543d3008e84d41921efd8edda59b3e": {
          "model_module": "@jupyter-widgets/base",
          "model_name": "LayoutModel",
          "state": {
            "_view_name": "LayoutView",
            "grid_template_rows": null,
            "right": null,
            "justify_content": null,
            "_view_module": "@jupyter-widgets/base",
            "overflow": null,
            "_model_module_version": "1.2.0",
            "_view_count": null,
            "flex_flow": null,
            "width": null,
            "min_width": null,
            "border": null,
            "align_items": null,
            "bottom": null,
            "_model_module": "@jupyter-widgets/base",
            "top": null,
            "grid_column": null,
            "overflow_y": null,
            "overflow_x": null,
            "grid_auto_flow": null,
            "grid_area": null,
            "grid_template_columns": null,
            "flex": null,
            "_model_name": "LayoutModel",
            "justify_items": null,
            "grid_row": null,
            "max_height": null,
            "align_content": null,
            "visibility": null,
            "align_self": null,
            "height": null,
            "min_height": null,
            "padding": null,
            "grid_auto_rows": null,
            "grid_gap": null,
            "max_width": null,
            "order": null,
            "_view_module_version": "1.2.0",
            "grid_template_areas": null,
            "object_position": null,
            "object_fit": null,
            "grid_auto_columns": null,
            "margin": null,
            "display": null,
            "left": null
          }
        },
        "6fc8081041af4d378290e92b64599313": {
          "model_module": "@jupyter-widgets/controls",
          "model_name": "HBoxModel",
          "state": {
            "_view_name": "HBoxView",
            "_dom_classes": [],
            "_model_name": "HBoxModel",
            "_view_module": "@jupyter-widgets/controls",
            "_model_module_version": "1.5.0",
            "_view_count": null,
            "_view_module_version": "1.5.0",
            "box_style": "",
            "layout": "IPY_MODEL_3f4a276e3c0b4bfd8e846d1f1f6311c0",
            "_model_module": "@jupyter-widgets/controls",
            "children": [
              "IPY_MODEL_3cf0ad967c8b4c318c0e51c2c4d17be3",
              "IPY_MODEL_7517d30afd21419ba332c2a29302f71c"
            ]
          }
        },
        "3f4a276e3c0b4bfd8e846d1f1f6311c0": {
          "model_module": "@jupyter-widgets/base",
          "model_name": "LayoutModel",
          "state": {
            "_view_name": "LayoutView",
            "grid_template_rows": null,
            "right": null,
            "justify_content": null,
            "_view_module": "@jupyter-widgets/base",
            "overflow": null,
            "_model_module_version": "1.2.0",
            "_view_count": null,
            "flex_flow": null,
            "width": null,
            "min_width": null,
            "border": null,
            "align_items": null,
            "bottom": null,
            "_model_module": "@jupyter-widgets/base",
            "top": null,
            "grid_column": null,
            "overflow_y": null,
            "overflow_x": null,
            "grid_auto_flow": null,
            "grid_area": null,
            "grid_template_columns": null,
            "flex": null,
            "_model_name": "LayoutModel",
            "justify_items": null,
            "grid_row": null,
            "max_height": null,
            "align_content": null,
            "visibility": null,
            "align_self": null,
            "height": null,
            "min_height": null,
            "padding": null,
            "grid_auto_rows": null,
            "grid_gap": null,
            "max_width": null,
            "order": null,
            "_view_module_version": "1.2.0",
            "grid_template_areas": null,
            "object_position": null,
            "object_fit": null,
            "grid_auto_columns": null,
            "margin": null,
            "display": null,
            "left": null
          }
        },
        "3cf0ad967c8b4c318c0e51c2c4d17be3": {
          "model_module": "@jupyter-widgets/controls",
          "model_name": "FloatProgressModel",
          "state": {
            "_view_name": "ProgressView",
            "style": "IPY_MODEL_8fea6e09e7cf4c04ac157bbf5e492814",
            "_dom_classes": [],
            "description": "100%",
            "_model_name": "FloatProgressModel",
            "bar_style": "success",
            "max": 738,
            "_view_module": "@jupyter-widgets/controls",
            "_model_module_version": "1.5.0",
            "value": 738,
            "_view_count": null,
            "_view_module_version": "1.5.0",
            "orientation": "horizontal",
            "min": 0,
            "description_tooltip": null,
            "_model_module": "@jupyter-widgets/controls",
            "layout": "IPY_MODEL_98af5d88cc4046eaa2cdc3464945b4d7"
          }
        },
        "7517d30afd21419ba332c2a29302f71c": {
          "model_module": "@jupyter-widgets/controls",
          "model_name": "HTMLModel",
          "state": {
            "_view_name": "HTMLView",
            "style": "IPY_MODEL_25ebdfa856bf4ec590cb95de442ef1bd",
            "_dom_classes": [],
            "description": "",
            "_model_name": "HTMLModel",
            "placeholder": "​",
            "_view_module": "@jupyter-widgets/controls",
            "_model_module_version": "1.5.0",
            "value": " 738/738 [05:06&lt;00:00,  2.41it/s]",
            "_view_count": null,
            "_view_module_version": "1.5.0",
            "description_tooltip": null,
            "_model_module": "@jupyter-widgets/controls",
            "layout": "IPY_MODEL_c7251cb8eeb642c386ec8eb93a1a83e2"
          }
        },
        "8fea6e09e7cf4c04ac157bbf5e492814": {
          "model_module": "@jupyter-widgets/controls",
          "model_name": "ProgressStyleModel",
          "state": {
            "_view_name": "StyleView",
            "_model_name": "ProgressStyleModel",
            "description_width": "initial",
            "_view_module": "@jupyter-widgets/base",
            "_model_module_version": "1.5.0",
            "_view_count": null,
            "_view_module_version": "1.2.0",
            "bar_color": null,
            "_model_module": "@jupyter-widgets/controls"
          }
        },
        "98af5d88cc4046eaa2cdc3464945b4d7": {
          "model_module": "@jupyter-widgets/base",
          "model_name": "LayoutModel",
          "state": {
            "_view_name": "LayoutView",
            "grid_template_rows": null,
            "right": null,
            "justify_content": null,
            "_view_module": "@jupyter-widgets/base",
            "overflow": null,
            "_model_module_version": "1.2.0",
            "_view_count": null,
            "flex_flow": null,
            "width": null,
            "min_width": null,
            "border": null,
            "align_items": null,
            "bottom": null,
            "_model_module": "@jupyter-widgets/base",
            "top": null,
            "grid_column": null,
            "overflow_y": null,
            "overflow_x": null,
            "grid_auto_flow": null,
            "grid_area": null,
            "grid_template_columns": null,
            "flex": null,
            "_model_name": "LayoutModel",
            "justify_items": null,
            "grid_row": null,
            "max_height": null,
            "align_content": null,
            "visibility": null,
            "align_self": null,
            "height": null,
            "min_height": null,
            "padding": null,
            "grid_auto_rows": null,
            "grid_gap": null,
            "max_width": null,
            "order": null,
            "_view_module_version": "1.2.0",
            "grid_template_areas": null,
            "object_position": null,
            "object_fit": null,
            "grid_auto_columns": null,
            "margin": null,
            "display": null,
            "left": null
          }
        },
        "25ebdfa856bf4ec590cb95de442ef1bd": {
          "model_module": "@jupyter-widgets/controls",
          "model_name": "DescriptionStyleModel",
          "state": {
            "_view_name": "StyleView",
            "_model_name": "DescriptionStyleModel",
            "description_width": "",
            "_view_module": "@jupyter-widgets/base",
            "_model_module_version": "1.5.0",
            "_view_count": null,
            "_view_module_version": "1.2.0",
            "_model_module": "@jupyter-widgets/controls"
          }
        },
        "c7251cb8eeb642c386ec8eb93a1a83e2": {
          "model_module": "@jupyter-widgets/base",
          "model_name": "LayoutModel",
          "state": {
            "_view_name": "LayoutView",
            "grid_template_rows": null,
            "right": null,
            "justify_content": null,
            "_view_module": "@jupyter-widgets/base",
            "overflow": null,
            "_model_module_version": "1.2.0",
            "_view_count": null,
            "flex_flow": null,
            "width": null,
            "min_width": null,
            "border": null,
            "align_items": null,
            "bottom": null,
            "_model_module": "@jupyter-widgets/base",
            "top": null,
            "grid_column": null,
            "overflow_y": null,
            "overflow_x": null,
            "grid_auto_flow": null,
            "grid_area": null,
            "grid_template_columns": null,
            "flex": null,
            "_model_name": "LayoutModel",
            "justify_items": null,
            "grid_row": null,
            "max_height": null,
            "align_content": null,
            "visibility": null,
            "align_self": null,
            "height": null,
            "min_height": null,
            "padding": null,
            "grid_auto_rows": null,
            "grid_gap": null,
            "max_width": null,
            "order": null,
            "_view_module_version": "1.2.0",
            "grid_template_areas": null,
            "object_position": null,
            "object_fit": null,
            "grid_auto_columns": null,
            "margin": null,
            "display": null,
            "left": null
          }
        },
        "117655e076144598a9ad9daeead8c12d": {
          "model_module": "@jupyter-widgets/controls",
          "model_name": "HBoxModel",
          "state": {
            "_view_name": "HBoxView",
            "_dom_classes": [],
            "_model_name": "HBoxModel",
            "_view_module": "@jupyter-widgets/controls",
            "_model_module_version": "1.5.0",
            "_view_count": null,
            "_view_module_version": "1.5.0",
            "box_style": "",
            "layout": "IPY_MODEL_79159dbfa6394337805ab7d5b93c6ea9",
            "_model_module": "@jupyter-widgets/controls",
            "children": [
              "IPY_MODEL_8538707d3f59497c856323a553ee1a4d",
              "IPY_MODEL_cfe640c4fdea43a28890456e9ce61f73"
            ]
          }
        },
        "79159dbfa6394337805ab7d5b93c6ea9": {
          "model_module": "@jupyter-widgets/base",
          "model_name": "LayoutModel",
          "state": {
            "_view_name": "LayoutView",
            "grid_template_rows": null,
            "right": null,
            "justify_content": null,
            "_view_module": "@jupyter-widgets/base",
            "overflow": null,
            "_model_module_version": "1.2.0",
            "_view_count": null,
            "flex_flow": null,
            "width": null,
            "min_width": null,
            "border": null,
            "align_items": null,
            "bottom": null,
            "_model_module": "@jupyter-widgets/base",
            "top": null,
            "grid_column": null,
            "overflow_y": null,
            "overflow_x": null,
            "grid_auto_flow": null,
            "grid_area": null,
            "grid_template_columns": null,
            "flex": null,
            "_model_name": "LayoutModel",
            "justify_items": null,
            "grid_row": null,
            "max_height": null,
            "align_content": null,
            "visibility": null,
            "align_self": null,
            "height": null,
            "min_height": null,
            "padding": null,
            "grid_auto_rows": null,
            "grid_gap": null,
            "max_width": null,
            "order": null,
            "_view_module_version": "1.2.0",
            "grid_template_areas": null,
            "object_position": null,
            "object_fit": null,
            "grid_auto_columns": null,
            "margin": null,
            "display": null,
            "left": null
          }
        },
        "8538707d3f59497c856323a553ee1a4d": {
          "model_module": "@jupyter-widgets/controls",
          "model_name": "FloatProgressModel",
          "state": {
            "_view_name": "ProgressView",
            "style": "IPY_MODEL_a615c8bd0cac4a84b3471d89b628722f",
            "_dom_classes": [],
            "description": "100%",
            "_model_name": "FloatProgressModel",
            "bar_style": "success",
            "max": 738,
            "_view_module": "@jupyter-widgets/controls",
            "_model_module_version": "1.5.0",
            "value": 738,
            "_view_count": null,
            "_view_module_version": "1.5.0",
            "orientation": "horizontal",
            "min": 0,
            "description_tooltip": null,
            "_model_module": "@jupyter-widgets/controls",
            "layout": "IPY_MODEL_b80e554cda1440d4b5b684b1ae2bdddb"
          }
        },
        "cfe640c4fdea43a28890456e9ce61f73": {
          "model_module": "@jupyter-widgets/controls",
          "model_name": "HTMLModel",
          "state": {
            "_view_name": "HTMLView",
            "style": "IPY_MODEL_c511693a4d3a402b9fda1984ec63d60e",
            "_dom_classes": [],
            "description": "",
            "_model_name": "HTMLModel",
            "placeholder": "​",
            "_view_module": "@jupyter-widgets/controls",
            "_model_module_version": "1.5.0",
            "value": " 738/738 [05:06&lt;00:00,  2.41it/s]",
            "_view_count": null,
            "_view_module_version": "1.5.0",
            "description_tooltip": null,
            "_model_module": "@jupyter-widgets/controls",
            "layout": "IPY_MODEL_3f5d0f0df9e04e2b976fb69f3d65fcca"
          }
        },
        "a615c8bd0cac4a84b3471d89b628722f": {
          "model_module": "@jupyter-widgets/controls",
          "model_name": "ProgressStyleModel",
          "state": {
            "_view_name": "StyleView",
            "_model_name": "ProgressStyleModel",
            "description_width": "initial",
            "_view_module": "@jupyter-widgets/base",
            "_model_module_version": "1.5.0",
            "_view_count": null,
            "_view_module_version": "1.2.0",
            "bar_color": null,
            "_model_module": "@jupyter-widgets/controls"
          }
        },
        "b80e554cda1440d4b5b684b1ae2bdddb": {
          "model_module": "@jupyter-widgets/base",
          "model_name": "LayoutModel",
          "state": {
            "_view_name": "LayoutView",
            "grid_template_rows": null,
            "right": null,
            "justify_content": null,
            "_view_module": "@jupyter-widgets/base",
            "overflow": null,
            "_model_module_version": "1.2.0",
            "_view_count": null,
            "flex_flow": null,
            "width": null,
            "min_width": null,
            "border": null,
            "align_items": null,
            "bottom": null,
            "_model_module": "@jupyter-widgets/base",
            "top": null,
            "grid_column": null,
            "overflow_y": null,
            "overflow_x": null,
            "grid_auto_flow": null,
            "grid_area": null,
            "grid_template_columns": null,
            "flex": null,
            "_model_name": "LayoutModel",
            "justify_items": null,
            "grid_row": null,
            "max_height": null,
            "align_content": null,
            "visibility": null,
            "align_self": null,
            "height": null,
            "min_height": null,
            "padding": null,
            "grid_auto_rows": null,
            "grid_gap": null,
            "max_width": null,
            "order": null,
            "_view_module_version": "1.2.0",
            "grid_template_areas": null,
            "object_position": null,
            "object_fit": null,
            "grid_auto_columns": null,
            "margin": null,
            "display": null,
            "left": null
          }
        },
        "c511693a4d3a402b9fda1984ec63d60e": {
          "model_module": "@jupyter-widgets/controls",
          "model_name": "DescriptionStyleModel",
          "state": {
            "_view_name": "StyleView",
            "_model_name": "DescriptionStyleModel",
            "description_width": "",
            "_view_module": "@jupyter-widgets/base",
            "_model_module_version": "1.5.0",
            "_view_count": null,
            "_view_module_version": "1.2.0",
            "_model_module": "@jupyter-widgets/controls"
          }
        },
        "3f5d0f0df9e04e2b976fb69f3d65fcca": {
          "model_module": "@jupyter-widgets/base",
          "model_name": "LayoutModel",
          "state": {
            "_view_name": "LayoutView",
            "grid_template_rows": null,
            "right": null,
            "justify_content": null,
            "_view_module": "@jupyter-widgets/base",
            "overflow": null,
            "_model_module_version": "1.2.0",
            "_view_count": null,
            "flex_flow": null,
            "width": null,
            "min_width": null,
            "border": null,
            "align_items": null,
            "bottom": null,
            "_model_module": "@jupyter-widgets/base",
            "top": null,
            "grid_column": null,
            "overflow_y": null,
            "overflow_x": null,
            "grid_auto_flow": null,
            "grid_area": null,
            "grid_template_columns": null,
            "flex": null,
            "_model_name": "LayoutModel",
            "justify_items": null,
            "grid_row": null,
            "max_height": null,
            "align_content": null,
            "visibility": null,
            "align_self": null,
            "height": null,
            "min_height": null,
            "padding": null,
            "grid_auto_rows": null,
            "grid_gap": null,
            "max_width": null,
            "order": null,
            "_view_module_version": "1.2.0",
            "grid_template_areas": null,
            "object_position": null,
            "object_fit": null,
            "grid_auto_columns": null,
            "margin": null,
            "display": null,
            "left": null
          }
        },
        "78cd8ca194e24bcc8f5cad0b8bdd75e2": {
          "model_module": "@jupyter-widgets/controls",
          "model_name": "HBoxModel",
          "state": {
            "_view_name": "HBoxView",
            "_dom_classes": [],
            "_model_name": "HBoxModel",
            "_view_module": "@jupyter-widgets/controls",
            "_model_module_version": "1.5.0",
            "_view_count": null,
            "_view_module_version": "1.5.0",
            "box_style": "",
            "layout": "IPY_MODEL_bc781cdfe4e14e198fb0498dbafad222",
            "_model_module": "@jupyter-widgets/controls",
            "children": [
              "IPY_MODEL_9099821a1ba24d9bb60319479ac6dffd",
              "IPY_MODEL_0ca851a359a64957825dbbae6d32882c"
            ]
          }
        },
        "bc781cdfe4e14e198fb0498dbafad222": {
          "model_module": "@jupyter-widgets/base",
          "model_name": "LayoutModel",
          "state": {
            "_view_name": "LayoutView",
            "grid_template_rows": null,
            "right": null,
            "justify_content": null,
            "_view_module": "@jupyter-widgets/base",
            "overflow": null,
            "_model_module_version": "1.2.0",
            "_view_count": null,
            "flex_flow": null,
            "width": null,
            "min_width": null,
            "border": null,
            "align_items": null,
            "bottom": null,
            "_model_module": "@jupyter-widgets/base",
            "top": null,
            "grid_column": null,
            "overflow_y": null,
            "overflow_x": null,
            "grid_auto_flow": null,
            "grid_area": null,
            "grid_template_columns": null,
            "flex": null,
            "_model_name": "LayoutModel",
            "justify_items": null,
            "grid_row": null,
            "max_height": null,
            "align_content": null,
            "visibility": null,
            "align_self": null,
            "height": null,
            "min_height": null,
            "padding": null,
            "grid_auto_rows": null,
            "grid_gap": null,
            "max_width": null,
            "order": null,
            "_view_module_version": "1.2.0",
            "grid_template_areas": null,
            "object_position": null,
            "object_fit": null,
            "grid_auto_columns": null,
            "margin": null,
            "display": null,
            "left": null
          }
        },
        "9099821a1ba24d9bb60319479ac6dffd": {
          "model_module": "@jupyter-widgets/controls",
          "model_name": "FloatProgressModel",
          "state": {
            "_view_name": "ProgressView",
            "style": "IPY_MODEL_25240c264fbf453fa86150b24aecf682",
            "_dom_classes": [],
            "description": "100%",
            "_model_name": "FloatProgressModel",
            "bar_style": "success",
            "max": 738,
            "_view_module": "@jupyter-widgets/controls",
            "_model_module_version": "1.5.0",
            "value": 738,
            "_view_count": null,
            "_view_module_version": "1.5.0",
            "orientation": "horizontal",
            "min": 0,
            "description_tooltip": null,
            "_model_module": "@jupyter-widgets/controls",
            "layout": "IPY_MODEL_677b6888a62f4ffb9b6da6a486bfa9ff"
          }
        },
        "0ca851a359a64957825dbbae6d32882c": {
          "model_module": "@jupyter-widgets/controls",
          "model_name": "HTMLModel",
          "state": {
            "_view_name": "HTMLView",
            "style": "IPY_MODEL_00528395c3f94df69191702b7f3df2f0",
            "_dom_classes": [],
            "description": "",
            "_model_name": "HTMLModel",
            "placeholder": "​",
            "_view_module": "@jupyter-widgets/controls",
            "_model_module_version": "1.5.0",
            "value": " 738/738 [05:06&lt;00:00,  2.41it/s]",
            "_view_count": null,
            "_view_module_version": "1.5.0",
            "description_tooltip": null,
            "_model_module": "@jupyter-widgets/controls",
            "layout": "IPY_MODEL_fd6cc7a39545475dbd634b44c9b6b9e3"
          }
        },
        "25240c264fbf453fa86150b24aecf682": {
          "model_module": "@jupyter-widgets/controls",
          "model_name": "ProgressStyleModel",
          "state": {
            "_view_name": "StyleView",
            "_model_name": "ProgressStyleModel",
            "description_width": "initial",
            "_view_module": "@jupyter-widgets/base",
            "_model_module_version": "1.5.0",
            "_view_count": null,
            "_view_module_version": "1.2.0",
            "bar_color": null,
            "_model_module": "@jupyter-widgets/controls"
          }
        },
        "677b6888a62f4ffb9b6da6a486bfa9ff": {
          "model_module": "@jupyter-widgets/base",
          "model_name": "LayoutModel",
          "state": {
            "_view_name": "LayoutView",
            "grid_template_rows": null,
            "right": null,
            "justify_content": null,
            "_view_module": "@jupyter-widgets/base",
            "overflow": null,
            "_model_module_version": "1.2.0",
            "_view_count": null,
            "flex_flow": null,
            "width": null,
            "min_width": null,
            "border": null,
            "align_items": null,
            "bottom": null,
            "_model_module": "@jupyter-widgets/base",
            "top": null,
            "grid_column": null,
            "overflow_y": null,
            "overflow_x": null,
            "grid_auto_flow": null,
            "grid_area": null,
            "grid_template_columns": null,
            "flex": null,
            "_model_name": "LayoutModel",
            "justify_items": null,
            "grid_row": null,
            "max_height": null,
            "align_content": null,
            "visibility": null,
            "align_self": null,
            "height": null,
            "min_height": null,
            "padding": null,
            "grid_auto_rows": null,
            "grid_gap": null,
            "max_width": null,
            "order": null,
            "_view_module_version": "1.2.0",
            "grid_template_areas": null,
            "object_position": null,
            "object_fit": null,
            "grid_auto_columns": null,
            "margin": null,
            "display": null,
            "left": null
          }
        },
        "00528395c3f94df69191702b7f3df2f0": {
          "model_module": "@jupyter-widgets/controls",
          "model_name": "DescriptionStyleModel",
          "state": {
            "_view_name": "StyleView",
            "_model_name": "DescriptionStyleModel",
            "description_width": "",
            "_view_module": "@jupyter-widgets/base",
            "_model_module_version": "1.5.0",
            "_view_count": null,
            "_view_module_version": "1.2.0",
            "_model_module": "@jupyter-widgets/controls"
          }
        },
        "fd6cc7a39545475dbd634b44c9b6b9e3": {
          "model_module": "@jupyter-widgets/base",
          "model_name": "LayoutModel",
          "state": {
            "_view_name": "LayoutView",
            "grid_template_rows": null,
            "right": null,
            "justify_content": null,
            "_view_module": "@jupyter-widgets/base",
            "overflow": null,
            "_model_module_version": "1.2.0",
            "_view_count": null,
            "flex_flow": null,
            "width": null,
            "min_width": null,
            "border": null,
            "align_items": null,
            "bottom": null,
            "_model_module": "@jupyter-widgets/base",
            "top": null,
            "grid_column": null,
            "overflow_y": null,
            "overflow_x": null,
            "grid_auto_flow": null,
            "grid_area": null,
            "grid_template_columns": null,
            "flex": null,
            "_model_name": "LayoutModel",
            "justify_items": null,
            "grid_row": null,
            "max_height": null,
            "align_content": null,
            "visibility": null,
            "align_self": null,
            "height": null,
            "min_height": null,
            "padding": null,
            "grid_auto_rows": null,
            "grid_gap": null,
            "max_width": null,
            "order": null,
            "_view_module_version": "1.2.0",
            "grid_template_areas": null,
            "object_position": null,
            "object_fit": null,
            "grid_auto_columns": null,
            "margin": null,
            "display": null,
            "left": null
          }
        },
        "36c807fb26c043368e8c12b5f987eebe": {
          "model_module": "@jupyter-widgets/controls",
          "model_name": "HBoxModel",
          "state": {
            "_view_name": "HBoxView",
            "_dom_classes": [],
            "_model_name": "HBoxModel",
            "_view_module": "@jupyter-widgets/controls",
            "_model_module_version": "1.5.0",
            "_view_count": null,
            "_view_module_version": "1.5.0",
            "box_style": "",
            "layout": "IPY_MODEL_e01570f6c02248068fbe149b64de03ce",
            "_model_module": "@jupyter-widgets/controls",
            "children": [
              "IPY_MODEL_cd539898c8e547aeac81dad6f70db015",
              "IPY_MODEL_8308ad733b104581a1e47581e36805bd"
            ]
          }
        },
        "e01570f6c02248068fbe149b64de03ce": {
          "model_module": "@jupyter-widgets/base",
          "model_name": "LayoutModel",
          "state": {
            "_view_name": "LayoutView",
            "grid_template_rows": null,
            "right": null,
            "justify_content": null,
            "_view_module": "@jupyter-widgets/base",
            "overflow": null,
            "_model_module_version": "1.2.0",
            "_view_count": null,
            "flex_flow": null,
            "width": null,
            "min_width": null,
            "border": null,
            "align_items": null,
            "bottom": null,
            "_model_module": "@jupyter-widgets/base",
            "top": null,
            "grid_column": null,
            "overflow_y": null,
            "overflow_x": null,
            "grid_auto_flow": null,
            "grid_area": null,
            "grid_template_columns": null,
            "flex": null,
            "_model_name": "LayoutModel",
            "justify_items": null,
            "grid_row": null,
            "max_height": null,
            "align_content": null,
            "visibility": null,
            "align_self": null,
            "height": null,
            "min_height": null,
            "padding": null,
            "grid_auto_rows": null,
            "grid_gap": null,
            "max_width": null,
            "order": null,
            "_view_module_version": "1.2.0",
            "grid_template_areas": null,
            "object_position": null,
            "object_fit": null,
            "grid_auto_columns": null,
            "margin": null,
            "display": null,
            "left": null
          }
        },
        "cd539898c8e547aeac81dad6f70db015": {
          "model_module": "@jupyter-widgets/controls",
          "model_name": "FloatProgressModel",
          "state": {
            "_view_name": "ProgressView",
            "style": "IPY_MODEL_de6bd713eeea468d97217a8745876591",
            "_dom_classes": [],
            "description": "100%",
            "_model_name": "FloatProgressModel",
            "bar_style": "success",
            "max": 738,
            "_view_module": "@jupyter-widgets/controls",
            "_model_module_version": "1.5.0",
            "value": 738,
            "_view_count": null,
            "_view_module_version": "1.5.0",
            "orientation": "horizontal",
            "min": 0,
            "description_tooltip": null,
            "_model_module": "@jupyter-widgets/controls",
            "layout": "IPY_MODEL_bba4f4a4dbb64a1e873e3141b6804443"
          }
        },
        "8308ad733b104581a1e47581e36805bd": {
          "model_module": "@jupyter-widgets/controls",
          "model_name": "HTMLModel",
          "state": {
            "_view_name": "HTMLView",
            "style": "IPY_MODEL_e20783791861415eb12db6a663c7bf55",
            "_dom_classes": [],
            "description": "",
            "_model_name": "HTMLModel",
            "placeholder": "​",
            "_view_module": "@jupyter-widgets/controls",
            "_model_module_version": "1.5.0",
            "value": " 738/738 [10:12&lt;00:00,  1.21it/s]",
            "_view_count": null,
            "_view_module_version": "1.5.0",
            "description_tooltip": null,
            "_model_module": "@jupyter-widgets/controls",
            "layout": "IPY_MODEL_a8b039996c7242b6b336ad4c4b0cabce"
          }
        },
        "de6bd713eeea468d97217a8745876591": {
          "model_module": "@jupyter-widgets/controls",
          "model_name": "ProgressStyleModel",
          "state": {
            "_view_name": "StyleView",
            "_model_name": "ProgressStyleModel",
            "description_width": "initial",
            "_view_module": "@jupyter-widgets/base",
            "_model_module_version": "1.5.0",
            "_view_count": null,
            "_view_module_version": "1.2.0",
            "bar_color": null,
            "_model_module": "@jupyter-widgets/controls"
          }
        },
        "bba4f4a4dbb64a1e873e3141b6804443": {
          "model_module": "@jupyter-widgets/base",
          "model_name": "LayoutModel",
          "state": {
            "_view_name": "LayoutView",
            "grid_template_rows": null,
            "right": null,
            "justify_content": null,
            "_view_module": "@jupyter-widgets/base",
            "overflow": null,
            "_model_module_version": "1.2.0",
            "_view_count": null,
            "flex_flow": null,
            "width": null,
            "min_width": null,
            "border": null,
            "align_items": null,
            "bottom": null,
            "_model_module": "@jupyter-widgets/base",
            "top": null,
            "grid_column": null,
            "overflow_y": null,
            "overflow_x": null,
            "grid_auto_flow": null,
            "grid_area": null,
            "grid_template_columns": null,
            "flex": null,
            "_model_name": "LayoutModel",
            "justify_items": null,
            "grid_row": null,
            "max_height": null,
            "align_content": null,
            "visibility": null,
            "align_self": null,
            "height": null,
            "min_height": null,
            "padding": null,
            "grid_auto_rows": null,
            "grid_gap": null,
            "max_width": null,
            "order": null,
            "_view_module_version": "1.2.0",
            "grid_template_areas": null,
            "object_position": null,
            "object_fit": null,
            "grid_auto_columns": null,
            "margin": null,
            "display": null,
            "left": null
          }
        },
        "e20783791861415eb12db6a663c7bf55": {
          "model_module": "@jupyter-widgets/controls",
          "model_name": "DescriptionStyleModel",
          "state": {
            "_view_name": "StyleView",
            "_model_name": "DescriptionStyleModel",
            "description_width": "",
            "_view_module": "@jupyter-widgets/base",
            "_model_module_version": "1.5.0",
            "_view_count": null,
            "_view_module_version": "1.2.0",
            "_model_module": "@jupyter-widgets/controls"
          }
        },
        "a8b039996c7242b6b336ad4c4b0cabce": {
          "model_module": "@jupyter-widgets/base",
          "model_name": "LayoutModel",
          "state": {
            "_view_name": "LayoutView",
            "grid_template_rows": null,
            "right": null,
            "justify_content": null,
            "_view_module": "@jupyter-widgets/base",
            "overflow": null,
            "_model_module_version": "1.2.0",
            "_view_count": null,
            "flex_flow": null,
            "width": null,
            "min_width": null,
            "border": null,
            "align_items": null,
            "bottom": null,
            "_model_module": "@jupyter-widgets/base",
            "top": null,
            "grid_column": null,
            "overflow_y": null,
            "overflow_x": null,
            "grid_auto_flow": null,
            "grid_area": null,
            "grid_template_columns": null,
            "flex": null,
            "_model_name": "LayoutModel",
            "justify_items": null,
            "grid_row": null,
            "max_height": null,
            "align_content": null,
            "visibility": null,
            "align_self": null,
            "height": null,
            "min_height": null,
            "padding": null,
            "grid_auto_rows": null,
            "grid_gap": null,
            "max_width": null,
            "order": null,
            "_view_module_version": "1.2.0",
            "grid_template_areas": null,
            "object_position": null,
            "object_fit": null,
            "grid_auto_columns": null,
            "margin": null,
            "display": null,
            "left": null
          }
        },
        "c96322ad5c76494fb7cb24e681ac7f5f": {
          "model_module": "@jupyter-widgets/controls",
          "model_name": "HBoxModel",
          "state": {
            "_view_name": "HBoxView",
            "_dom_classes": [],
            "_model_name": "HBoxModel",
            "_view_module": "@jupyter-widgets/controls",
            "_model_module_version": "1.5.0",
            "_view_count": null,
            "_view_module_version": "1.5.0",
            "box_style": "",
            "layout": "IPY_MODEL_9c2aa7d4a7c34207b34760eac1ec95e7",
            "_model_module": "@jupyter-widgets/controls",
            "children": [
              "IPY_MODEL_012a1b0dfb524876b131b82645ebd6f8",
              "IPY_MODEL_369d04434a694294b3f76e738759b1f2"
            ]
          }
        },
        "9c2aa7d4a7c34207b34760eac1ec95e7": {
          "model_module": "@jupyter-widgets/base",
          "model_name": "LayoutModel",
          "state": {
            "_view_name": "LayoutView",
            "grid_template_rows": null,
            "right": null,
            "justify_content": null,
            "_view_module": "@jupyter-widgets/base",
            "overflow": null,
            "_model_module_version": "1.2.0",
            "_view_count": null,
            "flex_flow": null,
            "width": null,
            "min_width": null,
            "border": null,
            "align_items": null,
            "bottom": null,
            "_model_module": "@jupyter-widgets/base",
            "top": null,
            "grid_column": null,
            "overflow_y": null,
            "overflow_x": null,
            "grid_auto_flow": null,
            "grid_area": null,
            "grid_template_columns": null,
            "flex": null,
            "_model_name": "LayoutModel",
            "justify_items": null,
            "grid_row": null,
            "max_height": null,
            "align_content": null,
            "visibility": null,
            "align_self": null,
            "height": null,
            "min_height": null,
            "padding": null,
            "grid_auto_rows": null,
            "grid_gap": null,
            "max_width": null,
            "order": null,
            "_view_module_version": "1.2.0",
            "grid_template_areas": null,
            "object_position": null,
            "object_fit": null,
            "grid_auto_columns": null,
            "margin": null,
            "display": null,
            "left": null
          }
        },
        "012a1b0dfb524876b131b82645ebd6f8": {
          "model_module": "@jupyter-widgets/controls",
          "model_name": "FloatProgressModel",
          "state": {
            "_view_name": "ProgressView",
            "style": "IPY_MODEL_a3606d26c13f40a9a7d2632ec47da27a",
            "_dom_classes": [],
            "description": "100%",
            "_model_name": "FloatProgressModel",
            "bar_style": "success",
            "max": 738,
            "_view_module": "@jupyter-widgets/controls",
            "_model_module_version": "1.5.0",
            "value": 738,
            "_view_count": null,
            "_view_module_version": "1.5.0",
            "orientation": "horizontal",
            "min": 0,
            "description_tooltip": null,
            "_model_module": "@jupyter-widgets/controls",
            "layout": "IPY_MODEL_4d0503c3ed1540939547872fcd2cdf4a"
          }
        },
        "369d04434a694294b3f76e738759b1f2": {
          "model_module": "@jupyter-widgets/controls",
          "model_name": "HTMLModel",
          "state": {
            "_view_name": "HTMLView",
            "style": "IPY_MODEL_6b5664bb5edd4c3d90d9ce484fb86f15",
            "_dom_classes": [],
            "description": "",
            "_model_name": "HTMLModel",
            "placeholder": "​",
            "_view_module": "@jupyter-widgets/controls",
            "_model_module_version": "1.5.0",
            "value": " 738/738 [05:06&lt;00:00,  2.41it/s]",
            "_view_count": null,
            "_view_module_version": "1.5.0",
            "description_tooltip": null,
            "_model_module": "@jupyter-widgets/controls",
            "layout": "IPY_MODEL_95fef11c019b4f589a6cdb642b9ff05c"
          }
        },
        "a3606d26c13f40a9a7d2632ec47da27a": {
          "model_module": "@jupyter-widgets/controls",
          "model_name": "ProgressStyleModel",
          "state": {
            "_view_name": "StyleView",
            "_model_name": "ProgressStyleModel",
            "description_width": "initial",
            "_view_module": "@jupyter-widgets/base",
            "_model_module_version": "1.5.0",
            "_view_count": null,
            "_view_module_version": "1.2.0",
            "bar_color": null,
            "_model_module": "@jupyter-widgets/controls"
          }
        },
        "4d0503c3ed1540939547872fcd2cdf4a": {
          "model_module": "@jupyter-widgets/base",
          "model_name": "LayoutModel",
          "state": {
            "_view_name": "LayoutView",
            "grid_template_rows": null,
            "right": null,
            "justify_content": null,
            "_view_module": "@jupyter-widgets/base",
            "overflow": null,
            "_model_module_version": "1.2.0",
            "_view_count": null,
            "flex_flow": null,
            "width": null,
            "min_width": null,
            "border": null,
            "align_items": null,
            "bottom": null,
            "_model_module": "@jupyter-widgets/base",
            "top": null,
            "grid_column": null,
            "overflow_y": null,
            "overflow_x": null,
            "grid_auto_flow": null,
            "grid_area": null,
            "grid_template_columns": null,
            "flex": null,
            "_model_name": "LayoutModel",
            "justify_items": null,
            "grid_row": null,
            "max_height": null,
            "align_content": null,
            "visibility": null,
            "align_self": null,
            "height": null,
            "min_height": null,
            "padding": null,
            "grid_auto_rows": null,
            "grid_gap": null,
            "max_width": null,
            "order": null,
            "_view_module_version": "1.2.0",
            "grid_template_areas": null,
            "object_position": null,
            "object_fit": null,
            "grid_auto_columns": null,
            "margin": null,
            "display": null,
            "left": null
          }
        },
        "6b5664bb5edd4c3d90d9ce484fb86f15": {
          "model_module": "@jupyter-widgets/controls",
          "model_name": "DescriptionStyleModel",
          "state": {
            "_view_name": "StyleView",
            "_model_name": "DescriptionStyleModel",
            "description_width": "",
            "_view_module": "@jupyter-widgets/base",
            "_model_module_version": "1.5.0",
            "_view_count": null,
            "_view_module_version": "1.2.0",
            "_model_module": "@jupyter-widgets/controls"
          }
        },
        "95fef11c019b4f589a6cdb642b9ff05c": {
          "model_module": "@jupyter-widgets/base",
          "model_name": "LayoutModel",
          "state": {
            "_view_name": "LayoutView",
            "grid_template_rows": null,
            "right": null,
            "justify_content": null,
            "_view_module": "@jupyter-widgets/base",
            "overflow": null,
            "_model_module_version": "1.2.0",
            "_view_count": null,
            "flex_flow": null,
            "width": null,
            "min_width": null,
            "border": null,
            "align_items": null,
            "bottom": null,
            "_model_module": "@jupyter-widgets/base",
            "top": null,
            "grid_column": null,
            "overflow_y": null,
            "overflow_x": null,
            "grid_auto_flow": null,
            "grid_area": null,
            "grid_template_columns": null,
            "flex": null,
            "_model_name": "LayoutModel",
            "justify_items": null,
            "grid_row": null,
            "max_height": null,
            "align_content": null,
            "visibility": null,
            "align_self": null,
            "height": null,
            "min_height": null,
            "padding": null,
            "grid_auto_rows": null,
            "grid_gap": null,
            "max_width": null,
            "order": null,
            "_view_module_version": "1.2.0",
            "grid_template_areas": null,
            "object_position": null,
            "object_fit": null,
            "grid_auto_columns": null,
            "margin": null,
            "display": null,
            "left": null
          }
        },
        "c313671d0f234b6ebd9953c20e19b4af": {
          "model_module": "@jupyter-widgets/controls",
          "model_name": "HBoxModel",
          "state": {
            "_view_name": "HBoxView",
            "_dom_classes": [],
            "_model_name": "HBoxModel",
            "_view_module": "@jupyter-widgets/controls",
            "_model_module_version": "1.5.0",
            "_view_count": null,
            "_view_module_version": "1.5.0",
            "box_style": "",
            "layout": "IPY_MODEL_514dfa448b894e22ad3b872994f82316",
            "_model_module": "@jupyter-widgets/controls",
            "children": [
              "IPY_MODEL_c17486e3b5ae4b1b874edac78a49d70d",
              "IPY_MODEL_b20ba1ea429f458b935e5e39db396fa5"
            ]
          }
        },
        "514dfa448b894e22ad3b872994f82316": {
          "model_module": "@jupyter-widgets/base",
          "model_name": "LayoutModel",
          "state": {
            "_view_name": "LayoutView",
            "grid_template_rows": null,
            "right": null,
            "justify_content": null,
            "_view_module": "@jupyter-widgets/base",
            "overflow": null,
            "_model_module_version": "1.2.0",
            "_view_count": null,
            "flex_flow": null,
            "width": null,
            "min_width": null,
            "border": null,
            "align_items": null,
            "bottom": null,
            "_model_module": "@jupyter-widgets/base",
            "top": null,
            "grid_column": null,
            "overflow_y": null,
            "overflow_x": null,
            "grid_auto_flow": null,
            "grid_area": null,
            "grid_template_columns": null,
            "flex": null,
            "_model_name": "LayoutModel",
            "justify_items": null,
            "grid_row": null,
            "max_height": null,
            "align_content": null,
            "visibility": null,
            "align_self": null,
            "height": null,
            "min_height": null,
            "padding": null,
            "grid_auto_rows": null,
            "grid_gap": null,
            "max_width": null,
            "order": null,
            "_view_module_version": "1.2.0",
            "grid_template_areas": null,
            "object_position": null,
            "object_fit": null,
            "grid_auto_columns": null,
            "margin": null,
            "display": null,
            "left": null
          }
        },
        "c17486e3b5ae4b1b874edac78a49d70d": {
          "model_module": "@jupyter-widgets/controls",
          "model_name": "FloatProgressModel",
          "state": {
            "_view_name": "ProgressView",
            "style": "IPY_MODEL_a80aa84482804a5593443e7d3e16da99",
            "_dom_classes": [],
            "description": "100%",
            "_model_name": "FloatProgressModel",
            "bar_style": "success",
            "max": 738,
            "_view_module": "@jupyter-widgets/controls",
            "_model_module_version": "1.5.0",
            "value": 738,
            "_view_count": null,
            "_view_module_version": "1.5.0",
            "orientation": "horizontal",
            "min": 0,
            "description_tooltip": null,
            "_model_module": "@jupyter-widgets/controls",
            "layout": "IPY_MODEL_24abbeda3f1f4e9a8efa4d44ec1b9c8f"
          }
        },
        "b20ba1ea429f458b935e5e39db396fa5": {
          "model_module": "@jupyter-widgets/controls",
          "model_name": "HTMLModel",
          "state": {
            "_view_name": "HTMLView",
            "style": "IPY_MODEL_c99dc8c8e0fa4bf49ebb7bfb761c1f98",
            "_dom_classes": [],
            "description": "",
            "_model_name": "HTMLModel",
            "placeholder": "​",
            "_view_module": "@jupyter-widgets/controls",
            "_model_module_version": "1.5.0",
            "value": " 738/738 [05:06&lt;00:00,  2.41it/s]",
            "_view_count": null,
            "_view_module_version": "1.5.0",
            "description_tooltip": null,
            "_model_module": "@jupyter-widgets/controls",
            "layout": "IPY_MODEL_a5207828bba54c2c9c2e64f660611677"
          }
        },
        "a80aa84482804a5593443e7d3e16da99": {
          "model_module": "@jupyter-widgets/controls",
          "model_name": "ProgressStyleModel",
          "state": {
            "_view_name": "StyleView",
            "_model_name": "ProgressStyleModel",
            "description_width": "initial",
            "_view_module": "@jupyter-widgets/base",
            "_model_module_version": "1.5.0",
            "_view_count": null,
            "_view_module_version": "1.2.0",
            "bar_color": null,
            "_model_module": "@jupyter-widgets/controls"
          }
        },
        "24abbeda3f1f4e9a8efa4d44ec1b9c8f": {
          "model_module": "@jupyter-widgets/base",
          "model_name": "LayoutModel",
          "state": {
            "_view_name": "LayoutView",
            "grid_template_rows": null,
            "right": null,
            "justify_content": null,
            "_view_module": "@jupyter-widgets/base",
            "overflow": null,
            "_model_module_version": "1.2.0",
            "_view_count": null,
            "flex_flow": null,
            "width": null,
            "min_width": null,
            "border": null,
            "align_items": null,
            "bottom": null,
            "_model_module": "@jupyter-widgets/base",
            "top": null,
            "grid_column": null,
            "overflow_y": null,
            "overflow_x": null,
            "grid_auto_flow": null,
            "grid_area": null,
            "grid_template_columns": null,
            "flex": null,
            "_model_name": "LayoutModel",
            "justify_items": null,
            "grid_row": null,
            "max_height": null,
            "align_content": null,
            "visibility": null,
            "align_self": null,
            "height": null,
            "min_height": null,
            "padding": null,
            "grid_auto_rows": null,
            "grid_gap": null,
            "max_width": null,
            "order": null,
            "_view_module_version": "1.2.0",
            "grid_template_areas": null,
            "object_position": null,
            "object_fit": null,
            "grid_auto_columns": null,
            "margin": null,
            "display": null,
            "left": null
          }
        },
        "c99dc8c8e0fa4bf49ebb7bfb761c1f98": {
          "model_module": "@jupyter-widgets/controls",
          "model_name": "DescriptionStyleModel",
          "state": {
            "_view_name": "StyleView",
            "_model_name": "DescriptionStyleModel",
            "description_width": "",
            "_view_module": "@jupyter-widgets/base",
            "_model_module_version": "1.5.0",
            "_view_count": null,
            "_view_module_version": "1.2.0",
            "_model_module": "@jupyter-widgets/controls"
          }
        },
        "a5207828bba54c2c9c2e64f660611677": {
          "model_module": "@jupyter-widgets/base",
          "model_name": "LayoutModel",
          "state": {
            "_view_name": "LayoutView",
            "grid_template_rows": null,
            "right": null,
            "justify_content": null,
            "_view_module": "@jupyter-widgets/base",
            "overflow": null,
            "_model_module_version": "1.2.0",
            "_view_count": null,
            "flex_flow": null,
            "width": null,
            "min_width": null,
            "border": null,
            "align_items": null,
            "bottom": null,
            "_model_module": "@jupyter-widgets/base",
            "top": null,
            "grid_column": null,
            "overflow_y": null,
            "overflow_x": null,
            "grid_auto_flow": null,
            "grid_area": null,
            "grid_template_columns": null,
            "flex": null,
            "_model_name": "LayoutModel",
            "justify_items": null,
            "grid_row": null,
            "max_height": null,
            "align_content": null,
            "visibility": null,
            "align_self": null,
            "height": null,
            "min_height": null,
            "padding": null,
            "grid_auto_rows": null,
            "grid_gap": null,
            "max_width": null,
            "order": null,
            "_view_module_version": "1.2.0",
            "grid_template_areas": null,
            "object_position": null,
            "object_fit": null,
            "grid_auto_columns": null,
            "margin": null,
            "display": null,
            "left": null
          }
        },
        "14fcefe5c5504fa48a879fd1d7a4208a": {
          "model_module": "@jupyter-widgets/controls",
          "model_name": "HBoxModel",
          "state": {
            "_view_name": "HBoxView",
            "_dom_classes": [],
            "_model_name": "HBoxModel",
            "_view_module": "@jupyter-widgets/controls",
            "_model_module_version": "1.5.0",
            "_view_count": null,
            "_view_module_version": "1.5.0",
            "box_style": "",
            "layout": "IPY_MODEL_e166533ebbe64ddab48fb287c5dad1e4",
            "_model_module": "@jupyter-widgets/controls",
            "children": [
              "IPY_MODEL_c65e01b9e4d74fc4b9cbec11d535368c",
              "IPY_MODEL_a0523b68f0b64512b855862d281da20b"
            ]
          }
        },
        "e166533ebbe64ddab48fb287c5dad1e4": {
          "model_module": "@jupyter-widgets/base",
          "model_name": "LayoutModel",
          "state": {
            "_view_name": "LayoutView",
            "grid_template_rows": null,
            "right": null,
            "justify_content": null,
            "_view_module": "@jupyter-widgets/base",
            "overflow": null,
            "_model_module_version": "1.2.0",
            "_view_count": null,
            "flex_flow": null,
            "width": null,
            "min_width": null,
            "border": null,
            "align_items": null,
            "bottom": null,
            "_model_module": "@jupyter-widgets/base",
            "top": null,
            "grid_column": null,
            "overflow_y": null,
            "overflow_x": null,
            "grid_auto_flow": null,
            "grid_area": null,
            "grid_template_columns": null,
            "flex": null,
            "_model_name": "LayoutModel",
            "justify_items": null,
            "grid_row": null,
            "max_height": null,
            "align_content": null,
            "visibility": null,
            "align_self": null,
            "height": null,
            "min_height": null,
            "padding": null,
            "grid_auto_rows": null,
            "grid_gap": null,
            "max_width": null,
            "order": null,
            "_view_module_version": "1.2.0",
            "grid_template_areas": null,
            "object_position": null,
            "object_fit": null,
            "grid_auto_columns": null,
            "margin": null,
            "display": null,
            "left": null
          }
        },
        "c65e01b9e4d74fc4b9cbec11d535368c": {
          "model_module": "@jupyter-widgets/controls",
          "model_name": "FloatProgressModel",
          "state": {
            "_view_name": "ProgressView",
            "style": "IPY_MODEL_cece026e5fd14647b4cd52bb223f9559",
            "_dom_classes": [],
            "description": "100%",
            "_model_name": "FloatProgressModel",
            "bar_style": "success",
            "max": 738,
            "_view_module": "@jupyter-widgets/controls",
            "_model_module_version": "1.5.0",
            "value": 738,
            "_view_count": null,
            "_view_module_version": "1.5.0",
            "orientation": "horizontal",
            "min": 0,
            "description_tooltip": null,
            "_model_module": "@jupyter-widgets/controls",
            "layout": "IPY_MODEL_c44af0bf9cee4227af605b9ce083e0b8"
          }
        },
        "a0523b68f0b64512b855862d281da20b": {
          "model_module": "@jupyter-widgets/controls",
          "model_name": "HTMLModel",
          "state": {
            "_view_name": "HTMLView",
            "style": "IPY_MODEL_e9ebbfe09d7a465ea17e8832e73f405d",
            "_dom_classes": [],
            "description": "",
            "_model_name": "HTMLModel",
            "placeholder": "​",
            "_view_module": "@jupyter-widgets/controls",
            "_model_module_version": "1.5.0",
            "value": " 738/738 [10:12&lt;00:00,  1.20it/s]",
            "_view_count": null,
            "_view_module_version": "1.5.0",
            "description_tooltip": null,
            "_model_module": "@jupyter-widgets/controls",
            "layout": "IPY_MODEL_619b76f998ad467baa6d48fcc3d8cf34"
          }
        },
        "cece026e5fd14647b4cd52bb223f9559": {
          "model_module": "@jupyter-widgets/controls",
          "model_name": "ProgressStyleModel",
          "state": {
            "_view_name": "StyleView",
            "_model_name": "ProgressStyleModel",
            "description_width": "initial",
            "_view_module": "@jupyter-widgets/base",
            "_model_module_version": "1.5.0",
            "_view_count": null,
            "_view_module_version": "1.2.0",
            "bar_color": null,
            "_model_module": "@jupyter-widgets/controls"
          }
        },
        "c44af0bf9cee4227af605b9ce083e0b8": {
          "model_module": "@jupyter-widgets/base",
          "model_name": "LayoutModel",
          "state": {
            "_view_name": "LayoutView",
            "grid_template_rows": null,
            "right": null,
            "justify_content": null,
            "_view_module": "@jupyter-widgets/base",
            "overflow": null,
            "_model_module_version": "1.2.0",
            "_view_count": null,
            "flex_flow": null,
            "width": null,
            "min_width": null,
            "border": null,
            "align_items": null,
            "bottom": null,
            "_model_module": "@jupyter-widgets/base",
            "top": null,
            "grid_column": null,
            "overflow_y": null,
            "overflow_x": null,
            "grid_auto_flow": null,
            "grid_area": null,
            "grid_template_columns": null,
            "flex": null,
            "_model_name": "LayoutModel",
            "justify_items": null,
            "grid_row": null,
            "max_height": null,
            "align_content": null,
            "visibility": null,
            "align_self": null,
            "height": null,
            "min_height": null,
            "padding": null,
            "grid_auto_rows": null,
            "grid_gap": null,
            "max_width": null,
            "order": null,
            "_view_module_version": "1.2.0",
            "grid_template_areas": null,
            "object_position": null,
            "object_fit": null,
            "grid_auto_columns": null,
            "margin": null,
            "display": null,
            "left": null
          }
        },
        "e9ebbfe09d7a465ea17e8832e73f405d": {
          "model_module": "@jupyter-widgets/controls",
          "model_name": "DescriptionStyleModel",
          "state": {
            "_view_name": "StyleView",
            "_model_name": "DescriptionStyleModel",
            "description_width": "",
            "_view_module": "@jupyter-widgets/base",
            "_model_module_version": "1.5.0",
            "_view_count": null,
            "_view_module_version": "1.2.0",
            "_model_module": "@jupyter-widgets/controls"
          }
        },
        "619b76f998ad467baa6d48fcc3d8cf34": {
          "model_module": "@jupyter-widgets/base",
          "model_name": "LayoutModel",
          "state": {
            "_view_name": "LayoutView",
            "grid_template_rows": null,
            "right": null,
            "justify_content": null,
            "_view_module": "@jupyter-widgets/base",
            "overflow": null,
            "_model_module_version": "1.2.0",
            "_view_count": null,
            "flex_flow": null,
            "width": null,
            "min_width": null,
            "border": null,
            "align_items": null,
            "bottom": null,
            "_model_module": "@jupyter-widgets/base",
            "top": null,
            "grid_column": null,
            "overflow_y": null,
            "overflow_x": null,
            "grid_auto_flow": null,
            "grid_area": null,
            "grid_template_columns": null,
            "flex": null,
            "_model_name": "LayoutModel",
            "justify_items": null,
            "grid_row": null,
            "max_height": null,
            "align_content": null,
            "visibility": null,
            "align_self": null,
            "height": null,
            "min_height": null,
            "padding": null,
            "grid_auto_rows": null,
            "grid_gap": null,
            "max_width": null,
            "order": null,
            "_view_module_version": "1.2.0",
            "grid_template_areas": null,
            "object_position": null,
            "object_fit": null,
            "grid_auto_columns": null,
            "margin": null,
            "display": null,
            "left": null
          }
        },
        "4f743338d5b74917b3f8fffb8d2e73db": {
          "model_module": "@jupyter-widgets/controls",
          "model_name": "HBoxModel",
          "state": {
            "_view_name": "HBoxView",
            "_dom_classes": [],
            "_model_name": "HBoxModel",
            "_view_module": "@jupyter-widgets/controls",
            "_model_module_version": "1.5.0",
            "_view_count": null,
            "_view_module_version": "1.5.0",
            "box_style": "",
            "layout": "IPY_MODEL_bc3f7cddb82e46699be3821c5f3e72d1",
            "_model_module": "@jupyter-widgets/controls",
            "children": [
              "IPY_MODEL_120916b33e6f4d5eae29f3016586fa4e",
              "IPY_MODEL_cd17fc8a850b4ae8b25b07f759c0de08"
            ]
          }
        },
        "bc3f7cddb82e46699be3821c5f3e72d1": {
          "model_module": "@jupyter-widgets/base",
          "model_name": "LayoutModel",
          "state": {
            "_view_name": "LayoutView",
            "grid_template_rows": null,
            "right": null,
            "justify_content": null,
            "_view_module": "@jupyter-widgets/base",
            "overflow": null,
            "_model_module_version": "1.2.0",
            "_view_count": null,
            "flex_flow": null,
            "width": null,
            "min_width": null,
            "border": null,
            "align_items": null,
            "bottom": null,
            "_model_module": "@jupyter-widgets/base",
            "top": null,
            "grid_column": null,
            "overflow_y": null,
            "overflow_x": null,
            "grid_auto_flow": null,
            "grid_area": null,
            "grid_template_columns": null,
            "flex": null,
            "_model_name": "LayoutModel",
            "justify_items": null,
            "grid_row": null,
            "max_height": null,
            "align_content": null,
            "visibility": null,
            "align_self": null,
            "height": null,
            "min_height": null,
            "padding": null,
            "grid_auto_rows": null,
            "grid_gap": null,
            "max_width": null,
            "order": null,
            "_view_module_version": "1.2.0",
            "grid_template_areas": null,
            "object_position": null,
            "object_fit": null,
            "grid_auto_columns": null,
            "margin": null,
            "display": null,
            "left": null
          }
        },
        "120916b33e6f4d5eae29f3016586fa4e": {
          "model_module": "@jupyter-widgets/controls",
          "model_name": "FloatProgressModel",
          "state": {
            "_view_name": "ProgressView",
            "style": "IPY_MODEL_61dd357cc7c346e495d96e388e2d04b4",
            "_dom_classes": [],
            "description": "100%",
            "_model_name": "FloatProgressModel",
            "bar_style": "success",
            "max": 738,
            "_view_module": "@jupyter-widgets/controls",
            "_model_module_version": "1.5.0",
            "value": 738,
            "_view_count": null,
            "_view_module_version": "1.5.0",
            "orientation": "horizontal",
            "min": 0,
            "description_tooltip": null,
            "_model_module": "@jupyter-widgets/controls",
            "layout": "IPY_MODEL_4eeaafaf91f0430f9bd3e4ddda7ac888"
          }
        },
        "cd17fc8a850b4ae8b25b07f759c0de08": {
          "model_module": "@jupyter-widgets/controls",
          "model_name": "HTMLModel",
          "state": {
            "_view_name": "HTMLView",
            "style": "IPY_MODEL_8746458b742540379d3988bad4d694cb",
            "_dom_classes": [],
            "description": "",
            "_model_name": "HTMLModel",
            "placeholder": "​",
            "_view_module": "@jupyter-widgets/controls",
            "_model_module_version": "1.5.0",
            "value": " 738/738 [05:06&lt;00:00,  2.41it/s]",
            "_view_count": null,
            "_view_module_version": "1.5.0",
            "description_tooltip": null,
            "_model_module": "@jupyter-widgets/controls",
            "layout": "IPY_MODEL_11ef4170eddf43daa92c67de985d00c1"
          }
        },
        "61dd357cc7c346e495d96e388e2d04b4": {
          "model_module": "@jupyter-widgets/controls",
          "model_name": "ProgressStyleModel",
          "state": {
            "_view_name": "StyleView",
            "_model_name": "ProgressStyleModel",
            "description_width": "initial",
            "_view_module": "@jupyter-widgets/base",
            "_model_module_version": "1.5.0",
            "_view_count": null,
            "_view_module_version": "1.2.0",
            "bar_color": null,
            "_model_module": "@jupyter-widgets/controls"
          }
        },
        "4eeaafaf91f0430f9bd3e4ddda7ac888": {
          "model_module": "@jupyter-widgets/base",
          "model_name": "LayoutModel",
          "state": {
            "_view_name": "LayoutView",
            "grid_template_rows": null,
            "right": null,
            "justify_content": null,
            "_view_module": "@jupyter-widgets/base",
            "overflow": null,
            "_model_module_version": "1.2.0",
            "_view_count": null,
            "flex_flow": null,
            "width": null,
            "min_width": null,
            "border": null,
            "align_items": null,
            "bottom": null,
            "_model_module": "@jupyter-widgets/base",
            "top": null,
            "grid_column": null,
            "overflow_y": null,
            "overflow_x": null,
            "grid_auto_flow": null,
            "grid_area": null,
            "grid_template_columns": null,
            "flex": null,
            "_model_name": "LayoutModel",
            "justify_items": null,
            "grid_row": null,
            "max_height": null,
            "align_content": null,
            "visibility": null,
            "align_self": null,
            "height": null,
            "min_height": null,
            "padding": null,
            "grid_auto_rows": null,
            "grid_gap": null,
            "max_width": null,
            "order": null,
            "_view_module_version": "1.2.0",
            "grid_template_areas": null,
            "object_position": null,
            "object_fit": null,
            "grid_auto_columns": null,
            "margin": null,
            "display": null,
            "left": null
          }
        },
        "8746458b742540379d3988bad4d694cb": {
          "model_module": "@jupyter-widgets/controls",
          "model_name": "DescriptionStyleModel",
          "state": {
            "_view_name": "StyleView",
            "_model_name": "DescriptionStyleModel",
            "description_width": "",
            "_view_module": "@jupyter-widgets/base",
            "_model_module_version": "1.5.0",
            "_view_count": null,
            "_view_module_version": "1.2.0",
            "_model_module": "@jupyter-widgets/controls"
          }
        },
        "11ef4170eddf43daa92c67de985d00c1": {
          "model_module": "@jupyter-widgets/base",
          "model_name": "LayoutModel",
          "state": {
            "_view_name": "LayoutView",
            "grid_template_rows": null,
            "right": null,
            "justify_content": null,
            "_view_module": "@jupyter-widgets/base",
            "overflow": null,
            "_model_module_version": "1.2.0",
            "_view_count": null,
            "flex_flow": null,
            "width": null,
            "min_width": null,
            "border": null,
            "align_items": null,
            "bottom": null,
            "_model_module": "@jupyter-widgets/base",
            "top": null,
            "grid_column": null,
            "overflow_y": null,
            "overflow_x": null,
            "grid_auto_flow": null,
            "grid_area": null,
            "grid_template_columns": null,
            "flex": null,
            "_model_name": "LayoutModel",
            "justify_items": null,
            "grid_row": null,
            "max_height": null,
            "align_content": null,
            "visibility": null,
            "align_self": null,
            "height": null,
            "min_height": null,
            "padding": null,
            "grid_auto_rows": null,
            "grid_gap": null,
            "max_width": null,
            "order": null,
            "_view_module_version": "1.2.0",
            "grid_template_areas": null,
            "object_position": null,
            "object_fit": null,
            "grid_auto_columns": null,
            "margin": null,
            "display": null,
            "left": null
          }
        }
      }
    }
  },
  "cells": [
    {
      "cell_type": "markdown",
      "metadata": {
        "id": "view-in-github",
        "colab_type": "text"
      },
      "source": [
        "<a href=\"https://colab.research.google.com/github/MunJinSeo/MyProject/blob/master/daniel021_friends_electra_base.ipynb\" target=\"_parent\"><img src=\"https://colab.research.google.com/assets/colab-badge.svg\" alt=\"Open In Colab\"/></a>"
      ]
    },
    {
      "cell_type": "markdown",
      "metadata": {
        "id": "cdjLL9gvyVCR"
      },
      "source": [
        "# 영어(Friends) ELECTRA를_이용한_감정분석기_학습 (Pytorch + HuggingFace)\n",
        "# Colab 에서 개발 및 실행\n",
        "# Github : https://github.com/MunJinSeo/MyProject/\n",
        "<br>\n",
        "\n",
        "## References 1\n",
        "- 김희규님의 \"HuggingFace KoElectra로 NSMC 감성분석 Fine-tuning해보기\"<br>\n",
        "https://heegyukim.medium.com/huggingface-koelectra%EB%A1%9C-nsmc-%EA%B0%90%EC%84%B1%EB%B6%84%EB%A5%98%EB%AA%A8%EB%8D%B8%ED%95%99%EC%8A%B5%ED%95%98%EA%B8%B0-1a23a0c704af\n",
        "\n",
        "- 이지원님의 Github : nlp_emotion_classification <br>\n",
        "https://github.com/jiwonny/nlp_emotion_classification\n",
        "\n",
        "## 사용모델 ELECTRA\n",
        "- 한국어 : 박장원님의 KoELECTRA 사용<br>\n",
        "https://monologg.kr/2020/05/02/koelectra-part1/<br>\n",
        "https://github.com/monologg/KoELECTRA\n",
        "- 영어 : 구글 ELECTRA 사용<br>\n",
        "https://huggingface.co/google/electra-small-discriminator<br>\n",
        "https://github.com/google-research/electra\n",
        "\n",
        "## Dataset (학습에는 train만 사용함, test는 감점대상)\n",
        "- 한국어 : 네이버 영화 리뷰 데이터셋 <br>\n",
        "https://github.com/e9t/nsmc\n",
        "- 영어 : Freinds <br>\n",
        "http://doraemon.iis.sinica.edu.tw/emotionlines/\n",
        "\n",
        "## References 2\n",
        "- https://colab.research.google.com/drive/1tIf0Ugdqg4qT7gcxia3tL7und64Rv1dP\n",
        "- https://blog.naver.com/horajjan/221739630055\n",
        "<br>@전처리 관련@<br>\n",
        "- https://github.com/YongWookHa/kor-text-preprocess\n",
        "- https://github.com/likejazz/korean-sentence-splitter\n",
        "- https://github.com/lovit/soynlp\n",
        "<br>@@<br>\n",
        "- https://huggingface.co/transformers/training.html\n",
        "- https://tutorials.pytorch.kr/beginner/data_loading_tutorial.html\n",
        "- https://tutorials.pytorch.kr/beginner/blitz/cifar10_tutorial.html\n",
        "- https://wikidocs.net/44249\n",
        "\n",
        "\n",
        "## 기타/유의사항\n",
        "- 반드시 GPU로 실행 - Colab무료환경에서 1epoch 당 약 10~20분 소요<br>\n",
        "- CUDA(GPU) 메모리 오버되는경우 학습시 Batch size 줄여서 해볼것\n",
        "- 학습용 데이터 파일은 사전에 업로드 할것"
      ]
    },
    {
      "cell_type": "markdown",
      "metadata": {
        "id": "dAi68f2lmB--"
      },
      "source": [
        "# 필요 lib 설치"
      ]
    },
    {
      "cell_type": "code",
      "metadata": {
        "id": "hc7P9wzHv0LE",
        "colab": {
          "base_uri": "https://localhost:8080/"
        },
        "outputId": "2275b274-fdc4-4c44-cb38-641f91053dae"
      },
      "source": [
        "# lib 설치\n",
        "!pip install transformers\n",
        "!pip install torch"
      ],
      "execution_count": null,
      "outputs": [
        {
          "output_type": "stream",
          "text": [
            "Collecting transformers\n",
            "\u001b[?25l  Downloading https://files.pythonhosted.org/packages/50/0c/7d5950fcd80b029be0a8891727ba21e0cd27692c407c51261c3c921f6da3/transformers-4.1.1-py3-none-any.whl (1.5MB)\n",
            "\u001b[K     |████████████████████████████████| 1.5MB 6.5MB/s \n",
            "\u001b[?25hCollecting sacremoses\n",
            "\u001b[?25l  Downloading https://files.pythonhosted.org/packages/7d/34/09d19aff26edcc8eb2a01bed8e98f13a1537005d31e95233fd48216eed10/sacremoses-0.0.43.tar.gz (883kB)\n",
            "\u001b[K     |████████████████████████████████| 890kB 30.2MB/s \n",
            "\u001b[?25hRequirement already satisfied: tqdm>=4.27 in /usr/local/lib/python3.6/dist-packages (from transformers) (4.41.1)\n",
            "Requirement already satisfied: filelock in /usr/local/lib/python3.6/dist-packages (from transformers) (3.0.12)\n",
            "Requirement already satisfied: numpy in /usr/local/lib/python3.6/dist-packages (from transformers) (1.19.4)\n",
            "Requirement already satisfied: dataclasses; python_version < \"3.7\" in /usr/local/lib/python3.6/dist-packages (from transformers) (0.8)\n",
            "Collecting tokenizers==0.9.4\n",
            "\u001b[?25l  Downloading https://files.pythonhosted.org/packages/0f/1c/e789a8b12e28be5bc1ce2156cf87cb522b379be9cadc7ad8091a4cc107c4/tokenizers-0.9.4-cp36-cp36m-manylinux2010_x86_64.whl (2.9MB)\n",
            "\u001b[K     |████████████████████████████████| 2.9MB 35.7MB/s \n",
            "\u001b[?25hRequirement already satisfied: regex!=2019.12.17 in /usr/local/lib/python3.6/dist-packages (from transformers) (2019.12.20)\n",
            "Requirement already satisfied: requests in /usr/local/lib/python3.6/dist-packages (from transformers) (2.23.0)\n",
            "Requirement already satisfied: packaging in /usr/local/lib/python3.6/dist-packages (from transformers) (20.8)\n",
            "Requirement already satisfied: six in /usr/local/lib/python3.6/dist-packages (from sacremoses->transformers) (1.15.0)\n",
            "Requirement already satisfied: click in /usr/local/lib/python3.6/dist-packages (from sacremoses->transformers) (7.1.2)\n",
            "Requirement already satisfied: joblib in /usr/local/lib/python3.6/dist-packages (from sacremoses->transformers) (1.0.0)\n",
            "Requirement already satisfied: chardet<4,>=3.0.2 in /usr/local/lib/python3.6/dist-packages (from requests->transformers) (3.0.4)\n",
            "Requirement already satisfied: urllib3!=1.25.0,!=1.25.1,<1.26,>=1.21.1 in /usr/local/lib/python3.6/dist-packages (from requests->transformers) (1.24.3)\n",
            "Requirement already satisfied: idna<3,>=2.5 in /usr/local/lib/python3.6/dist-packages (from requests->transformers) (2.10)\n",
            "Requirement already satisfied: certifi>=2017.4.17 in /usr/local/lib/python3.6/dist-packages (from requests->transformers) (2020.12.5)\n",
            "Requirement already satisfied: pyparsing>=2.0.2 in /usr/local/lib/python3.6/dist-packages (from packaging->transformers) (2.4.7)\n",
            "Building wheels for collected packages: sacremoses\n",
            "  Building wheel for sacremoses (setup.py) ... \u001b[?25l\u001b[?25hdone\n",
            "  Created wheel for sacremoses: filename=sacremoses-0.0.43-cp36-none-any.whl size=893261 sha256=b3ad5be1e030e18f2299f119b13de857891dc629c6da16d0611fb865f1eec0aa\n",
            "  Stored in directory: /root/.cache/pip/wheels/29/3c/fd/7ce5c3f0666dab31a50123635e6fb5e19ceb42ce38d4e58f45\n",
            "Successfully built sacremoses\n",
            "Installing collected packages: sacremoses, tokenizers, transformers\n",
            "Successfully installed sacremoses-0.0.43 tokenizers-0.9.4 transformers-4.1.1\n",
            "Requirement already satisfied: torch in /usr/local/lib/python3.6/dist-packages (1.7.0+cu101)\n",
            "Requirement already satisfied: typing-extensions in /usr/local/lib/python3.6/dist-packages (from torch) (3.7.4.3)\n",
            "Requirement already satisfied: future in /usr/local/lib/python3.6/dist-packages (from torch) (0.16.0)\n",
            "Requirement already satisfied: dataclasses in /usr/local/lib/python3.6/dist-packages (from torch) (0.8)\n",
            "Requirement already satisfied: numpy in /usr/local/lib/python3.6/dist-packages (from torch) (1.19.4)\n"
          ],
          "name": "stdout"
        }
      ]
    },
    {
      "cell_type": "code",
      "metadata": {
        "id": "emCAmYZwiDbH"
      },
      "source": [
        "#!pip install kss\r\n",
        "#!pip install konlpy\r\n",
        "#!pip install sentencepiece\r\n",
        "#!pip install soynlp"
      ],
      "execution_count": null,
      "outputs": []
    },
    {
      "cell_type": "code",
      "metadata": {
        "id": "eHgwtvRbdOUb"
      },
      "source": [
        "# (미사용) Colab TPU 사용을 위해 설치\r\n",
        "#--!pip install torch_xla\r\n",
        "#--#@param [\"1.5\" , \"20200325\", \"nightly\"]\r\n",
        "#VERSION = \"1.7\"\r\n",
        "#!curl https://raw.githubusercontent.com/pytorch/xla/master/contrib/scripts/env-setup.py -o pytorch-xla-env-setup.py\r\n",
        "#!python pytorch-xla-env-setup.py --version $VERSION"
      ],
      "execution_count": null,
      "outputs": []
    },
    {
      "cell_type": "markdown",
      "metadata": {
        "id": "HWfuBjAXmInF"
      },
      "source": [
        "# Friends 데이터셋 처리"
      ]
    },
    {
      "cell_type": "code",
      "metadata": {
        "id": "GhX0Ze8DV3Oo"
      },
      "source": [
        "#Friends 데이터셋 처리\r\n",
        "#zip파일로 업로드시 아래 사용, Colab에 직접 올려서 사용함\r\n",
        "#!unzip friends_json.zip\r\n"
      ],
      "execution_count": null,
      "outputs": []
    },
    {
      "cell_type": "code",
      "metadata": {
        "id": "_q33PkINy4Q2",
        "colab": {
          "base_uri": "https://localhost:8080/"
        },
        "outputId": "b1cf2a6e-ee5b-4395-cff9-b8506275a9f3"
      },
      "source": [
        "# 학습에는 train만 사용함, test는 감점대상\n",
        "!head friends_train.json\n",
        "!head friends_test.json\n",
        "!head friends_dev.json\n",
        "# !head en_data.csv #별도 kaggle에서 받아서 사용 https://www.kaggle.com/c/english-sa-competition-bdc101"
      ],
      "execution_count": null,
      "outputs": [
        {
          "output_type": "stream",
          "text": [
            "[\n",
            "    [\n",
            "        {\n",
            "            \"speaker\": \"Chandler\",\n",
            "            \"utterance\": \"also I was the point person on my company\\u0092s transition from the KL-5 to GR-6 system.\",\n",
            "            \"emotion\": \"neutral\",\n",
            "            \"annotation\": \"4100000\"\n",
            "        },\n",
            "        {\n",
            "            \"speaker\": \"The Interviewer\",\n",
            "[\n",
            "    [\n",
            "        {\n",
            "            \"speaker\": \"Mark\",\n",
            "            \"utterance\": \"Why do all you\\u0092re coffee mugs have numbers on the bottom?\",\n",
            "            \"emotion\": \"surprise\",\n",
            "            \"annotation\": \"2000030\"\n",
            "        },\n",
            "        {\n",
            "            \"speaker\": \"Rachel\",\n",
            "[\n",
            "    [\n",
            "        {\n",
            "            \"speaker\": \"Phoebe\",\n",
            "            \"utterance\": \"Oh my God, he\\u0092s lost it. He\\u0092s totally lost it.\",\n",
            "            \"emotion\": \"non-neutral\",\n",
            "            \"annotation\": \"0002120\"\n",
            "        },\n",
            "        {\n",
            "            \"speaker\": \"Monica\",\n"
          ],
          "name": "stdout"
        }
      ]
    },
    {
      "cell_type": "markdown",
      "metadata": {
        "id": "BlcJNrwpmMGf"
      },
      "source": [
        "# 필요 모듈 import"
      ]
    },
    {
      "cell_type": "code",
      "metadata": {
        "id": "-iFVHYMAwQUt"
      },
      "source": [
        "import pandas as pd\n",
        "import torch\n",
        "from torch.nn import functional as F\n",
        "from torch.utils.data import DataLoader, Dataset\n",
        "from transformers import AutoTokenizer, ElectraTokenizer, ElectraForSequenceClassification, AdamW\n",
        "from tqdm.notebook import tqdm"
      ],
      "execution_count": null,
      "outputs": []
    },
    {
      "cell_type": "code",
      "metadata": {
        "id": "FrJxirH4dJ3-"
      },
      "source": [
        "# (미사용) TPU 사용을 위해 필요\r\n",
        "#import torch_xla\r\n",
        "#import torch_xla.core.xla_model as xm"
      ],
      "execution_count": null,
      "outputs": []
    },
    {
      "cell_type": "code",
      "metadata": {
        "id": "L5ZMV2iw4KNc"
      },
      "source": [
        "import json\r\n",
        "import numpy as np"
      ],
      "execution_count": null,
      "outputs": []
    },
    {
      "cell_type": "code",
      "metadata": {
        "id": "e960PwpHtb58"
      },
      "source": [
        "#import kss\r\n",
        "import re\r\n",
        "#from soynlp.normalizer import *"
      ],
      "execution_count": null,
      "outputs": []
    },
    {
      "cell_type": "code",
      "metadata": {
        "id": "-i7pg7DaGsxp",
        "colab": {
          "base_uri": "https://localhost:8080/"
        },
        "outputId": "7a9cf044-bdb2-47b9-afae-9d5c4186a9aa"
      },
      "source": [
        "# GPU or CPU\n",
        "if torch.cuda.is_available():\n",
        "  device = torch.device(\"cuda\")\n",
        "  print('There are %d GPU(s) available.' % torch.cuda.device_count())\n",
        "  print('We will use the GPU:', torch.cuda.get_device_name(0))\n",
        "else:\n",
        "  device = torch.device(\"cpu\")\n",
        "  print('No GPU available, using the CPU instead.')\n",
        "\n",
        "# (미사용) TPU\n",
        "#device = xm.xla_device()"
      ],
      "execution_count": null,
      "outputs": [
        {
          "output_type": "stream",
          "text": [
            "There are 1 GPU(s) available.\n",
            "We will use the GPU: Tesla P100-PCIE-16GB\n"
          ],
          "name": "stdout"
        }
      ]
    },
    {
      "cell_type": "markdown",
      "metadata": {
        "id": "Rq91g3bGwfeV"
      },
      "source": [
        "# 데이터셋 처리 (Dataset Calss / 전처리)\r\n",
        "(train data와 과제 sample data형식이 다르고, encoding이 다르기 때문에 분리 처리)"
      ]
    },
    {
      "cell_type": "code",
      "metadata": {
        "id": "WZKIQNjZwdn1"
      },
      "source": [
        "class Friends_Dataset(Dataset):\n",
        "  # Json파일을 DataFrame으로 변환 함수\n",
        "  def jsonToDataFrame(self, file_name):\n",
        "    with open(file_name, encoding = 'utf-8', mode = 'r') as file:\n",
        "      json_array = json.load(file)\n",
        "\n",
        "    result = pd.DataFrame.from_dict(json_array[0])\n",
        "   \n",
        "    is_first = True\n",
        "    for array in json_array:\n",
        "      if is_first:\n",
        "        is_first = False\n",
        "        continue\n",
        "      \n",
        "      temp_df = pd.DataFrame.from_dict(array)\n",
        "      result = result.append(temp_df, ignore_index = True)\n",
        "\n",
        "    return result\n",
        "\n",
        "  def __init__(self, csv_file, ftype):\n",
        "    # train data와 sample data 각각 처리\n",
        "\n",
        "    # 초기 전처리 1, 아래쪽 전처리 2 로 clean_text() 펑션 분리함 (학습 할때 line별 전처리 후 사용됨)\n",
        "    # --- 전처리 1 start ------------------------\n",
        "    self.emotion_dic = {'neutral':0,'surprise':1,'fear':2,'non-neutral':3,'joy':4,'sadness':5,'anger':6,'disgust':7}\n",
        "\n",
        "    if ftype == 'train':\n",
        "      #1 speaker, 2 utterance(표현문장), 3 emotion(감정분류값), 4 annotation\n",
        "      self.dataset = self.jsonToDataFrame(file_name=csv_file) #.dropna(axis=0)\n",
        "\n",
        "    elif ftype == 'sample':\n",
        "      #1 id, 2 i_dialog, 3 i_utterance, 4 speaker, 5 utterance\n",
        "      #self.dataset = pd.read_csv(csv_file, sep=',', encoding = 'unicode_escape')\n",
        "      self.dataset = pd.read_csv(csv_file, sep=',', encoding = 'utf-8')\n",
        "      # 뒤쪽 컬럼 label 값이 없으므로 기본값으로 추가함\n",
        "      #0 idx, 1 id, 2 i_dialog, 3 i_utterance, 4 speaker, 5 utterance(표현문장),6 emotion, 7 Predicted \n",
        "      self.dataset.insert(5,'emotion',0) # 기본값 셋팅\n",
        "      self.dataset.insert(6,'Predicted',0) # 기본값 셋팅\n",
        "      #print(self.dataset)\n",
        "    else:\n",
        "      self.dataset = pd.read_csv(csv_file, sep=',')\n",
        "\n",
        "\n",
        "    # for idx, document in self.dataset.iterrows():\n",
        "    #   print(idx, document)\n",
        "    self.sub1 = re.compile('[^ .?!/@$%~|0-9|a-zㅣA-Z]+') # 영어와 띄어쓰기, 특수기호 일부를 제외한 모든 글자제거\n",
        "    self.sub2 = re.compile('[\\s]+')  # white space duplicate\n",
        "    self.sub3 = re.compile('[\\.]+')  # full stop duplicate\n",
        "\n",
        "    #중복되는 문장 제거\n",
        "    if ftype == 'sample':\n",
        "      print('과제 제출용은 중복 문장 제거하면 안됨')\n",
        "    else:\n",
        "      # 중복제거: utterance가 텍스트 내용의 title명이다\n",
        "      self.dataset.drop_duplicates(subset=['utterance'], inplace=True)\n",
        "\n",
        "    # dataset 확인\n",
        "    print(self.dataset.describe())\n",
        "    print(self.dataset)\n",
        "\n",
        "    # tokenizer\n",
        "    self.tokenizer = ElectraTokenizer.from_pretrained(\"google/electra-base-discriminator\")\n",
        "    \n",
        "    # --- 전처리 1 end ------------------------\n",
        "  \n",
        "  def __len__(self):\n",
        "    return len(self.dataset)\n",
        "  \n",
        "  def clean_text(self, txt):\n",
        "    # --- 전처리 2 start ----------------------\n",
        "    cleaned = self.sub1.sub('', txt.strip())  # .strip()은 문장의 앞뒤 공백제거함\n",
        "    cleaned = self.sub2.sub(' ', cleaned)\n",
        "    cleaned = self.sub3.sub('.', cleaned)\n",
        "    #cleaned = emoticon_normalize(cleaned, num_repeats=3) # 감정 반복 단순화\n",
        "    #cleaned = repeat_normalize(cleaned, num_repeats=2) # 중복 글자 단순화\n",
        "    #cleaned = only_text(cleaned) # text만 추출\n",
        "    #cleaned = only_hangle(cleaned) # 한글만 추출\n",
        "    #cleaned = only_hangle_number(cleaned) # 한글/숫자만 추출\n",
        "\n",
        "    #if len(ssStr) > 1:\n",
        "    cleaned = \"[CLS] \" + cleaned + \" [SEP]\"\n",
        "    # --- 전처리 2 end ------------------------\n",
        "    return cleaned\n",
        "\n",
        "  \n",
        "  def __getitem__(self, idx):\n",
        "    # 행번호별 컬럼 지정하여 할당: 0 idx, 1 speaker, 2 utterance, 3 emotion, 4 annotation\n",
        "    #row = self.dataset.iloc[idx, 1:4].values  # idx번째 행의 첫번째 컬럼 0을 제외하고 1~3컬럼\n",
        "    #print(row[0], row[1])\n",
        "    #text = self.clean_text( txt= str(row[0]) ) # 전처리 2 : clean_text()\n",
        "    #y = row[1] #숫자만 가능함 \n",
        "\n",
        "    text = self.dataset['utterance'][idx]\n",
        "    tmp_y = self.dataset['emotion'][idx]\n",
        "    # emotion 값을 숫자로 치환\n",
        "    y = 0\n",
        "    if tmp_y in self.emotion_dic.keys() :\n",
        "      y = self.emotion_dic[tmp_y]\n",
        "    else :\n",
        "      y = 0\n",
        "    #print(\"[%s][%d]\" % (tmp_y,y) )\n",
        "\n",
        "    inputs = self.tokenizer(\n",
        "        text, \n",
        "        return_tensors='pt',\n",
        "        truncation=True,\n",
        "        max_length=256,\n",
        "        pad_to_max_length=True,\n",
        "        add_special_tokens=True\n",
        "        )\n",
        "    \n",
        "    input_ids = inputs['input_ids'][0]\n",
        "    attention_mask = inputs['attention_mask'][0]\n",
        "\n",
        "    return input_ids, attention_mask, y"
      ],
      "execution_count": null,
      "outputs": []
    },
    {
      "cell_type": "code",
      "metadata": {
        "id": "ESSNkTcXwfUe",
        "colab": {
          "base_uri": "https://localhost:8080/",
          "height": 1000,
          "referenced_widgets": [
            "1fa07951b2164ec4abe5d9161c782213",
            "92213dcf596148728ce24334fb792968",
            "3bb41ab60650408798e17b7633fa3367",
            "6b82e2c5ef60425598d4d41af73de976",
            "b7811d6d20e14fd49b013a8f6bbd92c8",
            "ae893b2a2da645718bdf2d8385cec2df",
            "46cde6a717b449ed8d918b6fbeb22fde",
            "36e665877a5c4457a979bef8b7c2b722"
          ]
        },
        "outputId": "94734734-7744-4c16-ef2c-7661e2a8231c"
      },
      "source": [
        "# 학습에는 train만 사용함, test는 감점대상\n",
        "train_dataset = Friends_Dataset(\"friends_train.json\",\"train\")\n",
        "\n",
        "#test데이터는 감점사항으로 제외함\n",
        "#train2_dataset = Friends_Dataset(\"friends_test.json\",\"train\")\n",
        "#train_dataset.dataset = train_dataset.dataset.append(train2_dataset.dataset, ignore_index = True)\n",
        "#print(\"train_dataset.dataset==ALL=\\n\", train_dataset.dataset)\n",
        "#print(\"train_dataset.dataset.head()==\\n\", train_dataset.dataset.head())\n",
        "\n",
        "test_dataset = Friends_Dataset(\"friends_test.json\",\"train\")\n",
        "\n",
        "sample_dataset = Friends_Dataset(\"en_data.csv\",\"sample\")\n",
        "#print(\"sample_dataset.dataset.head()==\\n\", sample_dataset.dataset.head())"
      ],
      "execution_count": null,
      "outputs": [
        {
          "output_type": "stream",
          "text": [
            "       speaker        utterance  emotion annotation\n",
            "count     9291             9291     9291       9291\n",
            "unique     259             9291        8        412\n",
            "top       Joey  Oh. Oh wait no.  neutral    5000000\n",
            "freq      1395                1     4116       1173\n",
            "               speaker  ... annotation\n",
            "0             Chandler  ...    4100000\n",
            "1      The Interviewer  ...    5000000\n",
            "2             Chandler  ...    5000000\n",
            "3      The Interviewer  ...    5000000\n",
            "4             Chandler  ...    2000030\n",
            "...                ...  ...        ...\n",
            "10555             Joey  ...    2000003\n",
            "10556         Chandler  ...    3000011\n",
            "10557             Ross  ...    2100011\n",
            "10558             Joey  ...    0000050\n",
            "10560             Joey  ...    1200020\n",
            "\n",
            "[9291 rows x 4 columns]\n"
          ],
          "name": "stdout"
        },
        {
          "output_type": "display_data",
          "data": {
            "application/vnd.jupyter.widget-view+json": {
              "model_id": "1fa07951b2164ec4abe5d9161c782213",
              "version_minor": 0,
              "version_major": 2
            },
            "text/plain": [
              "HBox(children=(FloatProgress(value=0.0, description='Downloading', max=231508.0, style=ProgressStyle(descripti…"
            ]
          },
          "metadata": {
            "tags": []
          }
        },
        {
          "output_type": "stream",
          "text": [
            "\n",
            "       speaker                              utterance  emotion annotation\n",
            "count     2505                                   2505     2505       2505\n",
            "unique      98                                   2505        8        311\n",
            "top       Joey  So why dont you give me your number?  neutral    5000000\n",
            "freq       388                                      1     1159        328\n",
            "       speaker  ... annotation\n",
            "0         Mark  ...    2000030\n",
            "1       Rachel  ...    2100011\n",
            "2       Rachel  ...    3000020\n",
            "3         Ross  ...    5000000\n",
            "4        Frank  ...    1300010\n",
            "...        ...  ...        ...\n",
            "2759    Phoebe  ...    5000000\n",
            "2760    Monica  ...    1400000\n",
            "2761    Phoebe  ...    3100100\n",
            "2762    Monica  ...    5000000\n",
            "2763  Chandler  ...    4000100\n",
            "\n",
            "[2505 rows x 4 columns]\n",
            "       speaker             utterance  emotion annotation\n",
            "count     1090                  1090     1090       1090\n",
            "unique      47                  1090        8        234\n",
            "top       Ross  The week after that?  neutral    5000000\n",
            "freq       220                     1      449        137\n",
            "       speaker  ... annotation\n",
            "0       Phoebe  ...    0002120\n",
            "1       Monica  ...    1000130\n",
            "2         Ross  ...    3000200\n",
            "3     Chandler  ...    0500000\n",
            "4         Joey  ...    0040100\n",
            "...        ...  ...        ...\n",
            "1171    Monica  ...    3200000\n",
            "1172    Rachel  ...    0040010\n",
            "1174    Rachel  ...    0040010\n",
            "1175    Monica  ...    0050000\n",
            "1176    Rachel  ...    0050000\n",
            "\n",
            "[1090 rows x 4 columns]\n",
            "과제 제출용은 중복 문장 제거하면 안됨\n",
            "                id     i_dialog  i_utterance  emotion  Predicted\n",
            "count  1623.000000  1623.000000  1623.000000   1623.0     1623.0\n",
            "mean    811.000000    84.679606     5.336414      0.0        0.0\n",
            "std     468.664059    42.361731     3.814141      0.0        0.0\n",
            "min       0.000000     0.000000     0.000000      0.0        0.0\n",
            "25%     405.500000    53.000000     2.000000      0.0        0.0\n",
            "50%     811.000000    87.000000     5.000000      0.0        0.0\n",
            "75%    1216.500000   121.000000     8.000000      0.0        0.0\n",
            "max    1622.000000   150.000000    18.000000      0.0        0.0\n",
            "        id  i_dialog  ...  emotion Predicted\n",
            "0        0         0  ...        0         0\n",
            "1        1         0  ...        0         0\n",
            "2        2         0  ...        0         0\n",
            "3        3         0  ...        0         0\n",
            "4        4         0  ...        0         0\n",
            "...    ...       ...  ...      ...       ...\n",
            "1618  1618       150  ...        0         0\n",
            "1619  1619       150  ...        0         0\n",
            "1620  1620       150  ...        0         0\n",
            "1621  1621       150  ...        0         0\n",
            "1622  1622       150  ...        0         0\n",
            "\n",
            "[1623 rows x 7 columns]\n"
          ],
          "name": "stdout"
        }
      ]
    },
    {
      "cell_type": "code",
      "metadata": {
        "id": "iO-f3W7bLhWh"
      },
      "source": [
        "# tmpstr = 'Come on.  Hello?  I?m sorry you have the wrong number.   Okay, I?ll call you later dad. I love you.'\r\n",
        "# print( train_dataset.clean_text( txt = tmpstr) )"
      ],
      "execution_count": null,
      "outputs": []
    },
    {
      "cell_type": "code",
      "metadata": {
        "id": "xMAuJRV9qArS"
      },
      "source": [
        "# test_emotion = 'joy'\r\n",
        "# if test_emotion in train_dataset.emotion_dic.keys() :\r\n",
        "#   print( train_dataset.emotion_dic[test_emotion] )\r\n",
        "# else :\r\n",
        "#   print(0)"
      ],
      "execution_count": null,
      "outputs": []
    },
    {
      "cell_type": "code",
      "metadata": {
        "id": "WS3yrO8v-NQQ"
      },
      "source": [
        "# print( train_dataset.__getitem__(11790) )"
      ],
      "execution_count": null,
      "outputs": []
    },
    {
      "cell_type": "code",
      "metadata": {
        "id": "2Z3SgRLH-yWv"
      },
      "source": [
        "# print( sample_dataset.__getitem__(10) )"
      ],
      "execution_count": null,
      "outputs": []
    },
    {
      "cell_type": "markdown",
      "metadata": {
        "id": "vJiAJPUDz40W"
      },
      "source": [
        "# 모델 생성 (Create Model)"
      ]
    },
    {
      "cell_type": "code",
      "metadata": {
        "id": "f7-jRPQXz2r5",
        "colab": {
          "base_uri": "https://localhost:8080/",
          "height": 228,
          "referenced_widgets": [
            "6972470692194cdeb92f42ad6949a9a3",
            "5d28ffc725b94bb3aafab03b06c9f8c0",
            "a41c7bad7f9449999089910d8a6c97fa",
            "7c27ef76a5e8454ca933e99084a1c507",
            "2830d766073443a68b8223434da53273",
            "1fcab435a92a49dfa26c2335772fdfea",
            "639794eb3eba4315a3ff040e21c6605d",
            "b0d3fb9a1ece46fea798fa36519f954c",
            "968151373b104d95b71a104f9f7002ab",
            "7e02562c8a1f47e0ba7ec53c0e8fa8e5",
            "cd3bd2f63de647daa0bc26ee7e65a224",
            "b484600543a14e12866321761b2e7246",
            "e6c22f2830bb494597ea24e9bf7f9f5a",
            "2bc7cab2b1ff41aba3e913f3c5d8c411",
            "9658d0b5027a46a9be01d28e5e0f5c33",
            "84543d3008e84d41921efd8edda59b3e"
          ]
        },
        "outputId": "5d9323fe-9383-4402-841a-9623c298984e"
      },
      "source": [
        "model = ElectraForSequenceClassification.from_pretrained(\"google/electra-base-discriminator\", num_labels=8).to(device)\n",
        "#model = ElectraForSequenceClassification.from_pretrained('google/electra-small-generator', num_labels=8)\n",
        "#model.cuda()\n",
        "\n",
        "# 한번 실행해보기\n",
        "#text, attention_mask, y = train_dataset[0]\n",
        "#model(text.unsqueeze(0).to(device), attention_mask=attention_mask.unsqueeze(0).to(device))"
      ],
      "execution_count": null,
      "outputs": [
        {
          "output_type": "display_data",
          "data": {
            "application/vnd.jupyter.widget-view+json": {
              "model_id": "6972470692194cdeb92f42ad6949a9a3",
              "version_minor": 0,
              "version_major": 2
            },
            "text/plain": [
              "HBox(children=(FloatProgress(value=0.0, description='Downloading', max=467.0, style=ProgressStyle(description_…"
            ]
          },
          "metadata": {
            "tags": []
          }
        },
        {
          "output_type": "stream",
          "text": [
            "\n"
          ],
          "name": "stdout"
        },
        {
          "output_type": "display_data",
          "data": {
            "application/vnd.jupyter.widget-view+json": {
              "model_id": "968151373b104d95b71a104f9f7002ab",
              "version_minor": 0,
              "version_major": 2
            },
            "text/plain": [
              "HBox(children=(FloatProgress(value=0.0, description='Downloading', max=440343552.0, style=ProgressStyle(descri…"
            ]
          },
          "metadata": {
            "tags": []
          }
        },
        {
          "output_type": "stream",
          "text": [
            "\n"
          ],
          "name": "stdout"
        },
        {
          "output_type": "stream",
          "text": [
            "Some weights of the model checkpoint at google/electra-base-discriminator were not used when initializing ElectraForSequenceClassification: ['discriminator_predictions.dense.weight', 'discriminator_predictions.dense.bias', 'discriminator_predictions.dense_prediction.weight', 'discriminator_predictions.dense_prediction.bias']\n",
            "- This IS expected if you are initializing ElectraForSequenceClassification from the checkpoint of a model trained on another task or with another architecture (e.g. initializing a BertForSequenceClassification model from a BertForPreTraining model).\n",
            "- This IS NOT expected if you are initializing ElectraForSequenceClassification from the checkpoint of a model that you expect to be exactly identical (initializing a BertForSequenceClassification model from a BertForSequenceClassification model).\n",
            "Some weights of ElectraForSequenceClassification were not initialized from the model checkpoint at google/electra-base-discriminator and are newly initialized: ['classifier.dense.weight', 'classifier.dense.bias', 'classifier.out_proj.weight', 'classifier.out_proj.bias']\n",
            "You should probably TRAIN this model on a down-stream task to be able to use it for predictions and inference.\n"
          ],
          "name": "stderr"
        }
      ]
    },
    {
      "cell_type": "code",
      "metadata": {
        "id": "edb0aIFaXr4D",
        "colab": {
          "base_uri": "https://localhost:8080/"
        },
        "outputId": "625dd5fb-21c6-4311-a0bd-fb9015daffd7"
      },
      "source": [
        "try:\r\n",
        "  model.load_state_dict(torch.load(\"model.pt\"))\r\n",
        "  #model.load_state_dict(torch.load(\"/content/drive/MyDrive/Colab Notebooks/model_daniel021_friends_electra_small_epoch8.pt\"))\r\n",
        "except:\r\n",
        "  print(\"error - model.load_state_dict(torch.load('model.pt'))\")\r\n",
        "else:\r\n",
        "  print(\"success - model.load_state_dict(torch.load('model.pt'))\")"
      ],
      "execution_count": null,
      "outputs": [
        {
          "output_type": "stream",
          "text": [
            "success - model.load_state_dict(torch.load('model.pt'))\n"
          ],
          "name": "stdout"
        }
      ]
    },
    {
      "cell_type": "code",
      "metadata": {
        "id": "Dp6x4GHtz46u"
      },
      "source": [
        "# 모델 레이어 보기\n",
        "model"
      ],
      "execution_count": null,
      "outputs": []
    },
    {
      "cell_type": "markdown",
      "metadata": {
        "id": "wmou0LFl0R_X"
      },
      "source": [
        "# 학습(Learn) - train파일만 사용함(test제외)"
      ]
    },
    {
      "cell_type": "code",
      "metadata": {
        "id": "6NpXwESN0Q4h"
      },
      "source": [
        "# google/electra-small-discriminator\n",
        "#epochs = 16\n",
        "#batch_size = 64 #CUDA(GPU) 메모리 오버되는경우 size 줄여서 해볼것\n",
        "\n",
        "# google/electra-base-discriminator\n",
        "epochs = 16\n",
        "batch_size = 16 #CUDA(GPU) 메모리 오버되는경우 size 줄여서 해볼것"
      ],
      "execution_count": null,
      "outputs": []
    },
    {
      "cell_type": "code",
      "metadata": {
        "id": "XPzxoo4H274J"
      },
      "source": [
        "optimizer = AdamW(model.parameters(), \n",
        "                  lr=1e-5, # 학습률\n",
        "                  eps = 1e-8 # 0으로 나누는 것을 방지하기 위한 epsilon 값\n",
        "                  )\n",
        "train_loader = DataLoader(train_dataset, batch_size=batch_size, shuffle=True)"
      ],
      "execution_count": null,
      "outputs": []
    },
    {
      "cell_type": "code",
      "metadata": {
        "id": "M-BRNeE226HH",
        "colab": {
          "base_uri": "https://localhost:8080/",
          "height": 1000,
          "referenced_widgets": [
            "6fc8081041af4d378290e92b64599313",
            "3f4a276e3c0b4bfd8e846d1f1f6311c0",
            "3cf0ad967c8b4c318c0e51c2c4d17be3",
            "7517d30afd21419ba332c2a29302f71c",
            "8fea6e09e7cf4c04ac157bbf5e492814",
            "98af5d88cc4046eaa2cdc3464945b4d7",
            "25ebdfa856bf4ec590cb95de442ef1bd",
            "c7251cb8eeb642c386ec8eb93a1a83e2",
            "117655e076144598a9ad9daeead8c12d",
            "79159dbfa6394337805ab7d5b93c6ea9",
            "8538707d3f59497c856323a553ee1a4d",
            "cfe640c4fdea43a28890456e9ce61f73",
            "a615c8bd0cac4a84b3471d89b628722f",
            "b80e554cda1440d4b5b684b1ae2bdddb",
            "c511693a4d3a402b9fda1984ec63d60e",
            "3f5d0f0df9e04e2b976fb69f3d65fcca",
            "78cd8ca194e24bcc8f5cad0b8bdd75e2",
            "bc781cdfe4e14e198fb0498dbafad222",
            "9099821a1ba24d9bb60319479ac6dffd",
            "0ca851a359a64957825dbbae6d32882c",
            "25240c264fbf453fa86150b24aecf682",
            "677b6888a62f4ffb9b6da6a486bfa9ff",
            "00528395c3f94df69191702b7f3df2f0",
            "fd6cc7a39545475dbd634b44c9b6b9e3",
            "36c807fb26c043368e8c12b5f987eebe",
            "e01570f6c02248068fbe149b64de03ce",
            "cd539898c8e547aeac81dad6f70db015",
            "8308ad733b104581a1e47581e36805bd",
            "de6bd713eeea468d97217a8745876591",
            "bba4f4a4dbb64a1e873e3141b6804443",
            "e20783791861415eb12db6a663c7bf55",
            "a8b039996c7242b6b336ad4c4b0cabce",
            "c96322ad5c76494fb7cb24e681ac7f5f",
            "9c2aa7d4a7c34207b34760eac1ec95e7",
            "012a1b0dfb524876b131b82645ebd6f8",
            "369d04434a694294b3f76e738759b1f2",
            "a3606d26c13f40a9a7d2632ec47da27a",
            "4d0503c3ed1540939547872fcd2cdf4a",
            "6b5664bb5edd4c3d90d9ce484fb86f15",
            "95fef11c019b4f589a6cdb642b9ff05c",
            "c313671d0f234b6ebd9953c20e19b4af",
            "514dfa448b894e22ad3b872994f82316",
            "c17486e3b5ae4b1b874edac78a49d70d",
            "b20ba1ea429f458b935e5e39db396fa5",
            "a80aa84482804a5593443e7d3e16da99",
            "24abbeda3f1f4e9a8efa4d44ec1b9c8f",
            "c99dc8c8e0fa4bf49ebb7bfb761c1f98",
            "a5207828bba54c2c9c2e64f660611677",
            "14fcefe5c5504fa48a879fd1d7a4208a",
            "e166533ebbe64ddab48fb287c5dad1e4",
            "c65e01b9e4d74fc4b9cbec11d535368c",
            "a0523b68f0b64512b855862d281da20b",
            "cece026e5fd14647b4cd52bb223f9559",
            "c44af0bf9cee4227af605b9ce083e0b8",
            "e9ebbfe09d7a465ea17e8832e73f405d",
            "619b76f998ad467baa6d48fcc3d8cf34",
            "4f743338d5b74917b3f8fffb8d2e73db",
            "bc3f7cddb82e46699be3821c5f3e72d1",
            "120916b33e6f4d5eae29f3016586fa4e",
            "cd17fc8a850b4ae8b25b07f759c0de08",
            "61dd357cc7c346e495d96e388e2d04b4",
            "4eeaafaf91f0430f9bd3e4ddda7ac888",
            "8746458b742540379d3988bad4d694cb",
            "11ef4170eddf43daa92c67de985d00c1"
          ]
        },
        "outputId": "7ef87624-0361-41c7-8160-06f695b9eefe"
      },
      "source": [
        "losses = []\n",
        "accuracies = []\n",
        "\n",
        "# 그래디언트 초기화\n",
        "# model.zero_grad()\n",
        "\n",
        "for i in range(epochs):\n",
        "  total_loss = 0.0\n",
        "  correct = 0\n",
        "  total = 0\n",
        "  batches = 0\n",
        "\n",
        "  # 훈련모드로 변경\n",
        "  model.train()\n",
        "\n",
        "  for input_ids_batch, attention_masks_batch, y_batch in tqdm(train_loader):\n",
        "    optimizer.zero_grad()\n",
        "    y_batch = y_batch.to(device)\n",
        "    y_pred = model(input_ids_batch.to(device), attention_mask=attention_masks_batch.to(device))[0]\n",
        "    loss = F.cross_entropy(y_pred, y_batch)\n",
        "    loss.backward() # Backward 수행으로 그래디언트 계산\n",
        "    #xm.optimizer_step(optimizer, barrier=True)  # TPU 사용시 코드\n",
        "    optimizer.step() # 그래디언트를 통해 가중치 파라미터 업데이트\n",
        "    #model.zero_grad() # 그래디언트 초기화\n",
        "\n",
        "    total_loss += loss.item()\n",
        "\n",
        "    _, predicted = torch.max(y_pred, 1)\n",
        "    #print(\"y_batch====\\n\",y_batch)\n",
        "    #print(\"predicted====\\n\",predicted)\n",
        "    correct += (predicted == y_batch).sum()\n",
        "    total += len(y_batch)\n",
        "\n",
        "    batches += 1\n",
        "    if batches % 100 == 0:\n",
        "      print(\"Batch Loss:\", total_loss, \"Accuracy:\", correct.float() / total)\n",
        "  \n",
        "  losses.append(total_loss)\n",
        "  accuracies.append(correct.float() / total)\n",
        "  print(\"Train Loss:\", total_loss, \"Accuracy:\", correct.float() / total)"
      ],
      "execution_count": null,
      "outputs": [
        {
          "output_type": "display_data",
          "data": {
            "application/vnd.jupyter.widget-view+json": {
              "model_id": "6fc8081041af4d378290e92b64599313",
              "version_minor": 0,
              "version_major": 2
            },
            "text/plain": [
              "HBox(children=(FloatProgress(value=0.0, max=738.0), HTML(value='')))"
            ]
          },
          "metadata": {
            "tags": []
          }
        },
        {
          "output_type": "stream",
          "text": [
            "/usr/local/lib/python3.6/dist-packages/transformers/tokenization_utils_base.py:2179: FutureWarning: The `pad_to_max_length` argument is deprecated and will be removed in a future version, use `padding=True` or `padding='longest'` to pad to the longest sequence in the batch, or use `padding='max_length'` to pad to a max length. In this case, you can give a specific length with `max_length` (e.g. `max_length=45`) or leave max_length to None to pad to the maximal input size of the model (e.g. 512 for Bert).\n",
            "  FutureWarning,\n"
          ],
          "name": "stderr"
        },
        {
          "output_type": "stream",
          "text": [
            "Batch Loss: 29.380662936717272 Accuracy: tensor(0.9075, device='cuda:0')\n",
            "Batch Loss: 59.06011170335114 Accuracy: tensor(0.9031, device='cuda:0')\n",
            "Batch Loss: 88.05364321358502 Accuracy: tensor(0.9042, device='cuda:0')\n",
            "Batch Loss: 122.67656613700092 Accuracy: tensor(0.8994, device='cuda:0')\n",
            "Batch Loss: 153.9791846703738 Accuracy: tensor(0.8999, device='cuda:0')\n",
            "Batch Loss: 184.9016562383622 Accuracy: tensor(0.9002, device='cuda:0')\n",
            "Batch Loss: 218.4831743631512 Accuracy: tensor(0.8998, device='cuda:0')\n",
            "\n",
            "Train Loss: 229.9805915299803 Accuracy: tensor(0.9003, device='cuda:0')\n"
          ],
          "name": "stdout"
        },
        {
          "output_type": "display_data",
          "data": {
            "application/vnd.jupyter.widget-view+json": {
              "model_id": "117655e076144598a9ad9daeead8c12d",
              "version_minor": 0,
              "version_major": 2
            },
            "text/plain": [
              "HBox(children=(FloatProgress(value=0.0, max=738.0), HTML(value='')))"
            ]
          },
          "metadata": {
            "tags": []
          }
        },
        {
          "output_type": "stream",
          "text": [
            "Batch Loss: 23.411132652312517 Accuracy: tensor(0.9294, device='cuda:0')\n",
            "Batch Loss: 48.632437348365784 Accuracy: tensor(0.9269, device='cuda:0')\n",
            "Batch Loss: 75.6391849219799 Accuracy: tensor(0.9208, device='cuda:0')\n",
            "Batch Loss: 100.75911046750844 Accuracy: tensor(0.9211, device='cuda:0')\n",
            "Batch Loss: 128.65358585119247 Accuracy: tensor(0.9185, device='cuda:0')\n",
            "Batch Loss: 153.78550720959902 Accuracy: tensor(0.9178, device='cuda:0')\n",
            "Batch Loss: 180.97218305245042 Accuracy: tensor(0.9166, device='cuda:0')\n",
            "\n",
            "Train Loss: 189.64467968046665 Accuracy: tensor(0.9169, device='cuda:0')\n"
          ],
          "name": "stdout"
        },
        {
          "output_type": "display_data",
          "data": {
            "application/vnd.jupyter.widget-view+json": {
              "model_id": "78cd8ca194e24bcc8f5cad0b8bdd75e2",
              "version_minor": 0,
              "version_major": 2
            },
            "text/plain": [
              "HBox(children=(FloatProgress(value=0.0, max=738.0), HTML(value='')))"
            ]
          },
          "metadata": {
            "tags": []
          }
        },
        {
          "output_type": "stream",
          "text": [
            "Batch Loss: 19.23243652936071 Accuracy: tensor(0.9456, device='cuda:0')\n",
            "Batch Loss: 40.56486351694912 Accuracy: tensor(0.9400, device='cuda:0')\n",
            "Batch Loss: 62.54419625643641 Accuracy: tensor(0.9373, device='cuda:0')\n",
            "Batch Loss: 84.30779746361077 Accuracy: tensor(0.9367, device='cuda:0')\n",
            "Batch Loss: 107.64409747347236 Accuracy: tensor(0.9355, device='cuda:0')\n",
            "Batch Loss: 127.19162307213992 Accuracy: tensor(0.9374, device='cuda:0')\n",
            "Batch Loss: 151.84586540888995 Accuracy: tensor(0.9346, device='cuda:0')\n",
            "\n",
            "Train Loss: 160.83783608768135 Accuracy: tensor(0.9351, device='cuda:0')\n"
          ],
          "name": "stdout"
        },
        {
          "output_type": "display_data",
          "data": {
            "application/vnd.jupyter.widget-view+json": {
              "model_id": "36c807fb26c043368e8c12b5f987eebe",
              "version_minor": 0,
              "version_major": 2
            },
            "text/plain": [
              "HBox(children=(FloatProgress(value=0.0, max=738.0), HTML(value='')))"
            ]
          },
          "metadata": {
            "tags": []
          }
        },
        {
          "output_type": "stream",
          "text": [
            "Batch Loss: 17.444781593978405 Accuracy: tensor(0.9450, device='cuda:0')\n",
            "Batch Loss: 34.10211717709899 Accuracy: tensor(0.9444, device='cuda:0')\n",
            "Batch Loss: 49.635076221544296 Accuracy: tensor(0.9465, device='cuda:0')\n",
            "Batch Loss: 74.84025323251262 Accuracy: tensor(0.9397, device='cuda:0')\n",
            "Batch Loss: 90.1595876053907 Accuracy: tensor(0.9424, device='cuda:0')\n",
            "Batch Loss: 109.56426458386704 Accuracy: tensor(0.9405, device='cuda:0')\n",
            "Batch Loss: 127.2276137615554 Accuracy: tensor(0.9406, device='cuda:0')\n",
            "\n",
            "Train Loss: 135.93686838028952 Accuracy: tensor(0.9399, device='cuda:0')\n"
          ],
          "name": "stdout"
        },
        {
          "output_type": "display_data",
          "data": {
            "application/vnd.jupyter.widget-view+json": {
              "model_id": "c96322ad5c76494fb7cb24e681ac7f5f",
              "version_minor": 0,
              "version_major": 2
            },
            "text/plain": [
              "HBox(children=(FloatProgress(value=0.0, max=738.0), HTML(value='')))"
            ]
          },
          "metadata": {
            "tags": []
          }
        },
        {
          "output_type": "stream",
          "text": [
            "Batch Loss: 15.727003321051598 Accuracy: tensor(0.9550, device='cuda:0')\n",
            "Batch Loss: 31.859436224214733 Accuracy: tensor(0.9522, device='cuda:0')\n",
            "Batch Loss: 47.92349840328097 Accuracy: tensor(0.9513, device='cuda:0')\n",
            "Batch Loss: 66.50131967104971 Accuracy: tensor(0.9494, device='cuda:0')\n",
            "Batch Loss: 82.04884139355272 Accuracy: tensor(0.9491, device='cuda:0')\n",
            "Batch Loss: 99.78529685828835 Accuracy: tensor(0.9480, device='cuda:0')\n",
            "Batch Loss: 116.70232293289155 Accuracy: tensor(0.9479, device='cuda:0')\n",
            "\n",
            "Train Loss: 122.18205303978175 Accuracy: tensor(0.9480, device='cuda:0')\n"
          ],
          "name": "stdout"
        },
        {
          "output_type": "display_data",
          "data": {
            "application/vnd.jupyter.widget-view+json": {
              "model_id": "c313671d0f234b6ebd9953c20e19b4af",
              "version_minor": 0,
              "version_major": 2
            },
            "text/plain": [
              "HBox(children=(FloatProgress(value=0.0, max=738.0), HTML(value='')))"
            ]
          },
          "metadata": {
            "tags": []
          }
        },
        {
          "output_type": "stream",
          "text": [
            "Batch Loss: 12.812323292717338 Accuracy: tensor(0.9619, device='cuda:0')\n",
            "Batch Loss: 27.82873457437381 Accuracy: tensor(0.9556, device='cuda:0')\n",
            "Batch Loss: 41.58078985661268 Accuracy: tensor(0.9569, device='cuda:0')\n",
            "Batch Loss: 55.30111645627767 Accuracy: tensor(0.9589, device='cuda:0')\n",
            "Batch Loss: 70.0999566456303 Accuracy: tensor(0.9573, device='cuda:0')\n",
            "Batch Loss: 84.54149791458622 Accuracy: tensor(0.9559, device='cuda:0')\n",
            "Batch Loss: 100.12534970417619 Accuracy: tensor(0.9542, device='cuda:0')\n",
            "\n",
            "Train Loss: 106.04557873029262 Accuracy: tensor(0.9541, device='cuda:0')\n"
          ],
          "name": "stdout"
        },
        {
          "output_type": "display_data",
          "data": {
            "application/vnd.jupyter.widget-view+json": {
              "model_id": "14fcefe5c5504fa48a879fd1d7a4208a",
              "version_minor": 0,
              "version_major": 2
            },
            "text/plain": [
              "HBox(children=(FloatProgress(value=0.0, max=738.0), HTML(value='')))"
            ]
          },
          "metadata": {
            "tags": []
          }
        },
        {
          "output_type": "stream",
          "text": [
            "Batch Loss: 13.946621155366302 Accuracy: tensor(0.9525, device='cuda:0')\n",
            "Batch Loss: 26.820435866247863 Accuracy: tensor(0.9566, device='cuda:0')\n",
            "Batch Loss: 40.07746725110337 Accuracy: tensor(0.9567, device='cuda:0')\n",
            "Batch Loss: 51.19882704084739 Accuracy: tensor(0.9586, device='cuda:0')\n",
            "Batch Loss: 64.5420282012783 Accuracy: tensor(0.9584, device='cuda:0')\n",
            "Batch Loss: 79.4708350431174 Accuracy: tensor(0.9573, device='cuda:0')\n",
            "Batch Loss: 93.73114714585245 Accuracy: tensor(0.9569, device='cuda:0')\n",
            "\n",
            "Train Loss: 97.74719863990322 Accuracy: tensor(0.9571, device='cuda:0')\n"
          ],
          "name": "stdout"
        },
        {
          "output_type": "display_data",
          "data": {
            "application/vnd.jupyter.widget-view+json": {
              "model_id": "4f743338d5b74917b3f8fffb8d2e73db",
              "version_minor": 0,
              "version_major": 2
            },
            "text/plain": [
              "HBox(children=(FloatProgress(value=0.0, max=738.0), HTML(value='')))"
            ]
          },
          "metadata": {
            "tags": []
          }
        },
        {
          "output_type": "stream",
          "text": [
            "Batch Loss: 11.087331159040332 Accuracy: tensor(0.9656, device='cuda:0')\n",
            "Batch Loss: 20.797400156967342 Accuracy: tensor(0.9644, device='cuda:0')\n",
            "Batch Loss: 32.759778483305126 Accuracy: tensor(0.9617, device='cuda:0')\n",
            "Batch Loss: 45.88531629857607 Accuracy: tensor(0.9603, device='cuda:0')\n",
            "Batch Loss: 57.1636138537433 Accuracy: tensor(0.9609, device='cuda:0')\n",
            "Batch Loss: 68.33246290241368 Accuracy: tensor(0.9616, device='cuda:0')\n",
            "Batch Loss: 81.29238559026271 Accuracy: tensor(0.9613, device='cuda:0')\n",
            "\n",
            "Train Loss: 85.61059090634808 Accuracy: tensor(0.9614, device='cuda:0')\n"
          ],
          "name": "stdout"
        }
      ]
    },
    {
      "cell_type": "code",
      "metadata": {
        "id": "IQK4R6n4JgVU"
      },
      "source": [
        "losses, accuracies"
      ],
      "execution_count": null,
      "outputs": []
    },
    {
      "cell_type": "markdown",
      "metadata": {
        "id": "qvEB8g7IFbsD"
      },
      "source": [
        "# 테스트 데이터셋 정확도 확인하기"
      ]
    },
    {
      "cell_type": "code",
      "metadata": {
        "id": "5QiALUqm4juf"
      },
      "source": [
        "# 평가모드로 변경\n",
        "model.eval()\n",
        "\n",
        "#test_loader = DataLoader(test_dataset, batch_size=32, shuffle=True)\n",
        "test_loader = DataLoader(train_dataset, batch_size=16, shuffle=True)\n",
        "\n",
        "test_correct = 0\n",
        "test_total = 0\n",
        "\n",
        "for input_ids_batch, attention_masks_batch, y_batch in tqdm(test_loader):\n",
        "  y_batch = y_batch.to(device)\n",
        "  y_pred = model(input_ids_batch.to(device), attention_mask=attention_masks_batch.to(device))[0]\n",
        "  _, predicted = torch.max(y_pred, 1)\n",
        "  test_correct += (predicted == y_batch).sum()\n",
        "  test_total += len(y_batch)\n",
        "\n",
        "print(\"Accuracy:\", test_correct.float() / test_total)"
      ],
      "execution_count": null,
      "outputs": []
    },
    {
      "cell_type": "markdown",
      "metadata": {
        "id": "xx2HslxKlbk_"
      },
      "source": [
        "# 모델 저장하기"
      ]
    },
    {
      "cell_type": "code",
      "metadata": {
        "id": "rrcPWEa5U8JZ"
      },
      "source": [
        "# 모델 저장하기\n",
        "torch.save(model.state_dict(), \"model.pt\")"
      ],
      "execution_count": null,
      "outputs": []
    },
    {
      "cell_type": "markdown",
      "metadata": {
        "id": "SiZgwE-VleG4"
      },
      "source": [
        "# 과제용 데이터 예측 및 맵핑"
      ]
    },
    {
      "cell_type": "code",
      "metadata": {
        "id": "EK4PsiNrh089"
      },
      "source": [
        "#과제용 데이터 예측\r\n",
        "# 데이터 로딩\r\n",
        "batchSize = 16\r\n",
        "sample_loader = DataLoader(sample_dataset, batch_size=batchSize, shuffle=False)\r\n",
        "\r\n",
        "sample_result = sample_dataset.dataset.copy(deep=True)\r\n",
        "print(sample_result)\r\n",
        "\r\n",
        "#평가모드로 변경\r\n",
        "model.eval()\r\n",
        "\r\n",
        "idx_s = 0\r\n",
        "idx_e = 0\r\n",
        "\r\n",
        "emotion_strDic = {0:'neutral',1:'surprise',2:'fear',3:'non-neutral',4:'joy',5:'sadness',6:'anger',7:'disgust'}\r\n",
        "\r\n",
        "for input_ids_batch, attention_masks_batch, y_batch in tqdm(sample_loader):\r\n",
        "  #y_batch = y_batch.to(device)\r\n",
        "  y_pred = model(input_ids_batch.to(device), attention_mask=attention_masks_batch.to(device))[0]\r\n",
        "  _, predicted = torch.max(y_pred, 1)\r\n",
        "\r\n",
        "  rsList = list(map(int, predicted)) # 결과를 한번에 저장하기 위해 LIST로 변환 처리\r\n",
        "  global idx_s, idx_e\r\n",
        "  idx_e += len(rsList) #해당 배치구간내에 index 끝값 계산\r\n",
        "  #print(\"index==\", idx_s, idx_e)\r\n",
        "  \r\n",
        "  sample_result['emotion'][idx_s : idx_e] = rsList\r\n",
        "  rsPred = [emotion_strDic[xx] for xx in rsList] # 숫자를 감정문자로 치환\r\n",
        "  sample_result['Predicted'][idx_s : idx_e] = rsPred  #배치구간을 한번에 업데이트\r\n",
        "  idx_s += len(rsList) #해당 배치구간내에 index 시작값은 윗줄 처리 후 증가\r\n",
        "\r\n",
        "print(sample_result)\r\n"
      ],
      "execution_count": null,
      "outputs": []
    },
    {
      "cell_type": "code",
      "metadata": {
        "id": "1UuBA5hRpScv"
      },
      "source": [
        "#torch.cuda.empty_cache() #GPU 캐쉬 데이터 삭제"
      ],
      "execution_count": null,
      "outputs": []
    },
    {
      "cell_type": "markdown",
      "metadata": {
        "id": "xZe_mZqqTl80"
      },
      "source": [
        "# 결과 파일 저장"
      ]
    },
    {
      "cell_type": "code",
      "metadata": {
        "id": "BF5PqoUNF92f"
      },
      "source": [
        "# 주어진 데이터의 결과를 파일로 저장\r\n",
        "#sample_csv = sample_result.to_csv('sample.csv')\r\n",
        "sample_csv = sample_result.to_csv('sample.csv',sep=',',na_rep='NaN', columns=['id','Predicted'],index=False)"
      ],
      "execution_count": null,
      "outputs": []
    },
    {
      "cell_type": "code",
      "metadata": {
        "id": "Cid0Vzi_SFSO"
      },
      "source": [
        "# 파일을 PC로 다운로드 하기\r\n",
        "from google.colab import files\r\n",
        "files.download('sample.csv')\r\n"
      ],
      "execution_count": null,
      "outputs": []
    },
    {
      "cell_type": "code",
      "metadata": {
        "id": "qLGdKFk0UsLz"
      },
      "source": [
        "# 나의 구글Drive 연결하기\n",
        "#from google.colab import drive\n",
        "#drive.mount('/content/drive')"
      ],
      "execution_count": null,
      "outputs": []
    }
  ]
}