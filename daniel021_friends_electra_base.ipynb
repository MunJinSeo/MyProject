{
  "nbformat": 4,
  "nbformat_minor": 0,
  "metadata": {
    "colab": {
      "name": "daniel021_friends_electra_base.ipynb",
      "provenance": [],
      "collapsed_sections": [],
      "machine_shape": "hm"
    },
    "kernelspec": {
      "name": "python3",
      "display_name": "Python 3"
    },
    "accelerator": "GPU",
    "widgets": {
      "application/vnd.jupyter.widget-state+json": {
        "9501dfcd5c7c492b862c1b92963e7280": {
          "model_module": "@jupyter-widgets/controls",
          "model_name": "HBoxModel",
          "state": {
            "_view_name": "HBoxView",
            "_dom_classes": [],
            "_model_name": "HBoxModel",
            "_view_module": "@jupyter-widgets/controls",
            "_model_module_version": "1.5.0",
            "_view_count": null,
            "_view_module_version": "1.5.0",
            "box_style": "",
            "layout": "IPY_MODEL_738658a6f43a4b4eacc28705d0de4e3b",
            "_model_module": "@jupyter-widgets/controls",
            "children": [
              "IPY_MODEL_201595923a004f8c92f4dbd7b602e398",
              "IPY_MODEL_6235dd44f8d34a4887676434dee6fb68"
            ]
          }
        },
        "738658a6f43a4b4eacc28705d0de4e3b": {
          "model_module": "@jupyter-widgets/base",
          "model_name": "LayoutModel",
          "state": {
            "_view_name": "LayoutView",
            "grid_template_rows": null,
            "right": null,
            "justify_content": null,
            "_view_module": "@jupyter-widgets/base",
            "overflow": null,
            "_model_module_version": "1.2.0",
            "_view_count": null,
            "flex_flow": null,
            "width": null,
            "min_width": null,
            "border": null,
            "align_items": null,
            "bottom": null,
            "_model_module": "@jupyter-widgets/base",
            "top": null,
            "grid_column": null,
            "overflow_y": null,
            "overflow_x": null,
            "grid_auto_flow": null,
            "grid_area": null,
            "grid_template_columns": null,
            "flex": null,
            "_model_name": "LayoutModel",
            "justify_items": null,
            "grid_row": null,
            "max_height": null,
            "align_content": null,
            "visibility": null,
            "align_self": null,
            "height": null,
            "min_height": null,
            "padding": null,
            "grid_auto_rows": null,
            "grid_gap": null,
            "max_width": null,
            "order": null,
            "_view_module_version": "1.2.0",
            "grid_template_areas": null,
            "object_position": null,
            "object_fit": null,
            "grid_auto_columns": null,
            "margin": null,
            "display": null,
            "left": null
          }
        },
        "201595923a004f8c92f4dbd7b602e398": {
          "model_module": "@jupyter-widgets/controls",
          "model_name": "FloatProgressModel",
          "state": {
            "_view_name": "ProgressView",
            "style": "IPY_MODEL_abea4d07cc554242af1043e996280b8c",
            "_dom_classes": [],
            "description": "Downloading: 100%",
            "_model_name": "FloatProgressModel",
            "bar_style": "success",
            "max": 231508,
            "_view_module": "@jupyter-widgets/controls",
            "_model_module_version": "1.5.0",
            "value": 231508,
            "_view_count": null,
            "_view_module_version": "1.5.0",
            "orientation": "horizontal",
            "min": 0,
            "description_tooltip": null,
            "_model_module": "@jupyter-widgets/controls",
            "layout": "IPY_MODEL_18c705a81bb44aa484f8d561cb1e0d2e"
          }
        },
        "6235dd44f8d34a4887676434dee6fb68": {
          "model_module": "@jupyter-widgets/controls",
          "model_name": "HTMLModel",
          "state": {
            "_view_name": "HTMLView",
            "style": "IPY_MODEL_54722e9c90bd4a89ba69f22ddd21f806",
            "_dom_classes": [],
            "description": "",
            "_model_name": "HTMLModel",
            "placeholder": "​",
            "_view_module": "@jupyter-widgets/controls",
            "_model_module_version": "1.5.0",
            "value": " 232k/232k [00:00&lt;00:00, 650kB/s]",
            "_view_count": null,
            "_view_module_version": "1.5.0",
            "description_tooltip": null,
            "_model_module": "@jupyter-widgets/controls",
            "layout": "IPY_MODEL_25290ed7b3c44aadad01ff223326bf27"
          }
        },
        "abea4d07cc554242af1043e996280b8c": {
          "model_module": "@jupyter-widgets/controls",
          "model_name": "ProgressStyleModel",
          "state": {
            "_view_name": "StyleView",
            "_model_name": "ProgressStyleModel",
            "description_width": "initial",
            "_view_module": "@jupyter-widgets/base",
            "_model_module_version": "1.5.0",
            "_view_count": null,
            "_view_module_version": "1.2.0",
            "bar_color": null,
            "_model_module": "@jupyter-widgets/controls"
          }
        },
        "18c705a81bb44aa484f8d561cb1e0d2e": {
          "model_module": "@jupyter-widgets/base",
          "model_name": "LayoutModel",
          "state": {
            "_view_name": "LayoutView",
            "grid_template_rows": null,
            "right": null,
            "justify_content": null,
            "_view_module": "@jupyter-widgets/base",
            "overflow": null,
            "_model_module_version": "1.2.0",
            "_view_count": null,
            "flex_flow": null,
            "width": null,
            "min_width": null,
            "border": null,
            "align_items": null,
            "bottom": null,
            "_model_module": "@jupyter-widgets/base",
            "top": null,
            "grid_column": null,
            "overflow_y": null,
            "overflow_x": null,
            "grid_auto_flow": null,
            "grid_area": null,
            "grid_template_columns": null,
            "flex": null,
            "_model_name": "LayoutModel",
            "justify_items": null,
            "grid_row": null,
            "max_height": null,
            "align_content": null,
            "visibility": null,
            "align_self": null,
            "height": null,
            "min_height": null,
            "padding": null,
            "grid_auto_rows": null,
            "grid_gap": null,
            "max_width": null,
            "order": null,
            "_view_module_version": "1.2.0",
            "grid_template_areas": null,
            "object_position": null,
            "object_fit": null,
            "grid_auto_columns": null,
            "margin": null,
            "display": null,
            "left": null
          }
        },
        "54722e9c90bd4a89ba69f22ddd21f806": {
          "model_module": "@jupyter-widgets/controls",
          "model_name": "DescriptionStyleModel",
          "state": {
            "_view_name": "StyleView",
            "_model_name": "DescriptionStyleModel",
            "description_width": "",
            "_view_module": "@jupyter-widgets/base",
            "_model_module_version": "1.5.0",
            "_view_count": null,
            "_view_module_version": "1.2.0",
            "_model_module": "@jupyter-widgets/controls"
          }
        },
        "25290ed7b3c44aadad01ff223326bf27": {
          "model_module": "@jupyter-widgets/base",
          "model_name": "LayoutModel",
          "state": {
            "_view_name": "LayoutView",
            "grid_template_rows": null,
            "right": null,
            "justify_content": null,
            "_view_module": "@jupyter-widgets/base",
            "overflow": null,
            "_model_module_version": "1.2.0",
            "_view_count": null,
            "flex_flow": null,
            "width": null,
            "min_width": null,
            "border": null,
            "align_items": null,
            "bottom": null,
            "_model_module": "@jupyter-widgets/base",
            "top": null,
            "grid_column": null,
            "overflow_y": null,
            "overflow_x": null,
            "grid_auto_flow": null,
            "grid_area": null,
            "grid_template_columns": null,
            "flex": null,
            "_model_name": "LayoutModel",
            "justify_items": null,
            "grid_row": null,
            "max_height": null,
            "align_content": null,
            "visibility": null,
            "align_self": null,
            "height": null,
            "min_height": null,
            "padding": null,
            "grid_auto_rows": null,
            "grid_gap": null,
            "max_width": null,
            "order": null,
            "_view_module_version": "1.2.0",
            "grid_template_areas": null,
            "object_position": null,
            "object_fit": null,
            "grid_auto_columns": null,
            "margin": null,
            "display": null,
            "left": null
          }
        },
        "8b44ae3d83b54ff6a3612f746abf0b29": {
          "model_module": "@jupyter-widgets/controls",
          "model_name": "HBoxModel",
          "state": {
            "_view_name": "HBoxView",
            "_dom_classes": [],
            "_model_name": "HBoxModel",
            "_view_module": "@jupyter-widgets/controls",
            "_model_module_version": "1.5.0",
            "_view_count": null,
            "_view_module_version": "1.5.0",
            "box_style": "",
            "layout": "IPY_MODEL_61ed906b5ab34357a677456870bcc761",
            "_model_module": "@jupyter-widgets/controls",
            "children": [
              "IPY_MODEL_0163e7bc2443449da4b8d441933e988b",
              "IPY_MODEL_798d3a46c254479ba4b13e138aaf5c70"
            ]
          }
        },
        "61ed906b5ab34357a677456870bcc761": {
          "model_module": "@jupyter-widgets/base",
          "model_name": "LayoutModel",
          "state": {
            "_view_name": "LayoutView",
            "grid_template_rows": null,
            "right": null,
            "justify_content": null,
            "_view_module": "@jupyter-widgets/base",
            "overflow": null,
            "_model_module_version": "1.2.0",
            "_view_count": null,
            "flex_flow": null,
            "width": null,
            "min_width": null,
            "border": null,
            "align_items": null,
            "bottom": null,
            "_model_module": "@jupyter-widgets/base",
            "top": null,
            "grid_column": null,
            "overflow_y": null,
            "overflow_x": null,
            "grid_auto_flow": null,
            "grid_area": null,
            "grid_template_columns": null,
            "flex": null,
            "_model_name": "LayoutModel",
            "justify_items": null,
            "grid_row": null,
            "max_height": null,
            "align_content": null,
            "visibility": null,
            "align_self": null,
            "height": null,
            "min_height": null,
            "padding": null,
            "grid_auto_rows": null,
            "grid_gap": null,
            "max_width": null,
            "order": null,
            "_view_module_version": "1.2.0",
            "grid_template_areas": null,
            "object_position": null,
            "object_fit": null,
            "grid_auto_columns": null,
            "margin": null,
            "display": null,
            "left": null
          }
        },
        "0163e7bc2443449da4b8d441933e988b": {
          "model_module": "@jupyter-widgets/controls",
          "model_name": "FloatProgressModel",
          "state": {
            "_view_name": "ProgressView",
            "style": "IPY_MODEL_a84b61013d864321b6237fac6ce5a456",
            "_dom_classes": [],
            "description": "Downloading: 100%",
            "_model_name": "FloatProgressModel",
            "bar_style": "success",
            "max": 467,
            "_view_module": "@jupyter-widgets/controls",
            "_model_module_version": "1.5.0",
            "value": 467,
            "_view_count": null,
            "_view_module_version": "1.5.0",
            "orientation": "horizontal",
            "min": 0,
            "description_tooltip": null,
            "_model_module": "@jupyter-widgets/controls",
            "layout": "IPY_MODEL_ccb43cff188843ffa232c8337923f116"
          }
        },
        "798d3a46c254479ba4b13e138aaf5c70": {
          "model_module": "@jupyter-widgets/controls",
          "model_name": "HTMLModel",
          "state": {
            "_view_name": "HTMLView",
            "style": "IPY_MODEL_9d8811d5f83940cdac96d9f1f88ec0c9",
            "_dom_classes": [],
            "description": "",
            "_model_name": "HTMLModel",
            "placeholder": "​",
            "_view_module": "@jupyter-widgets/controls",
            "_model_module_version": "1.5.0",
            "value": " 467/467 [00:00&lt;00:00, 581B/s]",
            "_view_count": null,
            "_view_module_version": "1.5.0",
            "description_tooltip": null,
            "_model_module": "@jupyter-widgets/controls",
            "layout": "IPY_MODEL_0bf5a2dfcb9b450d8de78a7e98ca26c1"
          }
        },
        "a84b61013d864321b6237fac6ce5a456": {
          "model_module": "@jupyter-widgets/controls",
          "model_name": "ProgressStyleModel",
          "state": {
            "_view_name": "StyleView",
            "_model_name": "ProgressStyleModel",
            "description_width": "initial",
            "_view_module": "@jupyter-widgets/base",
            "_model_module_version": "1.5.0",
            "_view_count": null,
            "_view_module_version": "1.2.0",
            "bar_color": null,
            "_model_module": "@jupyter-widgets/controls"
          }
        },
        "ccb43cff188843ffa232c8337923f116": {
          "model_module": "@jupyter-widgets/base",
          "model_name": "LayoutModel",
          "state": {
            "_view_name": "LayoutView",
            "grid_template_rows": null,
            "right": null,
            "justify_content": null,
            "_view_module": "@jupyter-widgets/base",
            "overflow": null,
            "_model_module_version": "1.2.0",
            "_view_count": null,
            "flex_flow": null,
            "width": null,
            "min_width": null,
            "border": null,
            "align_items": null,
            "bottom": null,
            "_model_module": "@jupyter-widgets/base",
            "top": null,
            "grid_column": null,
            "overflow_y": null,
            "overflow_x": null,
            "grid_auto_flow": null,
            "grid_area": null,
            "grid_template_columns": null,
            "flex": null,
            "_model_name": "LayoutModel",
            "justify_items": null,
            "grid_row": null,
            "max_height": null,
            "align_content": null,
            "visibility": null,
            "align_self": null,
            "height": null,
            "min_height": null,
            "padding": null,
            "grid_auto_rows": null,
            "grid_gap": null,
            "max_width": null,
            "order": null,
            "_view_module_version": "1.2.0",
            "grid_template_areas": null,
            "object_position": null,
            "object_fit": null,
            "grid_auto_columns": null,
            "margin": null,
            "display": null,
            "left": null
          }
        },
        "9d8811d5f83940cdac96d9f1f88ec0c9": {
          "model_module": "@jupyter-widgets/controls",
          "model_name": "DescriptionStyleModel",
          "state": {
            "_view_name": "StyleView",
            "_model_name": "DescriptionStyleModel",
            "description_width": "",
            "_view_module": "@jupyter-widgets/base",
            "_model_module_version": "1.5.0",
            "_view_count": null,
            "_view_module_version": "1.2.0",
            "_model_module": "@jupyter-widgets/controls"
          }
        },
        "0bf5a2dfcb9b450d8de78a7e98ca26c1": {
          "model_module": "@jupyter-widgets/base",
          "model_name": "LayoutModel",
          "state": {
            "_view_name": "LayoutView",
            "grid_template_rows": null,
            "right": null,
            "justify_content": null,
            "_view_module": "@jupyter-widgets/base",
            "overflow": null,
            "_model_module_version": "1.2.0",
            "_view_count": null,
            "flex_flow": null,
            "width": null,
            "min_width": null,
            "border": null,
            "align_items": null,
            "bottom": null,
            "_model_module": "@jupyter-widgets/base",
            "top": null,
            "grid_column": null,
            "overflow_y": null,
            "overflow_x": null,
            "grid_auto_flow": null,
            "grid_area": null,
            "grid_template_columns": null,
            "flex": null,
            "_model_name": "LayoutModel",
            "justify_items": null,
            "grid_row": null,
            "max_height": null,
            "align_content": null,
            "visibility": null,
            "align_self": null,
            "height": null,
            "min_height": null,
            "padding": null,
            "grid_auto_rows": null,
            "grid_gap": null,
            "max_width": null,
            "order": null,
            "_view_module_version": "1.2.0",
            "grid_template_areas": null,
            "object_position": null,
            "object_fit": null,
            "grid_auto_columns": null,
            "margin": null,
            "display": null,
            "left": null
          }
        },
        "e9ed23f4bd6a427bba672cf3e9afc833": {
          "model_module": "@jupyter-widgets/controls",
          "model_name": "HBoxModel",
          "state": {
            "_view_name": "HBoxView",
            "_dom_classes": [],
            "_model_name": "HBoxModel",
            "_view_module": "@jupyter-widgets/controls",
            "_model_module_version": "1.5.0",
            "_view_count": null,
            "_view_module_version": "1.5.0",
            "box_style": "",
            "layout": "IPY_MODEL_e6b1d9c8fef2480488f80b920824f11a",
            "_model_module": "@jupyter-widgets/controls",
            "children": [
              "IPY_MODEL_d37d0b9b70c74fa8bfbf7437440213a9",
              "IPY_MODEL_7f5899e31a0a4443988a4ded48949cfa"
            ]
          }
        },
        "e6b1d9c8fef2480488f80b920824f11a": {
          "model_module": "@jupyter-widgets/base",
          "model_name": "LayoutModel",
          "state": {
            "_view_name": "LayoutView",
            "grid_template_rows": null,
            "right": null,
            "justify_content": null,
            "_view_module": "@jupyter-widgets/base",
            "overflow": null,
            "_model_module_version": "1.2.0",
            "_view_count": null,
            "flex_flow": null,
            "width": null,
            "min_width": null,
            "border": null,
            "align_items": null,
            "bottom": null,
            "_model_module": "@jupyter-widgets/base",
            "top": null,
            "grid_column": null,
            "overflow_y": null,
            "overflow_x": null,
            "grid_auto_flow": null,
            "grid_area": null,
            "grid_template_columns": null,
            "flex": null,
            "_model_name": "LayoutModel",
            "justify_items": null,
            "grid_row": null,
            "max_height": null,
            "align_content": null,
            "visibility": null,
            "align_self": null,
            "height": null,
            "min_height": null,
            "padding": null,
            "grid_auto_rows": null,
            "grid_gap": null,
            "max_width": null,
            "order": null,
            "_view_module_version": "1.2.0",
            "grid_template_areas": null,
            "object_position": null,
            "object_fit": null,
            "grid_auto_columns": null,
            "margin": null,
            "display": null,
            "left": null
          }
        },
        "d37d0b9b70c74fa8bfbf7437440213a9": {
          "model_module": "@jupyter-widgets/controls",
          "model_name": "FloatProgressModel",
          "state": {
            "_view_name": "ProgressView",
            "style": "IPY_MODEL_eab7e0573efd4c8ab534a1c48040959a",
            "_dom_classes": [],
            "description": "Downloading: 100%",
            "_model_name": "FloatProgressModel",
            "bar_style": "success",
            "max": 440343552,
            "_view_module": "@jupyter-widgets/controls",
            "_model_module_version": "1.5.0",
            "value": 440343552,
            "_view_count": null,
            "_view_module_version": "1.5.0",
            "orientation": "horizontal",
            "min": 0,
            "description_tooltip": null,
            "_model_module": "@jupyter-widgets/controls",
            "layout": "IPY_MODEL_99043e9179954c46ab6a6107255f70f6"
          }
        },
        "7f5899e31a0a4443988a4ded48949cfa": {
          "model_module": "@jupyter-widgets/controls",
          "model_name": "HTMLModel",
          "state": {
            "_view_name": "HTMLView",
            "style": "IPY_MODEL_99c02267153a4bc1b0719b0e96ae121a",
            "_dom_classes": [],
            "description": "",
            "_model_name": "HTMLModel",
            "placeholder": "​",
            "_view_module": "@jupyter-widgets/controls",
            "_model_module_version": "1.5.0",
            "value": " 440M/440M [00:13&lt;00:00, 33.4MB/s]",
            "_view_count": null,
            "_view_module_version": "1.5.0",
            "description_tooltip": null,
            "_model_module": "@jupyter-widgets/controls",
            "layout": "IPY_MODEL_186be8299d2c438288be58e94ea03ba9"
          }
        },
        "eab7e0573efd4c8ab534a1c48040959a": {
          "model_module": "@jupyter-widgets/controls",
          "model_name": "ProgressStyleModel",
          "state": {
            "_view_name": "StyleView",
            "_model_name": "ProgressStyleModel",
            "description_width": "initial",
            "_view_module": "@jupyter-widgets/base",
            "_model_module_version": "1.5.0",
            "_view_count": null,
            "_view_module_version": "1.2.0",
            "bar_color": null,
            "_model_module": "@jupyter-widgets/controls"
          }
        },
        "99043e9179954c46ab6a6107255f70f6": {
          "model_module": "@jupyter-widgets/base",
          "model_name": "LayoutModel",
          "state": {
            "_view_name": "LayoutView",
            "grid_template_rows": null,
            "right": null,
            "justify_content": null,
            "_view_module": "@jupyter-widgets/base",
            "overflow": null,
            "_model_module_version": "1.2.0",
            "_view_count": null,
            "flex_flow": null,
            "width": null,
            "min_width": null,
            "border": null,
            "align_items": null,
            "bottom": null,
            "_model_module": "@jupyter-widgets/base",
            "top": null,
            "grid_column": null,
            "overflow_y": null,
            "overflow_x": null,
            "grid_auto_flow": null,
            "grid_area": null,
            "grid_template_columns": null,
            "flex": null,
            "_model_name": "LayoutModel",
            "justify_items": null,
            "grid_row": null,
            "max_height": null,
            "align_content": null,
            "visibility": null,
            "align_self": null,
            "height": null,
            "min_height": null,
            "padding": null,
            "grid_auto_rows": null,
            "grid_gap": null,
            "max_width": null,
            "order": null,
            "_view_module_version": "1.2.0",
            "grid_template_areas": null,
            "object_position": null,
            "object_fit": null,
            "grid_auto_columns": null,
            "margin": null,
            "display": null,
            "left": null
          }
        },
        "99c02267153a4bc1b0719b0e96ae121a": {
          "model_module": "@jupyter-widgets/controls",
          "model_name": "DescriptionStyleModel",
          "state": {
            "_view_name": "StyleView",
            "_model_name": "DescriptionStyleModel",
            "description_width": "",
            "_view_module": "@jupyter-widgets/base",
            "_model_module_version": "1.5.0",
            "_view_count": null,
            "_view_module_version": "1.2.0",
            "_model_module": "@jupyter-widgets/controls"
          }
        },
        "186be8299d2c438288be58e94ea03ba9": {
          "model_module": "@jupyter-widgets/base",
          "model_name": "LayoutModel",
          "state": {
            "_view_name": "LayoutView",
            "grid_template_rows": null,
            "right": null,
            "justify_content": null,
            "_view_module": "@jupyter-widgets/base",
            "overflow": null,
            "_model_module_version": "1.2.0",
            "_view_count": null,
            "flex_flow": null,
            "width": null,
            "min_width": null,
            "border": null,
            "align_items": null,
            "bottom": null,
            "_model_module": "@jupyter-widgets/base",
            "top": null,
            "grid_column": null,
            "overflow_y": null,
            "overflow_x": null,
            "grid_auto_flow": null,
            "grid_area": null,
            "grid_template_columns": null,
            "flex": null,
            "_model_name": "LayoutModel",
            "justify_items": null,
            "grid_row": null,
            "max_height": null,
            "align_content": null,
            "visibility": null,
            "align_self": null,
            "height": null,
            "min_height": null,
            "padding": null,
            "grid_auto_rows": null,
            "grid_gap": null,
            "max_width": null,
            "order": null,
            "_view_module_version": "1.2.0",
            "grid_template_areas": null,
            "object_position": null,
            "object_fit": null,
            "grid_auto_columns": null,
            "margin": null,
            "display": null,
            "left": null
          }
        },
        "2220ad1006bc469b9bc3628f93d53964": {
          "model_module": "@jupyter-widgets/controls",
          "model_name": "HBoxModel",
          "state": {
            "_view_name": "HBoxView",
            "_dom_classes": [],
            "_model_name": "HBoxModel",
            "_view_module": "@jupyter-widgets/controls",
            "_model_module_version": "1.5.0",
            "_view_count": null,
            "_view_module_version": "1.5.0",
            "box_style": "",
            "layout": "IPY_MODEL_b3d1ff75bbeb473cafb33d7f68417a34",
            "_model_module": "@jupyter-widgets/controls",
            "children": [
              "IPY_MODEL_a25b79b3061047f2bc2b09efe8a38b2c",
              "IPY_MODEL_7f9070883fab48c2b550dcb44d0f2880"
            ]
          }
        },
        "b3d1ff75bbeb473cafb33d7f68417a34": {
          "model_module": "@jupyter-widgets/base",
          "model_name": "LayoutModel",
          "state": {
            "_view_name": "LayoutView",
            "grid_template_rows": null,
            "right": null,
            "justify_content": null,
            "_view_module": "@jupyter-widgets/base",
            "overflow": null,
            "_model_module_version": "1.2.0",
            "_view_count": null,
            "flex_flow": null,
            "width": null,
            "min_width": null,
            "border": null,
            "align_items": null,
            "bottom": null,
            "_model_module": "@jupyter-widgets/base",
            "top": null,
            "grid_column": null,
            "overflow_y": null,
            "overflow_x": null,
            "grid_auto_flow": null,
            "grid_area": null,
            "grid_template_columns": null,
            "flex": null,
            "_model_name": "LayoutModel",
            "justify_items": null,
            "grid_row": null,
            "max_height": null,
            "align_content": null,
            "visibility": null,
            "align_self": null,
            "height": null,
            "min_height": null,
            "padding": null,
            "grid_auto_rows": null,
            "grid_gap": null,
            "max_width": null,
            "order": null,
            "_view_module_version": "1.2.0",
            "grid_template_areas": null,
            "object_position": null,
            "object_fit": null,
            "grid_auto_columns": null,
            "margin": null,
            "display": null,
            "left": null
          }
        },
        "a25b79b3061047f2bc2b09efe8a38b2c": {
          "model_module": "@jupyter-widgets/controls",
          "model_name": "FloatProgressModel",
          "state": {
            "_view_name": "ProgressView",
            "style": "IPY_MODEL_cee93e42171848d0bcac331df39071ee",
            "_dom_classes": [],
            "description": "100%",
            "_model_name": "FloatProgressModel",
            "bar_style": "success",
            "max": 369,
            "_view_module": "@jupyter-widgets/controls",
            "_model_module_version": "1.5.0",
            "value": 369,
            "_view_count": null,
            "_view_module_version": "1.5.0",
            "orientation": "horizontal",
            "min": 0,
            "description_tooltip": null,
            "_model_module": "@jupyter-widgets/controls",
            "layout": "IPY_MODEL_e0cd990bbd8547e0aab55c4190aead24"
          }
        },
        "7f9070883fab48c2b550dcb44d0f2880": {
          "model_module": "@jupyter-widgets/controls",
          "model_name": "HTMLModel",
          "state": {
            "_view_name": "HTMLView",
            "style": "IPY_MODEL_93750361af124ff796755d80e574eb7d",
            "_dom_classes": [],
            "description": "",
            "_model_name": "HTMLModel",
            "placeholder": "​",
            "_view_module": "@jupyter-widgets/controls",
            "_model_module_version": "1.5.0",
            "value": " 369/369 [06:45&lt;00:00,  1.10s/it]",
            "_view_count": null,
            "_view_module_version": "1.5.0",
            "description_tooltip": null,
            "_model_module": "@jupyter-widgets/controls",
            "layout": "IPY_MODEL_0d1091ba5906420f95a391e2c80088c6"
          }
        },
        "cee93e42171848d0bcac331df39071ee": {
          "model_module": "@jupyter-widgets/controls",
          "model_name": "ProgressStyleModel",
          "state": {
            "_view_name": "StyleView",
            "_model_name": "ProgressStyleModel",
            "description_width": "initial",
            "_view_module": "@jupyter-widgets/base",
            "_model_module_version": "1.5.0",
            "_view_count": null,
            "_view_module_version": "1.2.0",
            "bar_color": null,
            "_model_module": "@jupyter-widgets/controls"
          }
        },
        "e0cd990bbd8547e0aab55c4190aead24": {
          "model_module": "@jupyter-widgets/base",
          "model_name": "LayoutModel",
          "state": {
            "_view_name": "LayoutView",
            "grid_template_rows": null,
            "right": null,
            "justify_content": null,
            "_view_module": "@jupyter-widgets/base",
            "overflow": null,
            "_model_module_version": "1.2.0",
            "_view_count": null,
            "flex_flow": null,
            "width": null,
            "min_width": null,
            "border": null,
            "align_items": null,
            "bottom": null,
            "_model_module": "@jupyter-widgets/base",
            "top": null,
            "grid_column": null,
            "overflow_y": null,
            "overflow_x": null,
            "grid_auto_flow": null,
            "grid_area": null,
            "grid_template_columns": null,
            "flex": null,
            "_model_name": "LayoutModel",
            "justify_items": null,
            "grid_row": null,
            "max_height": null,
            "align_content": null,
            "visibility": null,
            "align_self": null,
            "height": null,
            "min_height": null,
            "padding": null,
            "grid_auto_rows": null,
            "grid_gap": null,
            "max_width": null,
            "order": null,
            "_view_module_version": "1.2.0",
            "grid_template_areas": null,
            "object_position": null,
            "object_fit": null,
            "grid_auto_columns": null,
            "margin": null,
            "display": null,
            "left": null
          }
        },
        "93750361af124ff796755d80e574eb7d": {
          "model_module": "@jupyter-widgets/controls",
          "model_name": "DescriptionStyleModel",
          "state": {
            "_view_name": "StyleView",
            "_model_name": "DescriptionStyleModel",
            "description_width": "",
            "_view_module": "@jupyter-widgets/base",
            "_model_module_version": "1.5.0",
            "_view_count": null,
            "_view_module_version": "1.2.0",
            "_model_module": "@jupyter-widgets/controls"
          }
        },
        "0d1091ba5906420f95a391e2c80088c6": {
          "model_module": "@jupyter-widgets/base",
          "model_name": "LayoutModel",
          "state": {
            "_view_name": "LayoutView",
            "grid_template_rows": null,
            "right": null,
            "justify_content": null,
            "_view_module": "@jupyter-widgets/base",
            "overflow": null,
            "_model_module_version": "1.2.0",
            "_view_count": null,
            "flex_flow": null,
            "width": null,
            "min_width": null,
            "border": null,
            "align_items": null,
            "bottom": null,
            "_model_module": "@jupyter-widgets/base",
            "top": null,
            "grid_column": null,
            "overflow_y": null,
            "overflow_x": null,
            "grid_auto_flow": null,
            "grid_area": null,
            "grid_template_columns": null,
            "flex": null,
            "_model_name": "LayoutModel",
            "justify_items": null,
            "grid_row": null,
            "max_height": null,
            "align_content": null,
            "visibility": null,
            "align_self": null,
            "height": null,
            "min_height": null,
            "padding": null,
            "grid_auto_rows": null,
            "grid_gap": null,
            "max_width": null,
            "order": null,
            "_view_module_version": "1.2.0",
            "grid_template_areas": null,
            "object_position": null,
            "object_fit": null,
            "grid_auto_columns": null,
            "margin": null,
            "display": null,
            "left": null
          }
        },
        "1c2c1e67e7a94564a7fdbf081012cfa8": {
          "model_module": "@jupyter-widgets/controls",
          "model_name": "HBoxModel",
          "state": {
            "_view_name": "HBoxView",
            "_dom_classes": [],
            "_model_name": "HBoxModel",
            "_view_module": "@jupyter-widgets/controls",
            "_model_module_version": "1.5.0",
            "_view_count": null,
            "_view_module_version": "1.5.0",
            "box_style": "",
            "layout": "IPY_MODEL_c91882b559a0476496e99fd5377d1fc1",
            "_model_module": "@jupyter-widgets/controls",
            "children": [
              "IPY_MODEL_8bfb25554b3b4ff795d2283cdf5c7135",
              "IPY_MODEL_4de56a6f66c44842ab0fa2f0e0dd81aa"
            ]
          }
        },
        "c91882b559a0476496e99fd5377d1fc1": {
          "model_module": "@jupyter-widgets/base",
          "model_name": "LayoutModel",
          "state": {
            "_view_name": "LayoutView",
            "grid_template_rows": null,
            "right": null,
            "justify_content": null,
            "_view_module": "@jupyter-widgets/base",
            "overflow": null,
            "_model_module_version": "1.2.0",
            "_view_count": null,
            "flex_flow": null,
            "width": null,
            "min_width": null,
            "border": null,
            "align_items": null,
            "bottom": null,
            "_model_module": "@jupyter-widgets/base",
            "top": null,
            "grid_column": null,
            "overflow_y": null,
            "overflow_x": null,
            "grid_auto_flow": null,
            "grid_area": null,
            "grid_template_columns": null,
            "flex": null,
            "_model_name": "LayoutModel",
            "justify_items": null,
            "grid_row": null,
            "max_height": null,
            "align_content": null,
            "visibility": null,
            "align_self": null,
            "height": null,
            "min_height": null,
            "padding": null,
            "grid_auto_rows": null,
            "grid_gap": null,
            "max_width": null,
            "order": null,
            "_view_module_version": "1.2.0",
            "grid_template_areas": null,
            "object_position": null,
            "object_fit": null,
            "grid_auto_columns": null,
            "margin": null,
            "display": null,
            "left": null
          }
        },
        "8bfb25554b3b4ff795d2283cdf5c7135": {
          "model_module": "@jupyter-widgets/controls",
          "model_name": "FloatProgressModel",
          "state": {
            "_view_name": "ProgressView",
            "style": "IPY_MODEL_f86809402ca94da4860905cef164a283",
            "_dom_classes": [],
            "description": "100%",
            "_model_name": "FloatProgressModel",
            "bar_style": "success",
            "max": 369,
            "_view_module": "@jupyter-widgets/controls",
            "_model_module_version": "1.5.0",
            "value": 369,
            "_view_count": null,
            "_view_module_version": "1.5.0",
            "orientation": "horizontal",
            "min": 0,
            "description_tooltip": null,
            "_model_module": "@jupyter-widgets/controls",
            "layout": "IPY_MODEL_ccc446c9c35d433a85638d8b6a2b33ee"
          }
        },
        "4de56a6f66c44842ab0fa2f0e0dd81aa": {
          "model_module": "@jupyter-widgets/controls",
          "model_name": "HTMLModel",
          "state": {
            "_view_name": "HTMLView",
            "style": "IPY_MODEL_c13a604fe8714c0383536f86a4acb643",
            "_dom_classes": [],
            "description": "",
            "_model_name": "HTMLModel",
            "placeholder": "​",
            "_view_module": "@jupyter-widgets/controls",
            "_model_module_version": "1.5.0",
            "value": " 369/369 [04:53&lt;00:00,  1.26it/s]",
            "_view_count": null,
            "_view_module_version": "1.5.0",
            "description_tooltip": null,
            "_model_module": "@jupyter-widgets/controls",
            "layout": "IPY_MODEL_439d6c44d47d45fd82e776f0445755e9"
          }
        },
        "f86809402ca94da4860905cef164a283": {
          "model_module": "@jupyter-widgets/controls",
          "model_name": "ProgressStyleModel",
          "state": {
            "_view_name": "StyleView",
            "_model_name": "ProgressStyleModel",
            "description_width": "initial",
            "_view_module": "@jupyter-widgets/base",
            "_model_module_version": "1.5.0",
            "_view_count": null,
            "_view_module_version": "1.2.0",
            "bar_color": null,
            "_model_module": "@jupyter-widgets/controls"
          }
        },
        "ccc446c9c35d433a85638d8b6a2b33ee": {
          "model_module": "@jupyter-widgets/base",
          "model_name": "LayoutModel",
          "state": {
            "_view_name": "LayoutView",
            "grid_template_rows": null,
            "right": null,
            "justify_content": null,
            "_view_module": "@jupyter-widgets/base",
            "overflow": null,
            "_model_module_version": "1.2.0",
            "_view_count": null,
            "flex_flow": null,
            "width": null,
            "min_width": null,
            "border": null,
            "align_items": null,
            "bottom": null,
            "_model_module": "@jupyter-widgets/base",
            "top": null,
            "grid_column": null,
            "overflow_y": null,
            "overflow_x": null,
            "grid_auto_flow": null,
            "grid_area": null,
            "grid_template_columns": null,
            "flex": null,
            "_model_name": "LayoutModel",
            "justify_items": null,
            "grid_row": null,
            "max_height": null,
            "align_content": null,
            "visibility": null,
            "align_self": null,
            "height": null,
            "min_height": null,
            "padding": null,
            "grid_auto_rows": null,
            "grid_gap": null,
            "max_width": null,
            "order": null,
            "_view_module_version": "1.2.0",
            "grid_template_areas": null,
            "object_position": null,
            "object_fit": null,
            "grid_auto_columns": null,
            "margin": null,
            "display": null,
            "left": null
          }
        },
        "c13a604fe8714c0383536f86a4acb643": {
          "model_module": "@jupyter-widgets/controls",
          "model_name": "DescriptionStyleModel",
          "state": {
            "_view_name": "StyleView",
            "_model_name": "DescriptionStyleModel",
            "description_width": "",
            "_view_module": "@jupyter-widgets/base",
            "_model_module_version": "1.5.0",
            "_view_count": null,
            "_view_module_version": "1.2.0",
            "_model_module": "@jupyter-widgets/controls"
          }
        },
        "439d6c44d47d45fd82e776f0445755e9": {
          "model_module": "@jupyter-widgets/base",
          "model_name": "LayoutModel",
          "state": {
            "_view_name": "LayoutView",
            "grid_template_rows": null,
            "right": null,
            "justify_content": null,
            "_view_module": "@jupyter-widgets/base",
            "overflow": null,
            "_model_module_version": "1.2.0",
            "_view_count": null,
            "flex_flow": null,
            "width": null,
            "min_width": null,
            "border": null,
            "align_items": null,
            "bottom": null,
            "_model_module": "@jupyter-widgets/base",
            "top": null,
            "grid_column": null,
            "overflow_y": null,
            "overflow_x": null,
            "grid_auto_flow": null,
            "grid_area": null,
            "grid_template_columns": null,
            "flex": null,
            "_model_name": "LayoutModel",
            "justify_items": null,
            "grid_row": null,
            "max_height": null,
            "align_content": null,
            "visibility": null,
            "align_self": null,
            "height": null,
            "min_height": null,
            "padding": null,
            "grid_auto_rows": null,
            "grid_gap": null,
            "max_width": null,
            "order": null,
            "_view_module_version": "1.2.0",
            "grid_template_areas": null,
            "object_position": null,
            "object_fit": null,
            "grid_auto_columns": null,
            "margin": null,
            "display": null,
            "left": null
          }
        },
        "dd7f918ccecd49feba1c884f38a315e2": {
          "model_module": "@jupyter-widgets/controls",
          "model_name": "HBoxModel",
          "state": {
            "_view_name": "HBoxView",
            "_dom_classes": [],
            "_model_name": "HBoxModel",
            "_view_module": "@jupyter-widgets/controls",
            "_model_module_version": "1.5.0",
            "_view_count": null,
            "_view_module_version": "1.5.0",
            "box_style": "",
            "layout": "IPY_MODEL_1b5634cdd6504fe89b3bb47da227a3b6",
            "_model_module": "@jupyter-widgets/controls",
            "children": [
              "IPY_MODEL_c410827c47a34d76b3a14071263a5969",
              "IPY_MODEL_fddd5e37e92d4159b1536110f07a9231"
            ]
          }
        },
        "1b5634cdd6504fe89b3bb47da227a3b6": {
          "model_module": "@jupyter-widgets/base",
          "model_name": "LayoutModel",
          "state": {
            "_view_name": "LayoutView",
            "grid_template_rows": null,
            "right": null,
            "justify_content": null,
            "_view_module": "@jupyter-widgets/base",
            "overflow": null,
            "_model_module_version": "1.2.0",
            "_view_count": null,
            "flex_flow": null,
            "width": null,
            "min_width": null,
            "border": null,
            "align_items": null,
            "bottom": null,
            "_model_module": "@jupyter-widgets/base",
            "top": null,
            "grid_column": null,
            "overflow_y": null,
            "overflow_x": null,
            "grid_auto_flow": null,
            "grid_area": null,
            "grid_template_columns": null,
            "flex": null,
            "_model_name": "LayoutModel",
            "justify_items": null,
            "grid_row": null,
            "max_height": null,
            "align_content": null,
            "visibility": null,
            "align_self": null,
            "height": null,
            "min_height": null,
            "padding": null,
            "grid_auto_rows": null,
            "grid_gap": null,
            "max_width": null,
            "order": null,
            "_view_module_version": "1.2.0",
            "grid_template_areas": null,
            "object_position": null,
            "object_fit": null,
            "grid_auto_columns": null,
            "margin": null,
            "display": null,
            "left": null
          }
        },
        "c410827c47a34d76b3a14071263a5969": {
          "model_module": "@jupyter-widgets/controls",
          "model_name": "FloatProgressModel",
          "state": {
            "_view_name": "ProgressView",
            "style": "IPY_MODEL_374cfb9272ac4e8e832568fe0b106d17",
            "_dom_classes": [],
            "description": " 58%",
            "_model_name": "FloatProgressModel",
            "bar_style": "",
            "max": 369,
            "_view_module": "@jupyter-widgets/controls",
            "_model_module_version": "1.5.0",
            "value": 215,
            "_view_count": null,
            "_view_module_version": "1.5.0",
            "orientation": "horizontal",
            "min": 0,
            "description_tooltip": null,
            "_model_module": "@jupyter-widgets/controls",
            "layout": "IPY_MODEL_567386cca9074fd6a14f507d712a3601"
          }
        },
        "fddd5e37e92d4159b1536110f07a9231": {
          "model_module": "@jupyter-widgets/controls",
          "model_name": "HTMLModel",
          "state": {
            "_view_name": "HTMLView",
            "style": "IPY_MODEL_fcd8c40e767d4d9686805dc569a090e0",
            "_dom_classes": [],
            "description": "",
            "_model_name": "HTMLModel",
            "placeholder": "​",
            "_view_module": "@jupyter-widgets/controls",
            "_model_module_version": "1.5.0",
            "value": " 214/369 [02:50&lt;02:03,  1.26it/s]",
            "_view_count": null,
            "_view_module_version": "1.5.0",
            "description_tooltip": null,
            "_model_module": "@jupyter-widgets/controls",
            "layout": "IPY_MODEL_bdf7d4f404784051b73a428064aa20d6"
          }
        },
        "374cfb9272ac4e8e832568fe0b106d17": {
          "model_module": "@jupyter-widgets/controls",
          "model_name": "ProgressStyleModel",
          "state": {
            "_view_name": "StyleView",
            "_model_name": "ProgressStyleModel",
            "description_width": "initial",
            "_view_module": "@jupyter-widgets/base",
            "_model_module_version": "1.5.0",
            "_view_count": null,
            "_view_module_version": "1.2.0",
            "bar_color": null,
            "_model_module": "@jupyter-widgets/controls"
          }
        },
        "567386cca9074fd6a14f507d712a3601": {
          "model_module": "@jupyter-widgets/base",
          "model_name": "LayoutModel",
          "state": {
            "_view_name": "LayoutView",
            "grid_template_rows": null,
            "right": null,
            "justify_content": null,
            "_view_module": "@jupyter-widgets/base",
            "overflow": null,
            "_model_module_version": "1.2.0",
            "_view_count": null,
            "flex_flow": null,
            "width": null,
            "min_width": null,
            "border": null,
            "align_items": null,
            "bottom": null,
            "_model_module": "@jupyter-widgets/base",
            "top": null,
            "grid_column": null,
            "overflow_y": null,
            "overflow_x": null,
            "grid_auto_flow": null,
            "grid_area": null,
            "grid_template_columns": null,
            "flex": null,
            "_model_name": "LayoutModel",
            "justify_items": null,
            "grid_row": null,
            "max_height": null,
            "align_content": null,
            "visibility": null,
            "align_self": null,
            "height": null,
            "min_height": null,
            "padding": null,
            "grid_auto_rows": null,
            "grid_gap": null,
            "max_width": null,
            "order": null,
            "_view_module_version": "1.2.0",
            "grid_template_areas": null,
            "object_position": null,
            "object_fit": null,
            "grid_auto_columns": null,
            "margin": null,
            "display": null,
            "left": null
          }
        },
        "fcd8c40e767d4d9686805dc569a090e0": {
          "model_module": "@jupyter-widgets/controls",
          "model_name": "DescriptionStyleModel",
          "state": {
            "_view_name": "StyleView",
            "_model_name": "DescriptionStyleModel",
            "description_width": "",
            "_view_module": "@jupyter-widgets/base",
            "_model_module_version": "1.5.0",
            "_view_count": null,
            "_view_module_version": "1.2.0",
            "_model_module": "@jupyter-widgets/controls"
          }
        },
        "bdf7d4f404784051b73a428064aa20d6": {
          "model_module": "@jupyter-widgets/base",
          "model_name": "LayoutModel",
          "state": {
            "_view_name": "LayoutView",
            "grid_template_rows": null,
            "right": null,
            "justify_content": null,
            "_view_module": "@jupyter-widgets/base",
            "overflow": null,
            "_model_module_version": "1.2.0",
            "_view_count": null,
            "flex_flow": null,
            "width": null,
            "min_width": null,
            "border": null,
            "align_items": null,
            "bottom": null,
            "_model_module": "@jupyter-widgets/base",
            "top": null,
            "grid_column": null,
            "overflow_y": null,
            "overflow_x": null,
            "grid_auto_flow": null,
            "grid_area": null,
            "grid_template_columns": null,
            "flex": null,
            "_model_name": "LayoutModel",
            "justify_items": null,
            "grid_row": null,
            "max_height": null,
            "align_content": null,
            "visibility": null,
            "align_self": null,
            "height": null,
            "min_height": null,
            "padding": null,
            "grid_auto_rows": null,
            "grid_gap": null,
            "max_width": null,
            "order": null,
            "_view_module_version": "1.2.0",
            "grid_template_areas": null,
            "object_position": null,
            "object_fit": null,
            "grid_auto_columns": null,
            "margin": null,
            "display": null,
            "left": null
          }
        }
      }
    }
  },
  "cells": [
    {
      "cell_type": "markdown",
      "metadata": {
        "id": "cdjLL9gvyVCR"
      },
      "source": [
        "# 영어 ELECTRA를_이용한_감정분석기_학습 (Pytorch + HuggingFace)\n",
        "# Colab 에서 개발 및 실행\n",
        "# Github : https://github.com/MunJinSeo/MyProject/\n",
        "<br>\n",
        "\n",
        "## References 1\n",
        "- 김희규님의 \"HuggingFace KoElectra로 NSMC 감성분석 Fine-tuning해보기\"<br>\n",
        "https://heegyukim.medium.com/huggingface-koelectra%EB%A1%9C-nsmc-%EA%B0%90%EC%84%B1%EB%B6%84%EB%A5%98%EB%AA%A8%EB%8D%B8%ED%95%99%EC%8A%B5%ED%95%98%EA%B8%B0-1a23a0c704af\n",
        "\n",
        "- 이지원님의 Github : nlp_emotion_classification <br>\n",
        "https://github.com/jiwonny/nlp_emotion_classification\n",
        "\n",
        "## 사용모델 ELECTRA\n",
        "- 한국어 : 박장원님의 KoElectra-small 사용<br>\n",
        "https://monologg.kr/2020/05/02/koelectra-part1/<br>\n",
        "https://github.com/monologg/KoELECTRA\n",
        "- 영어 : 구글 ELECTRA - small 사용<br>\n",
        "https://huggingface.co/google/electra-small-discriminator<br>\n",
        "https://github.com/google-research/electra\n",
        "\n",
        "## Dataset\n",
        "- 한국어 : 네이버 영화 리뷰 데이터셋<br>\n",
        "https://github.com/e9t/nsmc\n",
        "- 영어 : Freinds <br>\n",
        "http://doraemon.iis.sinica.edu.tw/emotionlines/\n",
        "\n",
        "## References 2\n",
        "- https://colab.research.google.com/drive/1tIf0Ugdqg4qT7gcxia3tL7und64Rv1dP\n",
        "- https://blog.naver.com/horajjan/221739630055\n",
        "<br>@@<br>\n",
        "- https://github.com/YongWookHa/kor-text-preprocess\n",
        "- https://github.com/likejazz/korean-sentence-splitter\n",
        "- https://github.com/lovit/soynlp\n",
        "<br>@@<br>\n",
        "- https://huggingface.co/transformers/training.html\n",
        "- https://tutorials.pytorch.kr/beginner/data_loading_tutorial.html\n",
        "- https://tutorials.pytorch.kr/beginner/blitz/cifar10_tutorial.html\n",
        "- https://wikidocs.net/44249\n",
        "\n",
        "\n",
        "## 기타\n",
        "반드시 GPU로 실행 - Colab무료환경에서 1epoch 당 약 15~20분 소요"
      ]
    },
    {
      "cell_type": "markdown",
      "metadata": {
        "id": "dAi68f2lmB--"
      },
      "source": [
        "# 필요 lib 설치"
      ]
    },
    {
      "cell_type": "code",
      "metadata": {
        "id": "hc7P9wzHv0LE",
        "colab": {
          "base_uri": "https://localhost:8080/"
        },
        "outputId": "83f1ce8d-8647-4695-bdee-9b0f95db01ec"
      },
      "source": [
        "# lib 설치\n",
        "!pip install transformers\n",
        "!pip install torch"
      ],
      "execution_count": 1,
      "outputs": [
        {
          "output_type": "stream",
          "text": [
            "Collecting transformers\n",
            "\u001b[?25l  Downloading https://files.pythonhosted.org/packages/50/0c/7d5950fcd80b029be0a8891727ba21e0cd27692c407c51261c3c921f6da3/transformers-4.1.1-py3-none-any.whl (1.5MB)\n",
            "\r\u001b[K     |▏                               | 10kB 17.3MB/s eta 0:00:01\r\u001b[K     |▍                               | 20kB 22.3MB/s eta 0:00:01\r\u001b[K     |▋                               | 30kB 15.0MB/s eta 0:00:01\r\u001b[K     |▉                               | 40kB 15.0MB/s eta 0:00:01\r\u001b[K     |█                               | 51kB 12.0MB/s eta 0:00:01\r\u001b[K     |█▎                              | 61kB 13.4MB/s eta 0:00:01\r\u001b[K     |█▌                              | 71kB 12.1MB/s eta 0:00:01\r\u001b[K     |█▊                              | 81kB 13.3MB/s eta 0:00:01\r\u001b[K     |██                              | 92kB 12.2MB/s eta 0:00:01\r\u001b[K     |██▏                             | 102kB 11.4MB/s eta 0:00:01\r\u001b[K     |██▍                             | 112kB 11.4MB/s eta 0:00:01\r\u001b[K     |██▋                             | 122kB 11.4MB/s eta 0:00:01\r\u001b[K     |██▉                             | 133kB 11.4MB/s eta 0:00:01\r\u001b[K     |███                             | 143kB 11.4MB/s eta 0:00:01\r\u001b[K     |███▎                            | 153kB 11.4MB/s eta 0:00:01\r\u001b[K     |███▌                            | 163kB 11.4MB/s eta 0:00:01\r\u001b[K     |███▊                            | 174kB 11.4MB/s eta 0:00:01\r\u001b[K     |████                            | 184kB 11.4MB/s eta 0:00:01\r\u001b[K     |████▏                           | 194kB 11.4MB/s eta 0:00:01\r\u001b[K     |████▎                           | 204kB 11.4MB/s eta 0:00:01\r\u001b[K     |████▌                           | 215kB 11.4MB/s eta 0:00:01\r\u001b[K     |████▊                           | 225kB 11.4MB/s eta 0:00:01\r\u001b[K     |█████                           | 235kB 11.4MB/s eta 0:00:01\r\u001b[K     |█████▏                          | 245kB 11.4MB/s eta 0:00:01\r\u001b[K     |█████▍                          | 256kB 11.4MB/s eta 0:00:01\r\u001b[K     |█████▋                          | 266kB 11.4MB/s eta 0:00:01\r\u001b[K     |█████▉                          | 276kB 11.4MB/s eta 0:00:01\r\u001b[K     |██████                          | 286kB 11.4MB/s eta 0:00:01\r\u001b[K     |██████▎                         | 296kB 11.4MB/s eta 0:00:01\r\u001b[K     |██████▌                         | 307kB 11.4MB/s eta 0:00:01\r\u001b[K     |██████▊                         | 317kB 11.4MB/s eta 0:00:01\r\u001b[K     |███████                         | 327kB 11.4MB/s eta 0:00:01\r\u001b[K     |███████▏                        | 337kB 11.4MB/s eta 0:00:01\r\u001b[K     |███████▍                        | 348kB 11.4MB/s eta 0:00:01\r\u001b[K     |███████▋                        | 358kB 11.4MB/s eta 0:00:01\r\u001b[K     |███████▉                        | 368kB 11.4MB/s eta 0:00:01\r\u001b[K     |████████                        | 378kB 11.4MB/s eta 0:00:01\r\u001b[K     |████████▎                       | 389kB 11.4MB/s eta 0:00:01\r\u001b[K     |████████▌                       | 399kB 11.4MB/s eta 0:00:01\r\u001b[K     |████████▋                       | 409kB 11.4MB/s eta 0:00:01\r\u001b[K     |████████▉                       | 419kB 11.4MB/s eta 0:00:01\r\u001b[K     |█████████                       | 430kB 11.4MB/s eta 0:00:01\r\u001b[K     |█████████▎                      | 440kB 11.4MB/s eta 0:00:01\r\u001b[K     |█████████▌                      | 450kB 11.4MB/s eta 0:00:01\r\u001b[K     |█████████▊                      | 460kB 11.4MB/s eta 0:00:01\r\u001b[K     |██████████                      | 471kB 11.4MB/s eta 0:00:01\r\u001b[K     |██████████▏                     | 481kB 11.4MB/s eta 0:00:01\r\u001b[K     |██████████▍                     | 491kB 11.4MB/s eta 0:00:01\r\u001b[K     |██████████▋                     | 501kB 11.4MB/s eta 0:00:01\r\u001b[K     |██████████▉                     | 512kB 11.4MB/s eta 0:00:01\r\u001b[K     |███████████                     | 522kB 11.4MB/s eta 0:00:01\r\u001b[K     |███████████▎                    | 532kB 11.4MB/s eta 0:00:01\r\u001b[K     |███████████▌                    | 542kB 11.4MB/s eta 0:00:01\r\u001b[K     |███████████▊                    | 552kB 11.4MB/s eta 0:00:01\r\u001b[K     |████████████                    | 563kB 11.4MB/s eta 0:00:01\r\u001b[K     |████████████▏                   | 573kB 11.4MB/s eta 0:00:01\r\u001b[K     |████████████▍                   | 583kB 11.4MB/s eta 0:00:01\r\u001b[K     |████████████▋                   | 593kB 11.4MB/s eta 0:00:01\r\u001b[K     |████████████▉                   | 604kB 11.4MB/s eta 0:00:01\r\u001b[K     |█████████████                   | 614kB 11.4MB/s eta 0:00:01\r\u001b[K     |█████████████▏                  | 624kB 11.4MB/s eta 0:00:01\r\u001b[K     |█████████████▍                  | 634kB 11.4MB/s eta 0:00:01\r\u001b[K     |█████████████▋                  | 645kB 11.4MB/s eta 0:00:01\r\u001b[K     |█████████████▉                  | 655kB 11.4MB/s eta 0:00:01\r\u001b[K     |██████████████                  | 665kB 11.4MB/s eta 0:00:01\r\u001b[K     |██████████████▎                 | 675kB 11.4MB/s eta 0:00:01\r\u001b[K     |██████████████▌                 | 686kB 11.4MB/s eta 0:00:01\r\u001b[K     |██████████████▊                 | 696kB 11.4MB/s eta 0:00:01\r\u001b[K     |███████████████                 | 706kB 11.4MB/s eta 0:00:01\r\u001b[K     |███████████████▏                | 716kB 11.4MB/s eta 0:00:01\r\u001b[K     |███████████████▍                | 727kB 11.4MB/s eta 0:00:01\r\u001b[K     |███████████████▋                | 737kB 11.4MB/s eta 0:00:01\r\u001b[K     |███████████████▉                | 747kB 11.4MB/s eta 0:00:01\r\u001b[K     |████████████████                | 757kB 11.4MB/s eta 0:00:01\r\u001b[K     |████████████████▎               | 768kB 11.4MB/s eta 0:00:01\r\u001b[K     |████████████████▌               | 778kB 11.4MB/s eta 0:00:01\r\u001b[K     |████████████████▊               | 788kB 11.4MB/s eta 0:00:01\r\u001b[K     |█████████████████               | 798kB 11.4MB/s eta 0:00:01\r\u001b[K     |█████████████████               | 808kB 11.4MB/s eta 0:00:01\r\u001b[K     |█████████████████▎              | 819kB 11.4MB/s eta 0:00:01\r\u001b[K     |█████████████████▌              | 829kB 11.4MB/s eta 0:00:01\r\u001b[K     |█████████████████▊              | 839kB 11.4MB/s eta 0:00:01\r\u001b[K     |██████████████████              | 849kB 11.4MB/s eta 0:00:01\r\u001b[K     |██████████████████▏             | 860kB 11.4MB/s eta 0:00:01\r\u001b[K     |██████████████████▍             | 870kB 11.4MB/s eta 0:00:01\r\u001b[K     |██████████████████▋             | 880kB 11.4MB/s eta 0:00:01\r\u001b[K     |██████████████████▉             | 890kB 11.4MB/s eta 0:00:01\r\u001b[K     |███████████████████             | 901kB 11.4MB/s eta 0:00:01\r\u001b[K     |███████████████████▎            | 911kB 11.4MB/s eta 0:00:01\r\u001b[K     |███████████████████▌            | 921kB 11.4MB/s eta 0:00:01\r\u001b[K     |███████████████████▊            | 931kB 11.4MB/s eta 0:00:01\r\u001b[K     |████████████████████            | 942kB 11.4MB/s eta 0:00:01\r\u001b[K     |████████████████████▏           | 952kB 11.4MB/s eta 0:00:01\r\u001b[K     |████████████████████▍           | 962kB 11.4MB/s eta 0:00:01\r\u001b[K     |████████████████████▋           | 972kB 11.4MB/s eta 0:00:01\r\u001b[K     |████████████████████▉           | 983kB 11.4MB/s eta 0:00:01\r\u001b[K     |█████████████████████           | 993kB 11.4MB/s eta 0:00:01\r\u001b[K     |█████████████████████▎          | 1.0MB 11.4MB/s eta 0:00:01\r\u001b[K     |█████████████████████▍          | 1.0MB 11.4MB/s eta 0:00:01\r\u001b[K     |█████████████████████▋          | 1.0MB 11.4MB/s eta 0:00:01\r\u001b[K     |█████████████████████▉          | 1.0MB 11.4MB/s eta 0:00:01\r\u001b[K     |██████████████████████          | 1.0MB 11.4MB/s eta 0:00:01\r\u001b[K     |██████████████████████▎         | 1.1MB 11.4MB/s eta 0:00:01\r\u001b[K     |██████████████████████▌         | 1.1MB 11.4MB/s eta 0:00:01\r\u001b[K     |██████████████████████▊         | 1.1MB 11.4MB/s eta 0:00:01\r\u001b[K     |███████████████████████         | 1.1MB 11.4MB/s eta 0:00:01\r\u001b[K     |███████████████████████▏        | 1.1MB 11.4MB/s eta 0:00:01\r\u001b[K     |███████████████████████▍        | 1.1MB 11.4MB/s eta 0:00:01\r\u001b[K     |███████████████████████▋        | 1.1MB 11.4MB/s eta 0:00:01\r\u001b[K     |███████████████████████▉        | 1.1MB 11.4MB/s eta 0:00:01\r\u001b[K     |████████████████████████        | 1.1MB 11.4MB/s eta 0:00:01\r\u001b[K     |████████████████████████▎       | 1.1MB 11.4MB/s eta 0:00:01\r\u001b[K     |████████████████████████▌       | 1.2MB 11.4MB/s eta 0:00:01\r\u001b[K     |████████████████████████▊       | 1.2MB 11.4MB/s eta 0:00:01\r\u001b[K     |█████████████████████████       | 1.2MB 11.4MB/s eta 0:00:01\r\u001b[K     |█████████████████████████▏      | 1.2MB 11.4MB/s eta 0:00:01\r\u001b[K     |█████████████████████████▍      | 1.2MB 11.4MB/s eta 0:00:01\r\u001b[K     |█████████████████████████▋      | 1.2MB 11.4MB/s eta 0:00:01\r\u001b[K     |█████████████████████████▊      | 1.2MB 11.4MB/s eta 0:00:01\r\u001b[K     |██████████████████████████      | 1.2MB 11.4MB/s eta 0:00:01\r\u001b[K     |██████████████████████████▏     | 1.2MB 11.4MB/s eta 0:00:01\r\u001b[K     |██████████████████████████▍     | 1.2MB 11.4MB/s eta 0:00:01\r\u001b[K     |██████████████████████████▋     | 1.3MB 11.4MB/s eta 0:00:01\r\u001b[K     |██████████████████████████▉     | 1.3MB 11.4MB/s eta 0:00:01\r\u001b[K     |███████████████████████████     | 1.3MB 11.4MB/s eta 0:00:01\r\u001b[K     |███████████████████████████▎    | 1.3MB 11.4MB/s eta 0:00:01\r\u001b[K     |███████████████████████████▌    | 1.3MB 11.4MB/s eta 0:00:01\r\u001b[K     |███████████████████████████▊    | 1.3MB 11.4MB/s eta 0:00:01\r\u001b[K     |████████████████████████████    | 1.3MB 11.4MB/s eta 0:00:01\r\u001b[K     |████████████████████████████▏   | 1.3MB 11.4MB/s eta 0:00:01\r\u001b[K     |████████████████████████████▍   | 1.3MB 11.4MB/s eta 0:00:01\r\u001b[K     |████████████████████████████▋   | 1.4MB 11.4MB/s eta 0:00:01\r\u001b[K     |████████████████████████████▉   | 1.4MB 11.4MB/s eta 0:00:01\r\u001b[K     |█████████████████████████████   | 1.4MB 11.4MB/s eta 0:00:01\r\u001b[K     |█████████████████████████████▎  | 1.4MB 11.4MB/s eta 0:00:01\r\u001b[K     |█████████████████████████████▌  | 1.4MB 11.4MB/s eta 0:00:01\r\u001b[K     |█████████████████████████████▊  | 1.4MB 11.4MB/s eta 0:00:01\r\u001b[K     |█████████████████████████████▉  | 1.4MB 11.4MB/s eta 0:00:01\r\u001b[K     |██████████████████████████████  | 1.4MB 11.4MB/s eta 0:00:01\r\u001b[K     |██████████████████████████████▎ | 1.4MB 11.4MB/s eta 0:00:01\r\u001b[K     |██████████████████████████████▌ | 1.4MB 11.4MB/s eta 0:00:01\r\u001b[K     |██████████████████████████████▊ | 1.5MB 11.4MB/s eta 0:00:01\r\u001b[K     |███████████████████████████████ | 1.5MB 11.4MB/s eta 0:00:01\r\u001b[K     |███████████████████████████████▏| 1.5MB 11.4MB/s eta 0:00:01\r\u001b[K     |███████████████████████████████▍| 1.5MB 11.4MB/s eta 0:00:01\r\u001b[K     |███████████████████████████████▋| 1.5MB 11.4MB/s eta 0:00:01\r\u001b[K     |███████████████████████████████▉| 1.5MB 11.4MB/s eta 0:00:01\r\u001b[K     |████████████████████████████████| 1.5MB 11.4MB/s \n",
            "\u001b[?25hRequirement already satisfied: requests in /usr/local/lib/python3.6/dist-packages (from transformers) (2.23.0)\n",
            "Collecting tokenizers==0.9.4\n",
            "\u001b[?25l  Downloading https://files.pythonhosted.org/packages/0f/1c/e789a8b12e28be5bc1ce2156cf87cb522b379be9cadc7ad8091a4cc107c4/tokenizers-0.9.4-cp36-cp36m-manylinux2010_x86_64.whl (2.9MB)\n",
            "\u001b[K     |████████████████████████████████| 2.9MB 48.6MB/s \n",
            "\u001b[?25hRequirement already satisfied: filelock in /usr/local/lib/python3.6/dist-packages (from transformers) (3.0.12)\n",
            "Requirement already satisfied: packaging in /usr/local/lib/python3.6/dist-packages (from transformers) (20.8)\n",
            "Requirement already satisfied: dataclasses; python_version < \"3.7\" in /usr/local/lib/python3.6/dist-packages (from transformers) (0.8)\n",
            "Requirement already satisfied: regex!=2019.12.17 in /usr/local/lib/python3.6/dist-packages (from transformers) (2019.12.20)\n",
            "Requirement already satisfied: tqdm>=4.27 in /usr/local/lib/python3.6/dist-packages (from transformers) (4.41.1)\n",
            "Requirement already satisfied: numpy in /usr/local/lib/python3.6/dist-packages (from transformers) (1.19.4)\n",
            "Collecting sacremoses\n",
            "\u001b[?25l  Downloading https://files.pythonhosted.org/packages/7d/34/09d19aff26edcc8eb2a01bed8e98f13a1537005d31e95233fd48216eed10/sacremoses-0.0.43.tar.gz (883kB)\n",
            "\u001b[K     |████████████████████████████████| 890kB 47.3MB/s \n",
            "\u001b[?25hRequirement already satisfied: chardet<4,>=3.0.2 in /usr/local/lib/python3.6/dist-packages (from requests->transformers) (3.0.4)\n",
            "Requirement already satisfied: urllib3!=1.25.0,!=1.25.1,<1.26,>=1.21.1 in /usr/local/lib/python3.6/dist-packages (from requests->transformers) (1.24.3)\n",
            "Requirement already satisfied: idna<3,>=2.5 in /usr/local/lib/python3.6/dist-packages (from requests->transformers) (2.10)\n",
            "Requirement already satisfied: certifi>=2017.4.17 in /usr/local/lib/python3.6/dist-packages (from requests->transformers) (2020.12.5)\n",
            "Requirement already satisfied: pyparsing>=2.0.2 in /usr/local/lib/python3.6/dist-packages (from packaging->transformers) (2.4.7)\n",
            "Requirement already satisfied: six in /usr/local/lib/python3.6/dist-packages (from sacremoses->transformers) (1.15.0)\n",
            "Requirement already satisfied: click in /usr/local/lib/python3.6/dist-packages (from sacremoses->transformers) (7.1.2)\n",
            "Requirement already satisfied: joblib in /usr/local/lib/python3.6/dist-packages (from sacremoses->transformers) (1.0.0)\n",
            "Building wheels for collected packages: sacremoses\n",
            "  Building wheel for sacremoses (setup.py) ... \u001b[?25l\u001b[?25hdone\n",
            "  Created wheel for sacremoses: filename=sacremoses-0.0.43-cp36-none-any.whl size=893261 sha256=6515120dd951b2342a3b1bf144ade965675583f3e86558c9f73e02f7a25cae3b\n",
            "  Stored in directory: /root/.cache/pip/wheels/29/3c/fd/7ce5c3f0666dab31a50123635e6fb5e19ceb42ce38d4e58f45\n",
            "Successfully built sacremoses\n",
            "Installing collected packages: tokenizers, sacremoses, transformers\n",
            "Successfully installed sacremoses-0.0.43 tokenizers-0.9.4 transformers-4.1.1\n",
            "Requirement already satisfied: torch in /usr/local/lib/python3.6/dist-packages (1.7.0+cu101)\n",
            "Requirement already satisfied: dataclasses in /usr/local/lib/python3.6/dist-packages (from torch) (0.8)\n",
            "Requirement already satisfied: future in /usr/local/lib/python3.6/dist-packages (from torch) (0.16.0)\n",
            "Requirement already satisfied: numpy in /usr/local/lib/python3.6/dist-packages (from torch) (1.19.4)\n",
            "Requirement already satisfied: typing-extensions in /usr/local/lib/python3.6/dist-packages (from torch) (3.7.4.3)\n"
          ],
          "name": "stdout"
        }
      ]
    },
    {
      "cell_type": "code",
      "metadata": {
        "id": "emCAmYZwiDbH"
      },
      "source": [
        "#!pip install kss\r\n",
        "#!pip install konlpy\r\n",
        "#!pip install sentencepiece\r\n",
        "#!pip install soynlp"
      ],
      "execution_count": null,
      "outputs": []
    },
    {
      "cell_type": "code",
      "metadata": {
        "id": "eHgwtvRbdOUb"
      },
      "source": [
        "# (미사용) Colab TPU 사용을 위해 설치\r\n",
        "#--!pip install torch_xla\r\n",
        "#--#@param [\"1.5\" , \"20200325\", \"nightly\"]\r\n",
        "#VERSION = \"1.7\"\r\n",
        "#!curl https://raw.githubusercontent.com/pytorch/xla/master/contrib/scripts/env-setup.py -o pytorch-xla-env-setup.py\r\n",
        "#!python pytorch-xla-env-setup.py --version $VERSION"
      ],
      "execution_count": 89,
      "outputs": []
    },
    {
      "cell_type": "markdown",
      "metadata": {
        "id": "HWfuBjAXmInF"
      },
      "source": [
        "# Friends 데이터셋 처리"
      ]
    },
    {
      "cell_type": "code",
      "metadata": {
        "id": "GhX0Ze8DV3Oo"
      },
      "source": [
        "#Friends 데이터셋 처리\r\n",
        "#zip파일로 업로드시 아래 사용, Colab에 직접 올려서 사용함\r\n",
        "#!unzip friends_json.zip\r\n"
      ],
      "execution_count": null,
      "outputs": []
    },
    {
      "cell_type": "code",
      "metadata": {
        "id": "_q33PkINy4Q2",
        "colab": {
          "base_uri": "https://localhost:8080/"
        },
        "outputId": "1938a2f2-e896-449d-97bd-e86b14a4c999"
      },
      "source": [
        "!head friends_train.json\n",
        "!head friends_test.json\n",
        "!head friends_dev.json\n",
        "# !head en_data.csv #별도 kaggle에서 받아서 사용 https://www.kaggle.com/c/english-sa-competition-bdc101"
      ],
      "execution_count": 2,
      "outputs": [
        {
          "output_type": "stream",
          "text": [
            "[\n",
            "    [\n",
            "        {\n",
            "            \"speaker\": \"Chandler\",\n",
            "            \"utterance\": \"also I was the point person on my company\\u0092s transition from the KL-5 to GR-6 system.\",\n",
            "            \"emotion\": \"neutral\",\n",
            "            \"annotation\": \"4100000\"\n",
            "        },\n",
            "        {\n",
            "            \"speaker\": \"The Interviewer\",\n",
            "[\n",
            "    [\n",
            "        {\n",
            "            \"speaker\": \"Mark\",\n",
            "            \"utterance\": \"Why do all you\\u0092re coffee mugs have numbers on the bottom?\",\n",
            "            \"emotion\": \"surprise\",\n",
            "            \"annotation\": \"2000030\"\n",
            "        },\n",
            "        {\n",
            "            \"speaker\": \"Rachel\",\n",
            "[\n",
            "    [\n",
            "        {\n",
            "            \"speaker\": \"Phoebe\",\n",
            "            \"utterance\": \"Oh my God, he\\u0092s lost it. He\\u0092s totally lost it.\",\n",
            "            \"emotion\": \"non-neutral\",\n",
            "            \"annotation\": \"0002120\"\n",
            "        },\n",
            "        {\n",
            "            \"speaker\": \"Monica\",\n"
          ],
          "name": "stdout"
        }
      ]
    },
    {
      "cell_type": "markdown",
      "metadata": {
        "id": "BlcJNrwpmMGf"
      },
      "source": [
        "# 필요 모듈 import"
      ]
    },
    {
      "cell_type": "code",
      "metadata": {
        "id": "-iFVHYMAwQUt"
      },
      "source": [
        "import pandas as pd\n",
        "import torch\n",
        "from torch.nn import functional as F\n",
        "from torch.utils.data import DataLoader, Dataset\n",
        "from transformers import AutoTokenizer, ElectraTokenizer, ElectraForSequenceClassification, AdamW\n",
        "from tqdm.notebook import tqdm"
      ],
      "execution_count": 4,
      "outputs": []
    },
    {
      "cell_type": "code",
      "metadata": {
        "id": "FrJxirH4dJ3-"
      },
      "source": [
        "# (미사용) TPU 사용을 위해 필요\r\n",
        "#import torch_xla\r\n",
        "#import torch_xla.core.xla_model as xm"
      ],
      "execution_count": 93,
      "outputs": []
    },
    {
      "cell_type": "code",
      "metadata": {
        "id": "L5ZMV2iw4KNc"
      },
      "source": [
        "import json\r\n",
        "import numpy as np"
      ],
      "execution_count": 5,
      "outputs": []
    },
    {
      "cell_type": "code",
      "metadata": {
        "id": "e960PwpHtb58"
      },
      "source": [
        "#import kss\r\n",
        "import re\r\n",
        "#from soynlp.normalizer import *"
      ],
      "execution_count": 6,
      "outputs": []
    },
    {
      "cell_type": "code",
      "metadata": {
        "id": "-i7pg7DaGsxp",
        "colab": {
          "base_uri": "https://localhost:8080/"
        },
        "outputId": "d40c15db-166c-43dc-e85f-3bffe28e04c1"
      },
      "source": [
        "# GPU or CPU\n",
        "if torch.cuda.is_available():\n",
        "  device = torch.device(\"cuda\")\n",
        "  print('There are %d GPU(s) available.' % torch.cuda.device_count())\n",
        "  print('We will use the GPU:', torch.cuda.get_device_name(0))\n",
        "else:\n",
        "  device = torch.device(\"cpu\")\n",
        "  print('No GPU available, using the CPU instead.')\n",
        "\n",
        "# (미사용) TPU\n",
        "#device = xm.xla_device()"
      ],
      "execution_count": 7,
      "outputs": [
        {
          "output_type": "stream",
          "text": [
            "There are 1 GPU(s) available.\n",
            "We will use the GPU: Tesla P100-PCIE-16GB\n"
          ],
          "name": "stdout"
        }
      ]
    },
    {
      "cell_type": "markdown",
      "metadata": {
        "id": "Rq91g3bGwfeV"
      },
      "source": [
        "# 데이터셋 처리 (Dataset Calss / 전처리)\r\n",
        "(train data와 과제 sample data형식이 다르고, encoding이 다르기 때문에 분리 처리)"
      ]
    },
    {
      "cell_type": "code",
      "metadata": {
        "id": "WZKIQNjZwdn1"
      },
      "source": [
        "class Friends_Dataset(Dataset):\n",
        "  # Json파일을 DataFrame으로 변환 함수\n",
        "  def jsonToDataFrame(self, file_name):\n",
        "    with open(file_name, encoding = 'utf-8', mode = 'r') as file:\n",
        "      json_array = json.load(file)\n",
        "\n",
        "    result = pd.DataFrame.from_dict(json_array[0])\n",
        "   \n",
        "    is_first = True\n",
        "    for array in json_array:\n",
        "      if is_first:\n",
        "        is_first = False\n",
        "        continue\n",
        "      \n",
        "      temp_df = pd.DataFrame.from_dict(array)\n",
        "      result = result.append(temp_df, ignore_index = True)\n",
        "\n",
        "    return result\n",
        "\n",
        "  def __init__(self, csv_file, ftype):\n",
        "    # train data와 sample data 각각 처리\n",
        "\n",
        "    # 초기 전처리 1, 아래쪽 전처리 2 로 clean_text() 펑션 분리함 (학습 할때 line별 전처리 후 사용됨)\n",
        "    # --- 전처리 1 start ------------------------\n",
        "    self.emotion_dic = {'neutral':0,'surprise':1,'fear':2,'non-neutral':3,'joy':4,'sadness':5,'anger':6,'disgust':7}\n",
        "\n",
        "    if ftype == 'train':\n",
        "      #1 speaker, 2 utterance(표현문장), 3 emotion(감정분류값), 4 annotation\n",
        "      self.dataset = self.jsonToDataFrame(file_name=csv_file) #.dropna(axis=0)\n",
        "\n",
        "    elif ftype == 'sample':\n",
        "      #1 id, 2 i_dialog, 3 i_utterance, 4 speaker, 5 utterance\n",
        "      #self.dataset = pd.read_csv(csv_file, sep=',', encoding = 'unicode_escape')\n",
        "      self.dataset = pd.read_csv(csv_file, sep=',', encoding = 'utf-8')\n",
        "      # 뒤쪽 컬럼 label 값이 없으므로 기본값으로 추가함\n",
        "      #0 idx, 1 id, 2 i_dialog, 3 i_utterance, 4 speaker, 5 utterance(표현문장),6 emotion, 7 Predicted \n",
        "      self.dataset.insert(5,'emotion',0) # 기본값 셋팅\n",
        "      self.dataset.insert(6,'Predicted',0) # 기본값 셋팅\n",
        "      #print(self.dataset)\n",
        "    else:\n",
        "      self.dataset = pd.read_csv(csv_file, sep=',')\n",
        "\n",
        "\n",
        "    # for idx, document in self.dataset.iterrows():\n",
        "    #   print(idx, document)\n",
        "    self.sub1 = re.compile('[^ .?!/@$%~|0-9|a-zㅣA-Z]+') # 영어와 띄어쓰기, 특수기호 일부를 제외한 모든 글자제거\n",
        "    self.sub2 = re.compile('[\\s]+')  # white space duplicate\n",
        "    self.sub3 = re.compile('[\\.]+')  # full stop duplicate\n",
        "\n",
        "    #중복되는 문장 제거\n",
        "    if ftype == 'sample':\n",
        "      print('과제 제출용은 중복 문장 제거하면 안됨')\n",
        "    else:\n",
        "      # 중복제거: utterance가 텍스트 내용의 title명이다\n",
        "      self.dataset.drop_duplicates(subset=['utterance'], inplace=True)\n",
        "\n",
        "    # dataset 확인\n",
        "    print(self.dataset.describe())\n",
        "    print(self.dataset)\n",
        "\n",
        "    # tokenizer\n",
        "    self.tokenizer = ElectraTokenizer.from_pretrained(\"google/electra-base-discriminator\")\n",
        "    \n",
        "    # --- 전처리 1 end ------------------------\n",
        "  \n",
        "  def __len__(self):\n",
        "    return len(self.dataset)\n",
        "  \n",
        "  def clean_text(self, txt):\n",
        "    # --- 전처리 2 start ----------------------\n",
        "    cleaned = self.sub1.sub('', txt.strip())  # .strip()은 문장의 앞뒤 공백제거함\n",
        "    cleaned = self.sub2.sub(' ', cleaned)\n",
        "    cleaned = self.sub3.sub('.', cleaned)\n",
        "    #cleaned = emoticon_normalize(cleaned, num_repeats=3) # 감정 반복 단순화\n",
        "    #cleaned = repeat_normalize(cleaned, num_repeats=2) # 중복 글자 단순화\n",
        "    #cleaned = only_text(cleaned) # text만 추출\n",
        "    #cleaned = only_hangle(cleaned) # 한글만 추출\n",
        "    #cleaned = only_hangle_number(cleaned) # 한글/숫자만 추출\n",
        "\n",
        "    #if len(ssStr) > 1:\n",
        "    cleaned = \"[CLS] \" + cleaned + \" [SEP]\"\n",
        "    # --- 전처리 2 end ------------------------\n",
        "    return cleaned\n",
        "\n",
        "  \n",
        "  def __getitem__(self, idx):\n",
        "    # 행번호별 컬럼 지정하여 할당: 0 idx, 1 speaker, 2 utterance, 3 emotion, 4 annotation\n",
        "    #row = self.dataset.iloc[idx, 1:4].values  # idx번째 행의 첫번째 컬럼 0을 제외하고 1~3컬럼\n",
        "    #print(row[0], row[1])\n",
        "    #text = self.clean_text( txt= str(row[0]) ) # 전처리 2 : clean_text()\n",
        "    #y = row[1] #숫자만 가능함 \n",
        "\n",
        "    text = self.dataset['utterance'][idx]\n",
        "    tmp_y = self.dataset['emotion'][idx]\n",
        "    # emotion 값을 숫자로 치환\n",
        "    y = 0\n",
        "    if tmp_y in self.emotion_dic.keys() :\n",
        "      y = self.emotion_dic[tmp_y]\n",
        "    else :\n",
        "      y = 0\n",
        "    #print(\"[%s][%d]\" % (tmp_y,y) )\n",
        "\n",
        "    inputs = self.tokenizer(\n",
        "        text, \n",
        "        return_tensors='pt',\n",
        "        truncation=True,\n",
        "        max_length=256,\n",
        "        pad_to_max_length=True,\n",
        "        add_special_tokens=True\n",
        "        )\n",
        "    \n",
        "    input_ids = inputs['input_ids'][0]\n",
        "    attention_mask = inputs['attention_mask'][0]\n",
        "\n",
        "    return input_ids, attention_mask, y"
      ],
      "execution_count": 11,
      "outputs": []
    },
    {
      "cell_type": "code",
      "metadata": {
        "id": "ESSNkTcXwfUe",
        "colab": {
          "base_uri": "https://localhost:8080/",
          "height": 1000,
          "referenced_widgets": [
            "9501dfcd5c7c492b862c1b92963e7280",
            "738658a6f43a4b4eacc28705d0de4e3b",
            "201595923a004f8c92f4dbd7b602e398",
            "6235dd44f8d34a4887676434dee6fb68",
            "abea4d07cc554242af1043e996280b8c",
            "18c705a81bb44aa484f8d561cb1e0d2e",
            "54722e9c90bd4a89ba69f22ddd21f806",
            "25290ed7b3c44aadad01ff223326bf27"
          ]
        },
        "outputId": "3610eef3-8d0c-402f-c599-2f28555bfac5"
      },
      "source": [
        "train_dataset = Friends_Dataset(\"friends_train.json\",\"train\")\n",
        "train2_dataset = Friends_Dataset(\"friends_test.json\",\"train\")\n",
        "\n",
        "#많은 데이터를 학습하기 위해 합쳐서 진행\n",
        "train_dataset.dataset = train_dataset.dataset.append(train2_dataset.dataset, ignore_index = True)\n",
        "#print(\"train_dataset.dataset==ALL=\\n\", train_dataset.dataset)\n",
        "#print(\"train_dataset.dataset.head()==\\n\", train_dataset.dataset.head())\n",
        "\n",
        "test_dataset = Friends_Dataset(\"friends_dev.json\",\"train\")\n",
        "\n",
        "sample_dataset = Friends_Dataset(\"en_data.csv\",\"sample\")\n",
        "#print(\"sample_dataset.dataset.head()==\\n\", sample_dataset.dataset.head())"
      ],
      "execution_count": 12,
      "outputs": [
        {
          "output_type": "stream",
          "text": [
            "       speaker                       utterance  emotion annotation\n",
            "count     9291                            9291     9291       9291\n",
            "unique     259                            9291        8        412\n",
            "top       Joey  Im having a really good time!  neutral    5000000\n",
            "freq      1395                               1     4116       1173\n",
            "               speaker  ... annotation\n",
            "0             Chandler  ...    4100000\n",
            "1      The Interviewer  ...    5000000\n",
            "2             Chandler  ...    5000000\n",
            "3      The Interviewer  ...    5000000\n",
            "4             Chandler  ...    2000030\n",
            "...                ...  ...        ...\n",
            "10555             Joey  ...    2000003\n",
            "10556         Chandler  ...    3000011\n",
            "10557             Ross  ...    2100011\n",
            "10558             Joey  ...    0000050\n",
            "10560             Joey  ...    1200020\n",
            "\n",
            "[9291 rows x 4 columns]\n"
          ],
          "name": "stdout"
        },
        {
          "output_type": "display_data",
          "data": {
            "application/vnd.jupyter.widget-view+json": {
              "model_id": "9501dfcd5c7c492b862c1b92963e7280",
              "version_minor": 0,
              "version_major": 2
            },
            "text/plain": [
              "HBox(children=(FloatProgress(value=0.0, description='Downloading', max=231508.0, style=ProgressStyle(descripti…"
            ]
          },
          "metadata": {
            "tags": []
          }
        },
        {
          "output_type": "stream",
          "text": [
            "\n",
            "       speaker                             utterance  emotion annotation\n",
            "count     2505                                  2505     2505       2505\n",
            "unique      98                                  2505        8        311\n",
            "top       Joey  Honey, we dont have any bears here.  neutral    5000000\n",
            "freq       388                                     1     1159        328\n",
            "       speaker  ... annotation\n",
            "0         Mark  ...    2000030\n",
            "1       Rachel  ...    2100011\n",
            "2       Rachel  ...    3000020\n",
            "3         Ross  ...    5000000\n",
            "4        Frank  ...    1300010\n",
            "...        ...  ...        ...\n",
            "2759    Phoebe  ...    5000000\n",
            "2760    Monica  ...    1400000\n",
            "2761    Phoebe  ...    3100100\n",
            "2762    Monica  ...    5000000\n",
            "2763  Chandler  ...    4000100\n",
            "\n",
            "[2505 rows x 4 columns]\n",
            "       speaker  ... annotation\n",
            "count     1090  ...       1090\n",
            "unique      47  ...        234\n",
            "top       Ross  ...    5000000\n",
            "freq       220  ...        137\n",
            "\n",
            "[4 rows x 4 columns]\n",
            "       speaker  ... annotation\n",
            "0       Phoebe  ...    0002120\n",
            "1       Monica  ...    1000130\n",
            "2         Ross  ...    3000200\n",
            "3     Chandler  ...    0500000\n",
            "4         Joey  ...    0040100\n",
            "...        ...  ...        ...\n",
            "1171    Monica  ...    3200000\n",
            "1172    Rachel  ...    0040010\n",
            "1174    Rachel  ...    0040010\n",
            "1175    Monica  ...    0050000\n",
            "1176    Rachel  ...    0050000\n",
            "\n",
            "[1090 rows x 4 columns]\n",
            "과제 제출용은 중복 문장 제거하면 안됨\n",
            "                id     i_dialog  i_utterance  emotion  Predicted\n",
            "count  1623.000000  1623.000000  1623.000000   1623.0     1623.0\n",
            "mean    811.000000    84.679606     5.336414      0.0        0.0\n",
            "std     468.664059    42.361731     3.814141      0.0        0.0\n",
            "min       0.000000     0.000000     0.000000      0.0        0.0\n",
            "25%     405.500000    53.000000     2.000000      0.0        0.0\n",
            "50%     811.000000    87.000000     5.000000      0.0        0.0\n",
            "75%    1216.500000   121.000000     8.000000      0.0        0.0\n",
            "max    1622.000000   150.000000    18.000000      0.0        0.0\n",
            "        id  i_dialog  ...  emotion Predicted\n",
            "0        0         0  ...        0         0\n",
            "1        1         0  ...        0         0\n",
            "2        2         0  ...        0         0\n",
            "3        3         0  ...        0         0\n",
            "4        4         0  ...        0         0\n",
            "...    ...       ...  ...      ...       ...\n",
            "1618  1618       150  ...        0         0\n",
            "1619  1619       150  ...        0         0\n",
            "1620  1620       150  ...        0         0\n",
            "1621  1621       150  ...        0         0\n",
            "1622  1622       150  ...        0         0\n",
            "\n",
            "[1623 rows x 7 columns]\n"
          ],
          "name": "stdout"
        }
      ]
    },
    {
      "cell_type": "code",
      "metadata": {
        "id": "iO-f3W7bLhWh"
      },
      "source": [
        "# tmpstr = 'Come on.  Hello?  I?m sorry you have the wrong number.   Okay, I?ll call you later dad. I love you.'\r\n",
        "# print( train_dataset.clean_text( txt = tmpstr) )"
      ],
      "execution_count": null,
      "outputs": []
    },
    {
      "cell_type": "code",
      "metadata": {
        "id": "xMAuJRV9qArS"
      },
      "source": [
        "# test_emotion = 'joy'\r\n",
        "# if test_emotion in train_dataset.emotion_dic.keys() :\r\n",
        "#   print( train_dataset.emotion_dic[test_emotion] )\r\n",
        "# else :\r\n",
        "#   print(0)"
      ],
      "execution_count": null,
      "outputs": []
    },
    {
      "cell_type": "code",
      "metadata": {
        "id": "WS3yrO8v-NQQ"
      },
      "source": [
        "# print( train_dataset.__getitem__(11790) )"
      ],
      "execution_count": null,
      "outputs": []
    },
    {
      "cell_type": "code",
      "metadata": {
        "id": "2Z3SgRLH-yWv"
      },
      "source": [
        "# print( sample_dataset.__getitem__(10) )"
      ],
      "execution_count": null,
      "outputs": []
    },
    {
      "cell_type": "markdown",
      "metadata": {
        "id": "vJiAJPUDz40W"
      },
      "source": [
        "# 모델 생성 (Create Model)"
      ]
    },
    {
      "cell_type": "code",
      "metadata": {
        "id": "f7-jRPQXz2r5",
        "colab": {
          "base_uri": "https://localhost:8080/",
          "height": 228,
          "referenced_widgets": [
            "8b44ae3d83b54ff6a3612f746abf0b29",
            "61ed906b5ab34357a677456870bcc761",
            "0163e7bc2443449da4b8d441933e988b",
            "798d3a46c254479ba4b13e138aaf5c70",
            "a84b61013d864321b6237fac6ce5a456",
            "ccb43cff188843ffa232c8337923f116",
            "9d8811d5f83940cdac96d9f1f88ec0c9",
            "0bf5a2dfcb9b450d8de78a7e98ca26c1",
            "e9ed23f4bd6a427bba672cf3e9afc833",
            "e6b1d9c8fef2480488f80b920824f11a",
            "d37d0b9b70c74fa8bfbf7437440213a9",
            "7f5899e31a0a4443988a4ded48949cfa",
            "eab7e0573efd4c8ab534a1c48040959a",
            "99043e9179954c46ab6a6107255f70f6",
            "99c02267153a4bc1b0719b0e96ae121a",
            "186be8299d2c438288be58e94ea03ba9"
          ]
        },
        "outputId": "84c945f8-1cf6-47dd-f6c6-bfdca0f8c891"
      },
      "source": [
        "model = ElectraForSequenceClassification.from_pretrained(\"google/electra-base-discriminator\", num_labels=8).to(device)\n",
        "#model = ElectraForSequenceClassification.from_pretrained('google/electra-small-generator', num_labels=8)\n",
        "#model.cuda()\n",
        "\n",
        "# 한번 실행해보기\n",
        "#text, attention_mask, y = train_dataset[0]\n",
        "#model(text.unsqueeze(0).to(device), attention_mask=attention_mask.unsqueeze(0).to(device))"
      ],
      "execution_count": 13,
      "outputs": [
        {
          "output_type": "display_data",
          "data": {
            "application/vnd.jupyter.widget-view+json": {
              "model_id": "8b44ae3d83b54ff6a3612f746abf0b29",
              "version_minor": 0,
              "version_major": 2
            },
            "text/plain": [
              "HBox(children=(FloatProgress(value=0.0, description='Downloading', max=467.0, style=ProgressStyle(description_…"
            ]
          },
          "metadata": {
            "tags": []
          }
        },
        {
          "output_type": "stream",
          "text": [
            "\n"
          ],
          "name": "stdout"
        },
        {
          "output_type": "display_data",
          "data": {
            "application/vnd.jupyter.widget-view+json": {
              "model_id": "e9ed23f4bd6a427bba672cf3e9afc833",
              "version_minor": 0,
              "version_major": 2
            },
            "text/plain": [
              "HBox(children=(FloatProgress(value=0.0, description='Downloading', max=440343552.0, style=ProgressStyle(descri…"
            ]
          },
          "metadata": {
            "tags": []
          }
        },
        {
          "output_type": "stream",
          "text": [
            "\n"
          ],
          "name": "stdout"
        },
        {
          "output_type": "stream",
          "text": [
            "Some weights of the model checkpoint at google/electra-base-discriminator were not used when initializing ElectraForSequenceClassification: ['discriminator_predictions.dense.weight', 'discriminator_predictions.dense.bias', 'discriminator_predictions.dense_prediction.weight', 'discriminator_predictions.dense_prediction.bias']\n",
            "- This IS expected if you are initializing ElectraForSequenceClassification from the checkpoint of a model trained on another task or with another architecture (e.g. initializing a BertForSequenceClassification model from a BertForPreTraining model).\n",
            "- This IS NOT expected if you are initializing ElectraForSequenceClassification from the checkpoint of a model that you expect to be exactly identical (initializing a BertForSequenceClassification model from a BertForSequenceClassification model).\n",
            "Some weights of ElectraForSequenceClassification were not initialized from the model checkpoint at google/electra-base-discriminator and are newly initialized: ['classifier.dense.weight', 'classifier.dense.bias', 'classifier.out_proj.weight', 'classifier.out_proj.bias']\n",
            "You should probably TRAIN this model on a down-stream task to be able to use it for predictions and inference.\n"
          ],
          "name": "stderr"
        }
      ]
    },
    {
      "cell_type": "code",
      "metadata": {
        "id": "edb0aIFaXr4D"
      },
      "source": [
        "try:\r\n",
        "  model.load_state_dict(torch.load(\"model.pt\"))\r\n",
        "except:\r\n",
        "  print(\"error - model.load_state_dict(torch.load('model.pt'))\")\r\n",
        "else:\r\n",
        "  print(\"success - model.load_state_dict(torch.load('model.pt'))\")"
      ],
      "execution_count": null,
      "outputs": []
    },
    {
      "cell_type": "code",
      "metadata": {
        "id": "Dp6x4GHtz46u"
      },
      "source": [
        "# 모델 레이어 보기\n",
        "model"
      ],
      "execution_count": null,
      "outputs": []
    },
    {
      "cell_type": "markdown",
      "metadata": {
        "id": "wmou0LFl0R_X"
      },
      "source": [
        "# 학습(Learn) 하기"
      ]
    },
    {
      "cell_type": "code",
      "metadata": {
        "id": "6NpXwESN0Q4h"
      },
      "source": [
        "# google/electra-small-discriminator\n",
        "#epochs = 8\n",
        "#batch_size = 64\n",
        "\n",
        "# google/electra-base-discriminator\n",
        "epochs = 8\n",
        "batch_size = 16"
      ],
      "execution_count": 15,
      "outputs": []
    },
    {
      "cell_type": "code",
      "metadata": {
        "id": "XPzxoo4H274J"
      },
      "source": [
        "optimizer = AdamW(model.parameters(), \n",
        "                  lr=1e-5, # 학습률\n",
        "                  eps = 1e-8 # 0으로 나누는 것을 방지하기 위한 epsilon 값\n",
        "                  )\n",
        "train_loader = DataLoader(train_dataset, batch_size=batch_size, shuffle=True)"
      ],
      "execution_count": 16,
      "outputs": []
    },
    {
      "cell_type": "code",
      "metadata": {
        "id": "M-BRNeE226HH",
        "colab": {
          "base_uri": "https://localhost:8080/",
          "height": 387,
          "referenced_widgets": [
            "2220ad1006bc469b9bc3628f93d53964",
            "b3d1ff75bbeb473cafb33d7f68417a34",
            "a25b79b3061047f2bc2b09efe8a38b2c",
            "7f9070883fab48c2b550dcb44d0f2880",
            "cee93e42171848d0bcac331df39071ee",
            "e0cd990bbd8547e0aab55c4190aead24",
            "93750361af124ff796755d80e574eb7d",
            "0d1091ba5906420f95a391e2c80088c6",
            "1c2c1e67e7a94564a7fdbf081012cfa8",
            "c91882b559a0476496e99fd5377d1fc1",
            "8bfb25554b3b4ff795d2283cdf5c7135",
            "4de56a6f66c44842ab0fa2f0e0dd81aa",
            "f86809402ca94da4860905cef164a283",
            "ccc446c9c35d433a85638d8b6a2b33ee",
            "c13a604fe8714c0383536f86a4acb643",
            "439d6c44d47d45fd82e776f0445755e9",
            "dd7f918ccecd49feba1c884f38a315e2",
            "1b5634cdd6504fe89b3bb47da227a3b6",
            "c410827c47a34d76b3a14071263a5969",
            "fddd5e37e92d4159b1536110f07a9231",
            "374cfb9272ac4e8e832568fe0b106d17",
            "567386cca9074fd6a14f507d712a3601",
            "fcd8c40e767d4d9686805dc569a090e0",
            "bdf7d4f404784051b73a428064aa20d6"
          ]
        },
        "outputId": "e19d4d52-3656-4e5c-a059-810713ba5802"
      },
      "source": [
        "losses = []\n",
        "accuracies = []\n",
        "\n",
        "# 그래디언트 초기화\n",
        "# model.zero_grad()\n",
        "\n",
        "for i in range(epochs):\n",
        "  total_loss = 0.0\n",
        "  correct = 0\n",
        "  total = 0\n",
        "  batches = 0\n",
        "\n",
        "  # 훈련모드로 변경\n",
        "  model.train()\n",
        "\n",
        "  for input_ids_batch, attention_masks_batch, y_batch in tqdm(train_loader):\n",
        "    optimizer.zero_grad()\n",
        "    y_batch = y_batch.to(device)\n",
        "    y_pred = model(input_ids_batch.to(device), attention_mask=attention_masks_batch.to(device))[0]\n",
        "    loss = F.cross_entropy(y_pred, y_batch)\n",
        "    loss.backward() # Backward 수행으로 그래디언트 계산\n",
        "    #xm.optimizer_step(optimizer, barrier=True)  # TPU 사용시 코드\n",
        "    optimizer.step() # 그래디언트를 통해 가중치 파라미터 업데이트\n",
        "    #model.zero_grad() # 그래디언트 초기화\n",
        "\n",
        "    total_loss += loss.item()\n",
        "\n",
        "    _, predicted = torch.max(y_pred, 1)\n",
        "    #print(\"y_batch====\\n\",y_batch)\n",
        "    #print(\"predicted====\\n\",predicted)\n",
        "    correct += (predicted == y_batch).sum()\n",
        "    total += len(y_batch)\n",
        "\n",
        "    batches += 1\n",
        "    if batches % 100 == 0:\n",
        "      print(\"Batch Loss:\", total_loss, \"Accuracy:\", correct.float() / total)\n",
        "  \n",
        "  losses.append(total_loss)\n",
        "  accuracies.append(correct.float() / total)\n",
        "  print(\"Train Loss:\", total_loss, \"Accuracy:\", correct.float() / total)"
      ],
      "execution_count": null,
      "outputs": [
        {
          "output_type": "display_data",
          "data": {
            "application/vnd.jupyter.widget-view+json": {
              "model_id": "2220ad1006bc469b9bc3628f93d53964",
              "version_minor": 0,
              "version_major": 2
            },
            "text/plain": [
              "HBox(children=(FloatProgress(value=0.0, max=369.0), HTML(value='')))"
            ]
          },
          "metadata": {
            "tags": []
          }
        },
        {
          "output_type": "stream",
          "text": [
            "/usr/local/lib/python3.6/dist-packages/transformers/tokenization_utils_base.py:2179: FutureWarning: The `pad_to_max_length` argument is deprecated and will be removed in a future version, use `padding=True` or `padding='longest'` to pad to the longest sequence in the batch, or use `padding='max_length'` to pad to a max length. In this case, you can give a specific length with `max_length` (e.g. `max_length=45`) or leave max_length to None to pad to the maximal input size of the model (e.g. 512 for Bert).\n",
            "  FutureWarning,\n"
          ],
          "name": "stderr"
        },
        {
          "output_type": "stream",
          "text": [
            "Batch Loss: 169.30878913402557 Accuracy: tensor(0.4353, device='cuda:0')\n",
            "Batch Loss: 314.367573261261 Accuracy: tensor(0.4691, device='cuda:0')\n",
            "Batch Loss: 453.4461009502411 Accuracy: tensor(0.4870, device='cuda:0')\n",
            "\n",
            "Train Loss: 546.1216524243355 Accuracy: tensor(0.4980, device='cuda:0')\n"
          ],
          "name": "stdout"
        },
        {
          "output_type": "display_data",
          "data": {
            "application/vnd.jupyter.widget-view+json": {
              "model_id": "1c2c1e67e7a94564a7fdbf081012cfa8",
              "version_minor": 0,
              "version_major": 2
            },
            "text/plain": [
              "HBox(children=(FloatProgress(value=0.0, max=369.0), HTML(value='')))"
            ]
          },
          "metadata": {
            "tags": []
          }
        },
        {
          "output_type": "stream",
          "text": [
            "Batch Loss: 125.82036751508713 Accuracy: tensor(0.5806, device='cuda:0')\n",
            "Batch Loss: 246.8473278284073 Accuracy: tensor(0.5873, device='cuda:0')\n",
            "Batch Loss: 364.6524531841278 Accuracy: tensor(0.5891, device='cuda:0')\n",
            "\n",
            "Train Loss: 446.29240787029266 Accuracy: tensor(0.5897, device='cuda:0')\n"
          ],
          "name": "stdout"
        },
        {
          "output_type": "display_data",
          "data": {
            "application/vnd.jupyter.widget-view+json": {
              "model_id": "dd7f918ccecd49feba1c884f38a315e2",
              "version_minor": 0,
              "version_major": 2
            },
            "text/plain": [
              "HBox(children=(FloatProgress(value=0.0, max=369.0), HTML(value='')))"
            ]
          },
          "metadata": {
            "tags": []
          }
        },
        {
          "output_type": "stream",
          "text": [
            "Batch Loss: 105.40949642658234 Accuracy: tensor(0.6428, device='cuda:0')\n",
            "Batch Loss: 210.3129233121872 Accuracy: tensor(0.6409, device='cuda:0')\n"
          ],
          "name": "stdout"
        }
      ]
    },
    {
      "cell_type": "code",
      "metadata": {
        "id": "IQK4R6n4JgVU"
      },
      "source": [
        "losses, accuracies"
      ],
      "execution_count": null,
      "outputs": []
    },
    {
      "cell_type": "markdown",
      "metadata": {
        "id": "qvEB8g7IFbsD"
      },
      "source": [
        "# 테스트 데이터셋 정확도 확인하기"
      ]
    },
    {
      "cell_type": "code",
      "metadata": {
        "id": "5QiALUqm4juf"
      },
      "source": [
        "# 평가모드로 변경\n",
        "model.eval()\n",
        "\n",
        "#test_loader = DataLoader(test_dataset, batch_size=32, shuffle=True)\n",
        "test_loader = DataLoader(train_dataset, batch_size=32, shuffle=True)\n",
        "\n",
        "test_correct = 0\n",
        "test_total = 0\n",
        "\n",
        "for input_ids_batch, attention_masks_batch, y_batch in tqdm(test_loader):\n",
        "  y_batch = y_batch.to(device)\n",
        "  y_pred = model(input_ids_batch.to(device), attention_mask=attention_masks_batch.to(device))[0]\n",
        "  _, predicted = torch.max(y_pred, 1)\n",
        "  test_correct += (predicted == y_batch).sum()\n",
        "  test_total += len(y_batch)\n",
        "\n",
        "print(\"Accuracy:\", test_correct.float() / test_total)"
      ],
      "execution_count": null,
      "outputs": []
    },
    {
      "cell_type": "markdown",
      "metadata": {
        "id": "xx2HslxKlbk_"
      },
      "source": [
        "# 모델 저장하기"
      ]
    },
    {
      "cell_type": "code",
      "metadata": {
        "id": "rrcPWEa5U8JZ"
      },
      "source": [
        "# 모델 저장하기\n",
        "torch.save(model.state_dict(), \"model.pt\")"
      ],
      "execution_count": null,
      "outputs": []
    },
    {
      "cell_type": "markdown",
      "metadata": {
        "id": "SiZgwE-VleG4"
      },
      "source": [
        "# 과제용 데이터 예측 및 맵핑"
      ]
    },
    {
      "cell_type": "code",
      "metadata": {
        "id": "EK4PsiNrh089"
      },
      "source": [
        "#과제용 데이터 예측\r\n",
        "# 데이터 로딩\r\n",
        "batchSize = 16\r\n",
        "sample_loader = DataLoader(sample_dataset, batch_size=batchSize, shuffle=False)\r\n",
        "\r\n",
        "sample_result = sample_dataset.dataset.copy(deep=True)\r\n",
        "print(sample_result)\r\n",
        "\r\n",
        "#평가모드로 변경\r\n",
        "model.eval()\r\n",
        "\r\n",
        "idx_s = 0\r\n",
        "idx_e = 0\r\n",
        "\r\n",
        "emotion_strDic = {0:'neutral',1:'surprise',2:'fear',3:'non-neutral',4:'joy',5:'sadness',6:'anger',7:'disgust'}\r\n",
        "\r\n",
        "for input_ids_batch, attention_masks_batch, y_batch in tqdm(sample_loader):\r\n",
        "  #y_batch = y_batch.to(device)\r\n",
        "  y_pred = model(input_ids_batch.to(device), attention_mask=attention_masks_batch.to(device))[0]\r\n",
        "  _, predicted = torch.max(y_pred, 1)\r\n",
        "\r\n",
        "  rsList = list(map(int, predicted)) # 결과를 한번에 저장하기 위해 LIST로 변환 처리\r\n",
        "  global idx_s, idx_e\r\n",
        "  idx_e += len(rsList) #해당 배치구간내에 index 끝값 계산\r\n",
        "  #print(\"index==\", idx_s, idx_e)\r\n",
        "  \r\n",
        "  sample_result['emotion'][idx_s : idx_e] = rsList\r\n",
        "  rsPred = [emotion_strDic[xx] for xx in rsList] # 숫자를 감정문자로 치환\r\n",
        "  sample_result['Predicted'][idx_s : idx_e] = rsPred  #배치구간을 한번에 업데이트\r\n",
        "  idx_s += len(rsList) #해당 배치구간내에 index 시작값은 윗줄 처리 후 증가\r\n",
        "\r\n",
        "print(sample_result)\r\n"
      ],
      "execution_count": null,
      "outputs": []
    },
    {
      "cell_type": "code",
      "metadata": {
        "id": "1UuBA5hRpScv"
      },
      "source": [
        "#torch.cuda.empty_cache() #GPU 캐쉬 데이터 삭제"
      ],
      "execution_count": null,
      "outputs": []
    },
    {
      "cell_type": "markdown",
      "metadata": {
        "id": "xZe_mZqqTl80"
      },
      "source": [
        "# 결과 파일 저장"
      ]
    },
    {
      "cell_type": "code",
      "metadata": {
        "id": "BF5PqoUNF92f"
      },
      "source": [
        "# 주어진 데이터의 결과를 파일로 저장\r\n",
        "#sample_csv = sample_result.to_csv('sample.csv')\r\n",
        "sample_csv = sample_result.to_csv('sample.csv',sep=',',na_rep='NaN', columns=['id','Predicted'],index=False)"
      ],
      "execution_count": null,
      "outputs": []
    },
    {
      "cell_type": "code",
      "metadata": {
        "id": "Cid0Vzi_SFSO"
      },
      "source": [
        "# 파일을 PC로 다운로드 하기\r\n",
        "from google.colab import files\r\n",
        "files.download('sample.csv')\r\n"
      ],
      "execution_count": null,
      "outputs": []
    }
  ]
}
